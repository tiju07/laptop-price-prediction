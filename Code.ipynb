{
 "cells": [
  {
   "cell_type": "code",
   "execution_count": 300,
   "id": "66f3fdad",
   "metadata": {
    "scrolled": true
   },
   "outputs": [],
   "source": [
    "import pandas as pd\n",
    "import numpy as np\n",
    "import seaborn as sns\n",
    "import matplotlib.pyplot as plt\n",
    "import warnings\n",
    "warnings.filterwarnings('ignore')\n",
    "%matplotlib inline\n",
    "sns.set()"
   ]
  },
  {
   "cell_type": "code",
   "execution_count": 222,
   "id": "5127ed32",
   "metadata": {},
   "outputs": [],
   "source": [
    "df = pd.read_csv('laptop_data.csv', index_col=0)"
   ]
  },
  {
   "cell_type": "code",
   "execution_count": 223,
   "id": "624cfd35",
   "metadata": {},
   "outputs": [
    {
     "data": {
      "text/html": [
       "<div>\n",
       "<style scoped>\n",
       "    .dataframe tbody tr th:only-of-type {\n",
       "        vertical-align: middle;\n",
       "    }\n",
       "\n",
       "    .dataframe tbody tr th {\n",
       "        vertical-align: top;\n",
       "    }\n",
       "\n",
       "    .dataframe thead th {\n",
       "        text-align: right;\n",
       "    }\n",
       "</style>\n",
       "<table border=\"1\" class=\"dataframe\">\n",
       "  <thead>\n",
       "    <tr style=\"text-align: right;\">\n",
       "      <th></th>\n",
       "      <th>Company</th>\n",
       "      <th>TypeName</th>\n",
       "      <th>Inches</th>\n",
       "      <th>ScreenResolution</th>\n",
       "      <th>Cpu</th>\n",
       "      <th>Ram</th>\n",
       "      <th>Memory</th>\n",
       "      <th>Gpu</th>\n",
       "      <th>OpSys</th>\n",
       "      <th>Weight</th>\n",
       "      <th>Price</th>\n",
       "    </tr>\n",
       "  </thead>\n",
       "  <tbody>\n",
       "    <tr>\n",
       "      <th>0</th>\n",
       "      <td>Apple</td>\n",
       "      <td>Ultrabook</td>\n",
       "      <td>13.3</td>\n",
       "      <td>IPS Panel Retina Display 2560x1600</td>\n",
       "      <td>Intel Core i5 2.3GHz</td>\n",
       "      <td>8GB</td>\n",
       "      <td>128GB SSD</td>\n",
       "      <td>Intel Iris Plus Graphics 640</td>\n",
       "      <td>macOS</td>\n",
       "      <td>1.37kg</td>\n",
       "      <td>71378.6832</td>\n",
       "    </tr>\n",
       "    <tr>\n",
       "      <th>1</th>\n",
       "      <td>Apple</td>\n",
       "      <td>Ultrabook</td>\n",
       "      <td>13.3</td>\n",
       "      <td>1440x900</td>\n",
       "      <td>Intel Core i5 1.8GHz</td>\n",
       "      <td>8GB</td>\n",
       "      <td>128GB Flash Storage</td>\n",
       "      <td>Intel HD Graphics 6000</td>\n",
       "      <td>macOS</td>\n",
       "      <td>1.34kg</td>\n",
       "      <td>47895.5232</td>\n",
       "    </tr>\n",
       "    <tr>\n",
       "      <th>2</th>\n",
       "      <td>HP</td>\n",
       "      <td>Notebook</td>\n",
       "      <td>15.6</td>\n",
       "      <td>Full HD 1920x1080</td>\n",
       "      <td>Intel Core i5 7200U 2.5GHz</td>\n",
       "      <td>8GB</td>\n",
       "      <td>256GB SSD</td>\n",
       "      <td>Intel HD Graphics 620</td>\n",
       "      <td>No OS</td>\n",
       "      <td>1.86kg</td>\n",
       "      <td>30636.0000</td>\n",
       "    </tr>\n",
       "    <tr>\n",
       "      <th>3</th>\n",
       "      <td>Apple</td>\n",
       "      <td>Ultrabook</td>\n",
       "      <td>15.4</td>\n",
       "      <td>IPS Panel Retina Display 2880x1800</td>\n",
       "      <td>Intel Core i7 2.7GHz</td>\n",
       "      <td>16GB</td>\n",
       "      <td>512GB SSD</td>\n",
       "      <td>AMD Radeon Pro 455</td>\n",
       "      <td>macOS</td>\n",
       "      <td>1.83kg</td>\n",
       "      <td>135195.3360</td>\n",
       "    </tr>\n",
       "    <tr>\n",
       "      <th>4</th>\n",
       "      <td>Apple</td>\n",
       "      <td>Ultrabook</td>\n",
       "      <td>13.3</td>\n",
       "      <td>IPS Panel Retina Display 2560x1600</td>\n",
       "      <td>Intel Core i5 3.1GHz</td>\n",
       "      <td>8GB</td>\n",
       "      <td>256GB SSD</td>\n",
       "      <td>Intel Iris Plus Graphics 650</td>\n",
       "      <td>macOS</td>\n",
       "      <td>1.37kg</td>\n",
       "      <td>96095.8080</td>\n",
       "    </tr>\n",
       "  </tbody>\n",
       "</table>\n",
       "</div>"
      ],
      "text/plain": [
       "  Company   TypeName  Inches                    ScreenResolution  \\\n",
       "0   Apple  Ultrabook    13.3  IPS Panel Retina Display 2560x1600   \n",
       "1   Apple  Ultrabook    13.3                            1440x900   \n",
       "2      HP   Notebook    15.6                   Full HD 1920x1080   \n",
       "3   Apple  Ultrabook    15.4  IPS Panel Retina Display 2880x1800   \n",
       "4   Apple  Ultrabook    13.3  IPS Panel Retina Display 2560x1600   \n",
       "\n",
       "                          Cpu   Ram               Memory  \\\n",
       "0        Intel Core i5 2.3GHz   8GB            128GB SSD   \n",
       "1        Intel Core i5 1.8GHz   8GB  128GB Flash Storage   \n",
       "2  Intel Core i5 7200U 2.5GHz   8GB            256GB SSD   \n",
       "3        Intel Core i7 2.7GHz  16GB            512GB SSD   \n",
       "4        Intel Core i5 3.1GHz   8GB            256GB SSD   \n",
       "\n",
       "                            Gpu  OpSys  Weight        Price  \n",
       "0  Intel Iris Plus Graphics 640  macOS  1.37kg   71378.6832  \n",
       "1        Intel HD Graphics 6000  macOS  1.34kg   47895.5232  \n",
       "2         Intel HD Graphics 620  No OS  1.86kg   30636.0000  \n",
       "3            AMD Radeon Pro 455  macOS  1.83kg  135195.3360  \n",
       "4  Intel Iris Plus Graphics 650  macOS  1.37kg   96095.8080  "
      ]
     },
     "execution_count": 223,
     "metadata": {},
     "output_type": "execute_result"
    }
   ],
   "source": [
    "df.head()"
   ]
  },
  {
   "cell_type": "code",
   "execution_count": 224,
   "id": "c6d01b28",
   "metadata": {},
   "outputs": [
    {
     "data": {
      "text/plain": [
       "Company             0\n",
       "TypeName            0\n",
       "Inches              0\n",
       "ScreenResolution    0\n",
       "Cpu                 0\n",
       "Ram                 0\n",
       "Memory              0\n",
       "Gpu                 0\n",
       "OpSys               0\n",
       "Weight              0\n",
       "Price               0\n",
       "dtype: int64"
      ]
     },
     "execution_count": 224,
     "metadata": {},
     "output_type": "execute_result"
    }
   ],
   "source": [
    "df.isnull().sum()"
   ]
  },
  {
   "cell_type": "code",
   "execution_count": 225,
   "id": "90ebefab",
   "metadata": {},
   "outputs": [
    {
     "data": {
      "text/plain": [
       "29"
      ]
     },
     "execution_count": 225,
     "metadata": {},
     "output_type": "execute_result"
    }
   ],
   "source": [
    "df.duplicated().sum()"
   ]
  },
  {
   "cell_type": "code",
   "execution_count": 226,
   "id": "2e391411",
   "metadata": {},
   "outputs": [
    {
     "name": "stdout",
     "output_type": "stream",
     "text": [
      "<class 'pandas.core.frame.DataFrame'>\n",
      "Int64Index: 1303 entries, 0 to 1302\n",
      "Data columns (total 11 columns):\n",
      " #   Column            Non-Null Count  Dtype  \n",
      "---  ------            --------------  -----  \n",
      " 0   Company           1303 non-null   object \n",
      " 1   TypeName          1303 non-null   object \n",
      " 2   Inches            1303 non-null   float64\n",
      " 3   ScreenResolution  1303 non-null   object \n",
      " 4   Cpu               1303 non-null   object \n",
      " 5   Ram               1303 non-null   object \n",
      " 6   Memory            1303 non-null   object \n",
      " 7   Gpu               1303 non-null   object \n",
      " 8   OpSys             1303 non-null   object \n",
      " 9   Weight            1303 non-null   object \n",
      " 10  Price             1303 non-null   float64\n",
      "dtypes: float64(2), object(9)\n",
      "memory usage: 122.2+ KB\n"
     ]
    }
   ],
   "source": [
    "df.info()"
   ]
  },
  {
   "cell_type": "code",
   "execution_count": 227,
   "id": "50a23989",
   "metadata": {},
   "outputs": [],
   "source": [
    "catvars = df.select_dtypes(include=['object']).columns\n",
    "numvars = [i for i in df.columns.values if i not in catvars]"
   ]
  },
  {
   "cell_type": "code",
   "execution_count": 228,
   "id": "09e8e078",
   "metadata": {},
   "outputs": [
    {
     "name": "stdout",
     "output_type": "stream",
     "text": [
      "Details of the column \"Company\" are: ['Apple' 'HP' 'Acer' 'Asus' 'Dell' 'Lenovo' 'Chuwi' 'MSI' 'Microsoft'\n",
      " 'Toshiba' 'Huawei' 'Xiaomi' 'Vero' 'Razer' 'Mediacom' 'Samsung' 'Google'\n",
      " 'Fujitsu' 'LG']\n",
      "------------------------------------------------------------------------------------------------------------------------------------------------------\n",
      "Details of the column \"TypeName\" are: ['Ultrabook' 'Notebook' 'Netbook' 'Gaming' '2 in 1 Convertible'\n",
      " 'Workstation']\n",
      "------------------------------------------------------------------------------------------------------------------------------------------------------\n",
      "Details of the column \"Inches\" are: [13.3 15.6 15.4 14.  12.  11.6 17.3 10.1 13.5 12.5 13.  18.4 13.9 12.3\n",
      " 17.  15.  14.1 11.3]\n",
      "------------------------------------------------------------------------------------------------------------------------------------------------------\n",
      "Details of the column \"ScreenResolution\" are: ['IPS Panel Retina Display 2560x1600' '1440x900' 'Full HD 1920x1080'\n",
      " 'IPS Panel Retina Display 2880x1800' '1366x768'\n",
      " 'IPS Panel Full HD 1920x1080' 'IPS Panel Retina Display 2304x1440'\n",
      " 'IPS Panel Full HD / Touchscreen 1920x1080'\n",
      " 'Full HD / Touchscreen 1920x1080' 'Touchscreen / Quad HD+ 3200x1800'\n",
      " 'IPS Panel Touchscreen 1920x1200' 'Touchscreen 2256x1504'\n",
      " 'Quad HD+ / Touchscreen 3200x1800' 'IPS Panel 1366x768'\n",
      " 'IPS Panel 4K Ultra HD / Touchscreen 3840x2160'\n",
      " 'IPS Panel Full HD 2160x1440' '4K Ultra HD / Touchscreen 3840x2160'\n",
      " 'Touchscreen 2560x1440' '1600x900' 'IPS Panel 4K Ultra HD 3840x2160'\n",
      " '4K Ultra HD 3840x2160' 'Touchscreen 1366x768'\n",
      " 'IPS Panel Full HD 1366x768' 'IPS Panel 2560x1440'\n",
      " 'IPS Panel Full HD 2560x1440' 'IPS Panel Retina Display 2736x1824'\n",
      " 'Touchscreen 2400x1600' '2560x1440' 'IPS Panel Quad HD+ 2560x1440'\n",
      " 'IPS Panel Quad HD+ 3200x1800'\n",
      " 'IPS Panel Quad HD+ / Touchscreen 3200x1800'\n",
      " 'IPS Panel Touchscreen 1366x768' '1920x1080'\n",
      " 'IPS Panel Full HD 1920x1200'\n",
      " 'IPS Panel Touchscreen / 4K Ultra HD 3840x2160'\n",
      " 'IPS Panel Touchscreen 2560x1440' 'Touchscreen / Full HD 1920x1080'\n",
      " 'Quad HD+ 3200x1800' 'Touchscreen / 4K Ultra HD 3840x2160'\n",
      " 'IPS Panel Touchscreen 2400x1600']\n",
      "------------------------------------------------------------------------------------------------------------------------------------------------------\n",
      "Details of the column \"Cpu\" are: ['Intel Core i5 2.3GHz' 'Intel Core i5 1.8GHz'\n",
      " 'Intel Core i5 7200U 2.5GHz' 'Intel Core i7 2.7GHz'\n",
      " 'Intel Core i5 3.1GHz' 'AMD A9-Series 9420 3GHz' 'Intel Core i7 2.2GHz'\n",
      " 'Intel Core i7 8550U 1.8GHz' 'Intel Core i5 8250U 1.6GHz'\n",
      " 'Intel Core i3 6006U 2GHz' 'Intel Core i7 2.8GHz'\n",
      " 'Intel Core M m3 1.2GHz' 'Intel Core i7 7500U 2.7GHz'\n",
      " 'Intel Core i7 2.9GHz' 'Intel Core i3 7100U 2.4GHz'\n",
      " 'Intel Atom x5-Z8350 1.44GHz' 'Intel Core i5 7300HQ 2.5GHz'\n",
      " 'AMD E-Series E2-9000e 1.5GHz' 'Intel Core i5 1.6GHz'\n",
      " 'Intel Core i7 8650U 1.9GHz' 'Intel Atom x5-Z8300 1.44GHz'\n",
      " 'AMD E-Series E2-6110 1.5GHz' 'AMD A6-Series 9220 2.5GHz'\n",
      " 'Intel Celeron Dual Core N3350 1.1GHz' 'Intel Core i3 7130U 2.7GHz'\n",
      " 'Intel Core i7 7700HQ 2.8GHz' 'Intel Core i5 2.0GHz'\n",
      " 'AMD Ryzen 1700 3GHz' 'Intel Pentium Quad Core N4200 1.1GHz'\n",
      " 'Intel Atom x5-Z8550 1.44GHz' 'Intel Celeron Dual Core N3060 1.6GHz'\n",
      " 'Intel Core i5 1.3GHz' 'AMD FX 9830P 3GHz' 'Intel Core i7 7560U 2.4GHz'\n",
      " 'AMD E-Series 6110 1.5GHz' 'Intel Core i5 6200U 2.3GHz'\n",
      " 'Intel Core M 6Y75 1.2GHz' 'Intel Core i5 7500U 2.7GHz'\n",
      " 'Intel Core i3 6006U 2.2GHz' 'AMD A6-Series 9220 2.9GHz'\n",
      " 'Intel Core i7 6920HQ 2.9GHz' 'Intel Core i5 7Y54 1.2GHz'\n",
      " 'Intel Core i7 7820HK 2.9GHz' 'Intel Xeon E3-1505M V6 3GHz'\n",
      " 'Intel Core i7 6500U 2.5GHz' 'AMD E-Series 9000e 1.5GHz'\n",
      " 'AMD A10-Series A10-9620P 2.5GHz' 'AMD A6-Series A6-9220 2.5GHz'\n",
      " 'Intel Core i5 2.9GHz' 'Intel Core i7 6600U 2.6GHz'\n",
      " 'Intel Core i3 6006U 2.0GHz' 'Intel Celeron Dual Core 3205U 1.5GHz'\n",
      " 'Intel Core i7 7820HQ 2.9GHz' 'AMD A10-Series 9600P 2.4GHz'\n",
      " 'Intel Core i7 7600U 2.8GHz' 'AMD A8-Series 7410 2.2GHz'\n",
      " 'Intel Celeron Dual Core 3855U 1.6GHz'\n",
      " 'Intel Pentium Quad Core N3710 1.6GHz' 'AMD A12-Series 9720P 2.7GHz'\n",
      " 'Intel Core i5 7300U 2.6GHz' 'AMD A12-Series 9720P 3.6GHz'\n",
      " 'Intel Celeron Quad Core N3450 1.1GHz'\n",
      " 'Intel Celeron Dual Core N3060 1.60GHz' 'Intel Core i5 6440HQ 2.6GHz'\n",
      " 'Intel Core i7 6820HQ 2.7GHz' 'AMD Ryzen 1600 3.2GHz'\n",
      " 'Intel Core i7 7Y75 1.3GHz' 'Intel Core i5 7440HQ 2.8GHz'\n",
      " 'Intel Core i7 7660U 2.5GHz' 'Intel Core i7 7700HQ 2.7GHz'\n",
      " 'Intel Core M m3-7Y30 2.2GHz' 'Intel Core i5 7Y57 1.2GHz'\n",
      " 'Intel Core i7 6700HQ 2.6GHz' 'Intel Core i3 6100U 2.3GHz'\n",
      " 'AMD A10-Series 9620P 2.5GHz' 'AMD E-Series 7110 1.8GHz'\n",
      " 'Intel Celeron Dual Core N3350 2.0GHz' 'AMD A9-Series A9-9420 3GHz'\n",
      " 'Intel Core i7 6820HK 2.7GHz' 'Intel Core M 7Y30 1.0GHz'\n",
      " 'Intel Xeon E3-1535M v6 3.1GHz' 'Intel Celeron Quad Core N3160 1.6GHz'\n",
      " 'Intel Core i5 6300U 2.4GHz' 'Intel Core i3 6100U 2.1GHz'\n",
      " 'AMD E-Series E2-9000 2.2GHz' 'Intel Celeron Dual Core N3050 1.6GHz'\n",
      " 'Intel Core M M3-6Y30 0.9GHz' 'AMD A9-Series 9420 2.9GHz'\n",
      " 'Intel Core i5 6300HQ 2.3GHz' 'AMD A6-Series 7310 2GHz'\n",
      " 'Intel Atom Z8350 1.92GHz' 'Intel Xeon E3-1535M v5 2.9GHz'\n",
      " 'Intel Core i5 6260U 1.8GHz' 'Intel Pentium Dual Core N4200 1.1GHz'\n",
      " 'Intel Celeron Quad Core N3710 1.6GHz' 'Intel Core M 1.2GHz'\n",
      " 'AMD A12-Series 9700P 2.5GHz' 'Intel Core i7 7500U 2.5GHz'\n",
      " 'Intel Pentium Dual Core 4405U 2.1GHz' 'AMD A4-Series 7210 2.2GHz'\n",
      " 'Intel Core i7 6560U 2.2GHz' 'Intel Core M m7-6Y75 1.2GHz'\n",
      " 'AMD FX 8800P 2.1GHz' 'Intel Core M M7-6Y75 1.2GHz'\n",
      " 'Intel Core i5 7200U 2.50GHz' 'Intel Core i5 7200U 2.70GHz'\n",
      " 'Intel Atom X5-Z8350 1.44GHz' 'Intel Core i5 7200U 2.7GHz'\n",
      " 'Intel Core M 1.1GHz' 'Intel Pentium Dual Core 4405Y 1.5GHz'\n",
      " 'Intel Pentium Quad Core N3700 1.6GHz' 'Intel Core M 6Y54 1.1GHz'\n",
      " 'Intel Core i7 6500U 2.50GHz' 'Intel Celeron Dual Core N3350 2GHz'\n",
      " 'Samsung Cortex A72&A53 2.0GHz' 'AMD E-Series 9000 2.2GHz'\n",
      " 'Intel Core M 6Y30 0.9GHz' 'AMD A9-Series 9410 2.9GHz']\n",
      "------------------------------------------------------------------------------------------------------------------------------------------------------\n",
      "Details of the column \"Ram\" are: ['8GB' '16GB' '4GB' '2GB' '12GB' '6GB' '32GB' '24GB' '64GB']\n",
      "------------------------------------------------------------------------------------------------------------------------------------------------------\n",
      "Details of the column \"Memory\" are: ['128GB SSD' '128GB Flash Storage' '256GB SSD' '512GB SSD' '500GB HDD'\n",
      " '256GB Flash Storage' '1TB HDD' '32GB Flash Storage'\n",
      " '128GB SSD +  1TB HDD' '256GB SSD +  256GB SSD' '64GB Flash Storage'\n",
      " '256GB SSD +  1TB HDD' '256GB SSD +  2TB HDD' '32GB SSD' '2TB HDD'\n",
      " '64GB SSD' '1.0TB Hybrid' '512GB SSD +  1TB HDD' '1TB SSD'\n",
      " '256GB SSD +  500GB HDD' '128GB SSD +  2TB HDD' '512GB SSD +  512GB SSD'\n",
      " '16GB SSD' '16GB Flash Storage' '512GB SSD +  256GB SSD'\n",
      " '512GB SSD +  2TB HDD' '64GB Flash Storage +  1TB HDD' '180GB SSD'\n",
      " '1TB HDD +  1TB HDD' '32GB HDD' '1TB SSD +  1TB HDD'\n",
      " '512GB Flash Storage' '128GB HDD' '240GB SSD' '8GB SSD' '508GB Hybrid'\n",
      " '1.0TB HDD' '512GB SSD +  1.0TB Hybrid' '256GB SSD +  1.0TB Hybrid']\n",
      "------------------------------------------------------------------------------------------------------------------------------------------------------\n",
      "Details of the column \"Gpu\" are: ['Intel Iris Plus Graphics 640' 'Intel HD Graphics 6000'\n",
      " 'Intel HD Graphics 620' 'AMD Radeon Pro 455'\n",
      " 'Intel Iris Plus Graphics 650' 'AMD Radeon R5' 'Intel Iris Pro Graphics'\n",
      " 'Nvidia GeForce MX150' 'Intel UHD Graphics 620' 'Intel HD Graphics 520'\n",
      " 'AMD Radeon Pro 555' 'AMD Radeon R5 M430' 'Intel HD Graphics 615'\n",
      " 'AMD Radeon Pro 560' 'Nvidia GeForce 940MX' 'Intel HD Graphics 400'\n",
      " 'Nvidia GeForce GTX 1050' 'AMD Radeon R2' 'AMD Radeon 530'\n",
      " 'Nvidia GeForce 930MX' 'Intel HD Graphics' 'Intel HD Graphics 500'\n",
      " 'Nvidia GeForce 930MX ' 'Nvidia GeForce GTX 1060' 'Nvidia GeForce 150MX'\n",
      " 'Intel Iris Graphics 540' 'AMD Radeon RX 580' 'Nvidia GeForce 920MX'\n",
      " 'AMD Radeon R4 Graphics' 'AMD Radeon 520' 'Nvidia GeForce GTX 1070'\n",
      " 'Nvidia GeForce GTX 1050 Ti' 'Nvidia GeForce MX130' 'AMD R4 Graphics'\n",
      " 'Nvidia GeForce GTX 940MX' 'AMD Radeon RX 560' 'Nvidia GeForce 920M'\n",
      " 'AMD Radeon R7 M445' 'AMD Radeon RX 550' 'Nvidia GeForce GTX 1050M'\n",
      " 'Intel HD Graphics 515' 'AMD Radeon R5 M420' 'Intel HD Graphics 505'\n",
      " 'Nvidia GTX 980 SLI' 'AMD R17M-M1-70' 'Nvidia GeForce GTX 1080'\n",
      " 'Nvidia Quadro M1200' 'Nvidia GeForce 920MX ' 'Nvidia GeForce GTX 950M'\n",
      " 'AMD FirePro W4190M ' 'Nvidia GeForce GTX 980M' 'Intel Iris Graphics 550'\n",
      " 'Nvidia GeForce 930M' 'Intel HD Graphics 630' 'AMD Radeon R5 430'\n",
      " 'Nvidia GeForce GTX 940M' 'Intel HD Graphics 510' 'Intel HD Graphics 405'\n",
      " 'AMD Radeon RX 540' 'Nvidia GeForce GT 940MX' 'AMD FirePro W5130M'\n",
      " 'Nvidia Quadro M2200M' 'AMD Radeon R4' 'Nvidia Quadro M620'\n",
      " 'AMD Radeon R7 M460' 'Intel HD Graphics 530' 'Nvidia GeForce GTX 965M'\n",
      " 'Nvidia GeForce GTX1080' 'Nvidia GeForce GTX1050 Ti'\n",
      " 'Nvidia GeForce GTX 960M' 'AMD Radeon R2 Graphics' 'Nvidia Quadro M620M'\n",
      " 'Nvidia GeForce GTX 970M' 'Nvidia GeForce GTX 960<U+039C>'\n",
      " 'Intel Graphics 620' 'Nvidia GeForce GTX 960' 'AMD Radeon R5 520'\n",
      " 'AMD Radeon R7 M440' 'AMD Radeon R7' 'Nvidia Quadro M520M'\n",
      " 'Nvidia Quadro M2200' 'Nvidia Quadro M2000M' 'Intel HD Graphics 540'\n",
      " 'Nvidia Quadro M1000M' 'AMD Radeon 540' 'Nvidia GeForce GTX 1070M'\n",
      " 'Nvidia GeForce GTX1060' 'Intel HD Graphics 5300' 'AMD Radeon R5 M420X'\n",
      " 'AMD Radeon R7 Graphics' 'Nvidia GeForce 920' 'Nvidia GeForce 940M'\n",
      " 'Nvidia GeForce GTX 930MX' 'AMD Radeon R7 M465' 'AMD Radeon R3'\n",
      " 'Nvidia GeForce GTX 1050Ti' 'AMD Radeon R7 M365X' 'AMD Radeon R9 M385'\n",
      " 'Intel HD Graphics 620 ' 'Nvidia Quadro 3000M' 'Nvidia GeForce GTX 980 '\n",
      " 'AMD Radeon R5 M330' 'AMD FirePro W4190M' 'AMD FirePro W6150M'\n",
      " 'AMD Radeon R5 M315' 'Nvidia Quadro M500M' 'AMD Radeon R7 M360'\n",
      " 'Nvidia Quadro M3000M' 'Nvidia GeForce 960M' 'ARM Mali T860 MP4']\n",
      "------------------------------------------------------------------------------------------------------------------------------------------------------\n",
      "Details of the column \"OpSys\" are: ['macOS' 'No OS' 'Windows 10' 'Mac OS X' 'Linux' 'Android' 'Windows 10 S'\n",
      " 'Chrome OS' 'Windows 7']\n",
      "------------------------------------------------------------------------------------------------------------------------------------------------------\n",
      "Details of the column \"Weight\" are: ['1.37kg' '1.34kg' '1.86kg' '1.83kg' '2.1kg' '2.04kg' '1.3kg' '1.6kg'\n",
      " '2.2kg' '0.92kg' '1.22kg' '0.98kg' '2.5kg' '1.62kg' '1.91kg' '2.3kg'\n",
      " '1.35kg' '1.88kg' '1.89kg' '1.65kg' '2.71kg' '1.2kg' '1.44kg' '2.8kg'\n",
      " '2kg' '2.65kg' '2.77kg' '3.2kg' '0.69kg' '1.49kg' '2.4kg' '2.13kg'\n",
      " '2.43kg' '1.7kg' '1.4kg' '1.8kg' '1.9kg' '3kg' '1.252kg' '2.7kg' '2.02kg'\n",
      " '1.63kg' '1.96kg' '1.21kg' '2.45kg' '1.25kg' '1.5kg' '2.62kg' '1.38kg'\n",
      " '1.58kg' '1.85kg' '1.23kg' '1.26kg' '2.16kg' '2.36kg' '2.05kg' '1.32kg'\n",
      " '1.75kg' '0.97kg' '2.9kg' '2.56kg' '1.48kg' '1.74kg' '1.1kg' '1.56kg'\n",
      " '2.03kg' '1.05kg' '4.4kg' '1.90kg' '1.29kg' '2.0kg' '1.95kg' '2.06kg'\n",
      " '1.12kg' '1.42kg' '3.49kg' '3.35kg' '2.23kg' '4.42kg' '2.69kg' '2.37kg'\n",
      " '4.7kg' '3.6kg' '2.08kg' '4.3kg' '1.68kg' '1.41kg' '4.14kg' '2.18kg'\n",
      " '2.24kg' '2.67kg' '2.14kg' '1.36kg' '2.25kg' '2.15kg' '2.19kg' '2.54kg'\n",
      " '3.42kg' '1.28kg' '2.33kg' '1.45kg' '2.79kg' '1.84kg' '2.6kg' '2.26kg'\n",
      " '3.25kg' '1.59kg' '1.13kg' '1.78kg' '1.10kg' '1.15kg' '1.27kg' '1.43kg'\n",
      " '2.31kg' '1.16kg' '1.64kg' '2.17kg' '1.47kg' '3.78kg' '1.79kg' '0.91kg'\n",
      " '1.99kg' '4.33kg' '1.93kg' '1.87kg' '2.63kg' '3.4kg' '3.14kg' '1.94kg'\n",
      " '1.24kg' '4.6kg' '4.5kg' '2.73kg' '1.39kg' '2.29kg' '2.59kg' '2.94kg'\n",
      " '1.14kg' '3.8kg' '3.31kg' '1.09kg' '3.21kg' '1.19kg' '1.98kg' '1.17kg'\n",
      " '4.36kg' '1.71kg' '2.32kg' '4.2kg' '1.55kg' '0.81kg' '1.18kg' '2.72kg'\n",
      " '1.31kg' '0.920kg' '3.74kg' '1.76kg' '1.54kg' '2.83kg' '2.07kg' '2.38kg'\n",
      " '3.58kg' '1.08kg' '2.20kg' '2.75kg' '1.70kg' '2.99kg' '1.11kg' '2.09kg'\n",
      " '4kg' '3.0kg' '0.99kg' '3.52kg' '2.591kg' '2.21kg' '3.3kg' '2.191kg'\n",
      " '2.34kg' '4.0kg']\n",
      "------------------------------------------------------------------------------------------------------------------------------------------------------\n",
      "Details of the column \"Price\" are: [ 71378.6832  47895.5232  30636.     135195.336   96095.808   21312.\n",
      " 114017.6016  61735.536   79653.6     41025.6     20986.992   18381.0672\n",
      " 130001.6016  26581.392   67260.672   80908.344   39693.6    152274.24\n",
      "  26586.72    52161.12    10224.432   53226.72    13746.24    43636.32\n",
      "  35111.52    22305.1392  58554.72    42624.      69157.44    47738.88\n",
      "  13053.0672  10602.72    23389.92    99580.32    53173.44    13266.72\n",
      "  19553.76    26037.4032  46833.12    20725.92    79866.72    27864.9072\n",
      "  36336.96    75604.32    19660.32    69210.72    34045.92    24828.48\n",
      "  16996.32    44808.48    21231.5472  58767.84    20459.52    40908.384\n",
      "  31232.2032 130482.72    22111.2     31914.72    50136.48    36763.2\n",
      " 105654.24    23373.4032  12201.12    29250.72    50562.72    58021.92\n",
      "  50882.4     46353.6     58341.6     27652.32    45554.4     28238.4\n",
      "  52054.56    58403.4048  80452.8     45820.8     21258.72    21045.6\n",
      "  71874.72    37242.72    31914.1872  77202.72    87858.72    36709.92\n",
      "  63776.16    63669.6     55890.72    45128.16    31962.672   25840.8\n",
      "  30742.56    66546.72    38308.32    18594.72    34472.16    59620.32\n",
      "  71395.2     22105.872   63563.04    78854.4     67239.36    73473.12\n",
      "  74538.72    38468.16    86793.12    74538.1872  57755.52    60223.9824\n",
      "  30049.92    59567.04    25521.12   119427.12    33513.12    67718.88\n",
      "  24029.28    13799.52    43263.36    14811.3072  74378.88    49443.84\n",
      "  34045.3872  23922.72    47099.52    30476.16    31861.44    52640.64\n",
      "  13445.7408  49976.64    34898.4     59461.5456  46300.32    32074.56\n",
      " 107305.92    18328.32   108105.12    23816.16    66560.5728  47898.72\n",
      "  26533.44   100699.2     57648.96    32980.32    70063.2     21471.84\n",
      "  42890.4     38787.84    57489.12    18541.44    95850.72    19367.8128\n",
      "  56502.9072  45501.12    40173.12    16463.52    26053.92    49177.44\n",
      "  24455.52   149130.72    43316.64    98514.72    42251.04    63882.72\n",
      "  82530.72   127712.16    41505.12    52693.92    57808.8    150462.72\n",
      "  13852.8     53274.672   37189.44    44701.92    48697.92   324954.72\n",
      "  51095.52    55677.6     98301.6     26267.04    39533.76    93186.72\n",
      " 162770.4     74485.44   103842.72    31808.16    74964.96    49650.5664\n",
      "  31381.92    54931.68    61218.72    68145.12    36089.208   72620.64\n",
      "  42304.32   130873.7952  44328.96    45768.0528  40972.32    47472.48\n",
      "  67612.32    21258.1872  17582.4     45767.52    20779.2    207259.2\n",
      "  45074.88    61005.6     47365.92    52480.8     29783.52   159786.72\n",
      "  35964.     108691.2     24988.32    37402.56    23757.552   56423.52\n",
      " 133146.72    90522.72    60845.76    23656.32    35004.96    30103.2\n",
      "  42570.72    24881.76    54239.04    46886.4    104370.192   39164.5296\n",
      "  37992.3696  45234.72    22803.84    44169.12    30849.12    50669.28\n",
      "  58448.16    62817.12    35112.0528  63243.36    97449.12    39373.92\n",
      " 153705.3408  78215.04    27119.52   113060.16    34578.72    67399.2\n",
      "  19180.2672 105228.      55571.04   111834.72    14652.      44968.32\n",
      "  24503.472   52214.4     68837.76    58288.32    48058.56    15557.76\n",
      "  55938.672   71128.8    140605.92    50243.04    71075.52    67559.04\n",
      "  60952.32    14651.4672  60885.72    14646.672   38148.48    84129.12\n",
      "  60153.12    14865.12    85672.1088  19980.      35324.64   108020.9376\n",
      "  69477.12    75071.52    92615.0256  74751.84    51729.552   17155.6272\n",
      "  29696.6736  76030.56    50349.6     43103.52    93240.      22697.28\n",
      " 117162.72    46300.8528  26053.3872  29463.84    15238.08    63456.48\n",
      "  21498.48    88178.4     93181.392  121584.96    72940.32   113752.8\n",
      " 133679.52    55357.92    84768.48    36975.7872  41498.1936  65510.9568\n",
      " 144495.36   139860.      16303.68    81465.12    60978.96   119826.72\n",
      "  99793.44    93080.16    89510.4     21791.52    16221.096  102564.\n",
      " 103523.04    42038.4528  31909.392   79920.      28768.536   64755.4464\n",
      " 101178.72    61751.52    60867.072  106506.72    15930.72    14332.32\n",
      "  53812.8    130269.6     90309.6     18488.16   126912.96    39906.72\n",
      "  76137.12    23539.104  106187.04    54757.9872 137941.92    81731.52\n",
      "  71661.6    109010.88    34093.872   28984.32    23176.8    111355.2\n",
      "  16197.12    40439.52    98994.24    61485.12    67932.      98133.768\n",
      "  39427.2    128298.24    72673.92    89084.16    31254.048   38681.28\n",
      "  13261.392  124568.64    95797.44   103896.      53918.8272  71928.\n",
      "  47893.392   48538.08    18115.2     32979.7872  85194.72    14119.2\n",
      "  65214.72    32660.64    70489.44    44542.08    64961.1072  74589.336\n",
      "  13053.6     27783.9216 158135.04    80133.12    68184.0144  31168.8\n",
      "  73366.56   160520.3856  42486.0048  39207.1536  42517.44    37589.04\n",
      "  41824.8     24634.008   21152.16    92121.12    59513.2272 143802.72\n",
      "  28992.312   68198.4     11934.72    13586.4     30310.992   32921.712\n",
      "  33566.4    104695.2     52747.2     99153.5472  44222.4     36496.8\n",
      "  99367.2    141884.64   145401.12    39907.2528  53733.9456  81912.1392\n",
      "  15717.6    125154.72    79813.44    89137.44    32447.52    94305.6\n",
      "  32127.84    28185.12   107892.      78534.72    88977.6     93932.64\n",
      "  64948.32    35616.6144  17529.12    24775.2    122490.72   261018.72\n",
      "  46833.6528  23650.992   19127.52    62231.04    30316.32    74005.92\n",
      " 120831.5808  20193.12    59886.72    78055.2     41345.28    49656.96\n",
      "  12733.92    24935.04    34046.4528  96969.6    101232.      78801.12\n",
      "  48304.7136  93635.3376 127818.72    59087.52    27753.552  130536.\n",
      "  62284.32    23976.      14598.72    48964.32   138474.72    64628.64\n",
      "  84395.52    37775.52    77250.672   63499.104   19441.872   56689.92\n",
      "  60472.8     63722.88   167691.8736  65481.12    22324.32    28504.8\n",
      "  28717.92    79215.1056  67026.24    21951.36    99519.048   43580.376\n",
      "  55091.52    68944.32    26373.6     53168.112  109277.28   149916.6\n",
      "  32639.8608  29073.2976  16943.04   101657.7072 137995.2     51841.44\n",
      "  35644.32   100006.56    22857.12    33110.856   42357.6     98834.4\n",
      "  34898.9328  15877.44    76012.4448  45664.6896  63936.      89864.1792\n",
      "  44574.048  194972.832   71847.0144  26101.872   31409.6256 103096.8\n",
      "  34632.      51148.8    128884.32   111593.8944  21887.424   64308.96\n",
      "  35431.2     81784.8    175770.72    60031.1088 233845.92    25308.\n",
      "  58394.88    45282.672   83170.08   152859.7872  55837.44    99047.52\n",
      "  83063.52    25059.7152  62938.0656  54345.6     66280.32   126273.6\n",
      "  33886.08   154458.72    31003.632  191211.264  125208.      93985.92\n",
      " 100752.48    71341.92    10810.512  104961.6     62071.2    124142.4\n",
      "  43156.8    110017.872   39640.32    41558.4     89457.12   128671.2\n",
      "  51202.08    42081.0768  20512.8    133467.4656  40226.4     58075.2\n",
      "  99900.      72354.24    18914.4    292986.72    63190.08    87912.\n",
      " 147832.2864  17316.      31435.2    163723.5792  48484.8     38041.3872\n",
      "  99633.6     32767.2     54665.28   121318.56    46087.2    101391.84\n",
      "  41931.36   136343.52    45323.1648  68464.8     54185.76   119347.2\n",
      "  94731.84    56210.4     73952.64    39160.8     90043.2     49816.8\n",
      "  48618.      90576.      36486.144   24279.696   72988.272   15824.16\n",
      " 141138.72    78588.      49497.12    47952.      32713.92   107257.968\n",
      " 109170.72   104588.1072  79014.24    42037.92    64202.4    165168.\n",
      "  54291.7872  46939.68    59668.8048  36496.2672  69103.6272  97236.\n",
      "  38889.072   37725.4368  15392.592   58874.4     88924.32    29762.208\n",
      "  87325.92   146946.24    78438.816   94572.      77788.8     79333.3872\n",
      " 168045.12    41292.      93772.8     53759.52    95371.2     45101.52\n",
      "  24808.2336  43956.     167778.72    37029.6    104587.5744 149184.\n",
      "  62870.4    109218.672   53386.56    48751.2     42943.68    63349.92\n",
      " 101658.24    14418.6336  61272.      20246.4    111301.92    67132.8\n",
      "  29144.16    58607.4672  55904.5728  36443.52    81997.92    84715.2\n",
      " 100550.5488  64468.8     41025.0672  79387.2    118761.12    42410.3472\n",
      "  63159.7104  55754.3232  56476.8     86526.72    57542.4     65480.5872\n",
      "  91908.      56633.976   53839.9728  11231.424   75924.      55922.688\n",
      "  53280.     112065.9552  78268.32    82351.6992 122010.6672  15339.312\n",
      " 139593.6    120093.12    37570.392   96916.32    57009.6     52746.6672\n",
      " 102777.12    77682.24   211788.      42517.9728  70809.12    69264.\n",
      "  25679.8944  91294.7472  28771.2     50083.2    172627.2     34433.2656\n",
      "  39960.      54931.1472  20619.36    20965.1472  18434.3472  43601.688\n",
      "  34035.264   26640.      60480.792   62176.1616  11135.52    75289.968\n",
      "  80516.2032  46193.76    21205.44    40980.312  104908.32   146519.4672\n",
      "  54825.12   118601.28    69929.4672  10442.88    80612.64    27899.0064\n",
      " 100965.6    109244.2464  14811.84    40066.56    32820.48   210424.032\n",
      "  41771.52   115709.2416 130003.2     60888.384  122381.496   53807.472\n",
      " 124621.92    18061.92   119916.2304  25515.2592  79536.384   42010.7472\n",
      " 108744.48    94252.32    25414.0272  74059.2     36177.12    69530.4\n",
      " 114731.5536  87219.36    44275.68    47686.1328  17742.24    48431.52\n",
      "  36816.48    61964.64    70702.56    19607.04   114552.      14492.16\n",
      " 109165.392  142790.4    103842.1872   9270.72    67772.16    78647.1408\n",
      "  91288.3536  78694.56    27804.7008 186426.72    24988.8528  85141.44\n",
      "  25467.84   117119.5632  39267.36    31838.5296  19276.704   85248.\n",
      "  46620.     123876.      30529.44    96596.64    17262.72    57116.16\n",
      "  23655.7872  26107.2     47685.6     44382.7728  38841.12    15397.92\n",
      "  29303.4672  42943.1472  38378.6496  33992.64    40705.92  ]\n",
      "------------------------------------------------------------------------------------------------------------------------------------------------------\n"
     ]
    }
   ],
   "source": [
    "def uniquevals(col):\n",
    "    print(f'Details of the column \"{col}\" are: {df[col].unique()}')\n",
    "\n",
    "def valuecounts(col):\n",
    "    print(f'Value counts of the column \"{col}\" are: {df[col].value_counts()}')\n",
    "    \n",
    "for col in df.columns.values:\n",
    "    uniquevals(col)\n",
    "    print('--'*75)"
   ]
  },
  {
   "cell_type": "code",
   "execution_count": 229,
   "id": "ff03c2c4",
   "metadata": {},
   "outputs": [
    {
     "data": {
      "text/html": [
       "<div>\n",
       "<style scoped>\n",
       "    .dataframe tbody tr th:only-of-type {\n",
       "        vertical-align: middle;\n",
       "    }\n",
       "\n",
       "    .dataframe tbody tr th {\n",
       "        vertical-align: top;\n",
       "    }\n",
       "\n",
       "    .dataframe thead th {\n",
       "        text-align: right;\n",
       "    }\n",
       "</style>\n",
       "<table border=\"1\" class=\"dataframe\">\n",
       "  <thead>\n",
       "    <tr style=\"text-align: right;\">\n",
       "      <th></th>\n",
       "      <th>Company</th>\n",
       "      <th>TypeName</th>\n",
       "      <th>Inches</th>\n",
       "      <th>ScreenResolution</th>\n",
       "      <th>Cpu</th>\n",
       "      <th>Ram</th>\n",
       "      <th>Memory</th>\n",
       "      <th>Gpu</th>\n",
       "      <th>OpSys</th>\n",
       "      <th>Weight</th>\n",
       "      <th>Price</th>\n",
       "    </tr>\n",
       "  </thead>\n",
       "  <tbody>\n",
       "    <tr>\n",
       "      <th>0</th>\n",
       "      <td>Apple</td>\n",
       "      <td>Ultrabook</td>\n",
       "      <td>13.3</td>\n",
       "      <td>IPS Panel Retina Display 2560x1600</td>\n",
       "      <td>Intel Core i5 2.3GHz</td>\n",
       "      <td>8</td>\n",
       "      <td>128GB SSD</td>\n",
       "      <td>Intel Iris Plus Graphics 640</td>\n",
       "      <td>macOS</td>\n",
       "      <td>1.37</td>\n",
       "      <td>71378.6832</td>\n",
       "    </tr>\n",
       "    <tr>\n",
       "      <th>1</th>\n",
       "      <td>Apple</td>\n",
       "      <td>Ultrabook</td>\n",
       "      <td>13.3</td>\n",
       "      <td>1440x900</td>\n",
       "      <td>Intel Core i5 1.8GHz</td>\n",
       "      <td>8</td>\n",
       "      <td>128GB Flash Storage</td>\n",
       "      <td>Intel HD Graphics 6000</td>\n",
       "      <td>macOS</td>\n",
       "      <td>1.34</td>\n",
       "      <td>47895.5232</td>\n",
       "    </tr>\n",
       "    <tr>\n",
       "      <th>2</th>\n",
       "      <td>HP</td>\n",
       "      <td>Notebook</td>\n",
       "      <td>15.6</td>\n",
       "      <td>Full HD 1920x1080</td>\n",
       "      <td>Intel Core i5 7200U 2.5GHz</td>\n",
       "      <td>8</td>\n",
       "      <td>256GB SSD</td>\n",
       "      <td>Intel HD Graphics 620</td>\n",
       "      <td>No OS</td>\n",
       "      <td>1.86</td>\n",
       "      <td>30636.0000</td>\n",
       "    </tr>\n",
       "    <tr>\n",
       "      <th>3</th>\n",
       "      <td>Apple</td>\n",
       "      <td>Ultrabook</td>\n",
       "      <td>15.4</td>\n",
       "      <td>IPS Panel Retina Display 2880x1800</td>\n",
       "      <td>Intel Core i7 2.7GHz</td>\n",
       "      <td>16</td>\n",
       "      <td>512GB SSD</td>\n",
       "      <td>AMD Radeon Pro 455</td>\n",
       "      <td>macOS</td>\n",
       "      <td>1.83</td>\n",
       "      <td>135195.3360</td>\n",
       "    </tr>\n",
       "    <tr>\n",
       "      <th>4</th>\n",
       "      <td>Apple</td>\n",
       "      <td>Ultrabook</td>\n",
       "      <td>13.3</td>\n",
       "      <td>IPS Panel Retina Display 2560x1600</td>\n",
       "      <td>Intel Core i5 3.1GHz</td>\n",
       "      <td>8</td>\n",
       "      <td>256GB SSD</td>\n",
       "      <td>Intel Iris Plus Graphics 650</td>\n",
       "      <td>macOS</td>\n",
       "      <td>1.37</td>\n",
       "      <td>96095.8080</td>\n",
       "    </tr>\n",
       "  </tbody>\n",
       "</table>\n",
       "</div>"
      ],
      "text/plain": [
       "  Company   TypeName  Inches                    ScreenResolution  \\\n",
       "0   Apple  Ultrabook    13.3  IPS Panel Retina Display 2560x1600   \n",
       "1   Apple  Ultrabook    13.3                            1440x900   \n",
       "2      HP   Notebook    15.6                   Full HD 1920x1080   \n",
       "3   Apple  Ultrabook    15.4  IPS Panel Retina Display 2880x1800   \n",
       "4   Apple  Ultrabook    13.3  IPS Panel Retina Display 2560x1600   \n",
       "\n",
       "                          Cpu  Ram               Memory  \\\n",
       "0        Intel Core i5 2.3GHz    8            128GB SSD   \n",
       "1        Intel Core i5 1.8GHz    8  128GB Flash Storage   \n",
       "2  Intel Core i5 7200U 2.5GHz    8            256GB SSD   \n",
       "3        Intel Core i7 2.7GHz   16            512GB SSD   \n",
       "4        Intel Core i5 3.1GHz    8            256GB SSD   \n",
       "\n",
       "                            Gpu  OpSys  Weight        Price  \n",
       "0  Intel Iris Plus Graphics 640  macOS    1.37   71378.6832  \n",
       "1        Intel HD Graphics 6000  macOS    1.34   47895.5232  \n",
       "2         Intel HD Graphics 620  No OS    1.86   30636.0000  \n",
       "3            AMD Radeon Pro 455  macOS    1.83  135195.3360  \n",
       "4  Intel Iris Plus Graphics 650  macOS    1.37   96095.8080  "
      ]
     },
     "execution_count": 229,
     "metadata": {},
     "output_type": "execute_result"
    }
   ],
   "source": [
    "# Coverting column \"Ram\" and \"Weight\" to numeric type\n",
    "df['Ram'] = df['Ram'].str.replace('GB', '').astype('int32')\n",
    "df['Weight'] = df['Weight'].str.replace('kg', '').astype('float32')\n",
    "\n",
    "df.head()"
   ]
  },
  {
   "cell_type": "markdown",
   "id": "98d20d75",
   "metadata": {},
   "source": [
    "# EDA"
   ]
  },
  {
   "cell_type": "code",
   "execution_count": 230,
   "id": "80e962a2",
   "metadata": {},
   "outputs": [
    {
     "data": {
      "text/plain": [
       "<seaborn.axisgrid.FacetGrid at 0x1a876a6ee80>"
      ]
     },
     "execution_count": 230,
     "metadata": {},
     "output_type": "execute_result"
    },
    {
     "data": {
      "image/png": "[encoded data removed]",
      "text/plain": [
       "<Figure size 360x360 with 1 Axes>"
      ]
     },
     "metadata": {
      "needs_background": "light"
     },
     "output_type": "display_data"
    }
   ],
   "source": [
    "sns.displot(df['Price'], kind='kde')"
   ]
  },
  {
   "cell_type": "code",
   "execution_count": 231,
   "id": "d3e39fe5",
   "metadata": {
    "scrolled": true
   },
   "outputs": [
    {
     "name": "stderr",
     "output_type": "stream",
     "text": [
      "C:\\Users\\Asus\\anaconda3\\envs\\py3-TF2.0\\lib\\site-packages\\seaborn\\_decorators.py:36: FutureWarning: Pass the following variable as a keyword arg: x. From version 0.12, the only valid positional argument will be `data`, and passing other arguments without an explicit keyword will result in an error or misinterpretation.\n",
      "  warnings.warn(\n",
      "C:\\Users\\Asus\\anaconda3\\envs\\py3-TF2.0\\lib\\site-packages\\seaborn\\_decorators.py:36: FutureWarning: Pass the following variable as a keyword arg: x. From version 0.12, the only valid positional argument will be `data`, and passing other arguments without an explicit keyword will result in an error or misinterpretation.\n",
      "  warnings.warn(\n",
      "C:\\Users\\Asus\\anaconda3\\envs\\py3-TF2.0\\lib\\site-packages\\seaborn\\_decorators.py:36: FutureWarning: Pass the following variable as a keyword arg: x. From version 0.12, the only valid positional argument will be `data`, and passing other arguments without an explicit keyword will result in an error or misinterpretation.\n",
      "  warnings.warn(\n",
      "C:\\Users\\Asus\\anaconda3\\envs\\py3-TF2.0\\lib\\site-packages\\seaborn\\_decorators.py:36: FutureWarning: Pass the following variable as a keyword arg: x. From version 0.12, the only valid positional argument will be `data`, and passing other arguments without an explicit keyword will result in an error or misinterpretation.\n",
      "  warnings.warn(\n"
     ]
    },
    {
     "data": {
      "image/png": "[encoded data removed]",
      "text/plain": [
       "<Figure size 1080x504 with 1 Axes>"
      ]
     },
     "metadata": {
      "needs_background": "light"
     },
     "output_type": "display_data"
    },
    {
     "data": {
      "image/png": "[encoded data removed]",
      "text/plain": [
       "<Figure size 1080x504 with 1 Axes>"
      ]
     },
     "metadata": {
      "needs_background": "light"
     },
     "output_type": "display_data"
    },
    {
     "data": {
      "image/png": "[encoded data removed]",
      "text/plain": [
       "<Figure size 1080x504 with 1 Axes>"
      ]
     },
     "metadata": {
      "needs_background": "light"
     },
     "output_type": "display_data"
    },
    {
     "data": {
      "image/png": "[encoded data removed]",
      "text/plain": [
       "<Figure size 1080x504 with 1 Axes>"
      ]
     },
     "metadata": {
      "needs_background": "light"
     },
     "output_type": "display_data"
    }
   ],
   "source": [
    "def plotter(col):\n",
    "    plt.figure(figsize=(15, 7))\n",
    "    sns.countplot(df[col], palette='plasma')\n",
    "    plt.xticks(rotation='vertical')\n",
    "\n",
    "col_list = ['Company', 'TypeName', 'Ram', 'OpSys']\n",
    "for col in col_list:\n",
    "    plotter(col)"
   ]
  },
  {
   "cell_type": "code",
   "execution_count": 232,
   "id": "dacf2f4f",
   "metadata": {
    "scrolled": true
   },
   "outputs": [
    {
     "data": {
      "image/png": "[encoded data removed]",
      "text/plain": [
       "<Figure size 1080x504 with 1 Axes>"
      ]
     },
     "metadata": {
      "needs_background": "light"
     },
     "output_type": "display_data"
    }
   ],
   "source": [
    "plt.figure(figsize=(15, 7))\n",
    "sns.barplot(x=df['Company'], y=df['Price'])\n",
    "plt.xticks(rotation='vertical')\n",
    "plt.show()"
   ]
  },
  {
   "cell_type": "code",
   "execution_count": 233,
   "id": "26b96bf4",
   "metadata": {},
   "outputs": [
    {
     "name": "stderr",
     "output_type": "stream",
     "text": [
      "C:\\Users\\Asus\\anaconda3\\envs\\py3-TF2.0\\lib\\site-packages\\seaborn\\_decorators.py:36: FutureWarning: Pass the following variable as a keyword arg: x. From version 0.12, the only valid positional argument will be `data`, and passing other arguments without an explicit keyword will result in an error or misinterpretation.\n",
      "  warnings.warn(\n"
     ]
    },
    {
     "data": {
      "image/png": "[encoded data removed]",
      "text/plain": [
       "<Figure size 432x288 with 1 Axes>"
      ]
     },
     "metadata": {
      "needs_background": "light"
     },
     "output_type": "display_data"
    }
   ],
   "source": [
    "sns.countplot(df['TypeName'], palette='autumn')\n",
    "plt.xticks(rotation='vertical')\n",
    "plt.show()"
   ]
  },
  {
   "cell_type": "code",
   "execution_count": 234,
   "id": "f01193b6",
   "metadata": {},
   "outputs": [
    {
     "name": "stderr",
     "output_type": "stream",
     "text": [
      "C:\\Users\\Asus\\anaconda3\\envs\\py3-TF2.0\\lib\\site-packages\\seaborn\\_decorators.py:36: FutureWarning: Pass the following variable as a keyword arg: x. From version 0.12, the only valid positional argument will be `data`, and passing other arguments without an explicit keyword will result in an error or misinterpretation.\n",
      "  warnings.warn(\n"
     ]
    },
    {
     "data": {
      "image/png": "[encoded data removed]",
      "text/plain": [
       "<Figure size 432x288 with 1 Axes>"
      ]
     },
     "metadata": {
      "needs_background": "light"
     },
     "output_type": "display_data"
    }
   ],
   "source": [
    "sns.barplot(df['TypeName'], y=df['Price'])\n",
    "plt.xticks(rotation='vertical')\n",
    "plt.show()"
   ]
  },
  {
   "cell_type": "code",
   "execution_count": 235,
   "id": "7f9d6b77",
   "metadata": {},
   "outputs": [
    {
     "name": "stderr",
     "output_type": "stream",
     "text": [
      "C:\\Users\\Asus\\anaconda3\\envs\\py3-TF2.0\\lib\\site-packages\\seaborn\\_decorators.py:36: FutureWarning: Pass the following variables as keyword args: x, y. From version 0.12, the only valid positional argument will be `data`, and passing other arguments without an explicit keyword will result in an error or misinterpretation.\n",
      "  warnings.warn(\n"
     ]
    },
    {
     "data": {
      "text/plain": [
       "<AxesSubplot:xlabel='Inches', ylabel='Price'>"
      ]
     },
     "execution_count": 235,
     "metadata": {},
     "output_type": "execute_result"
    },
    {
     "data": {
      "image/png": "[encoded data removed]",
      "text/plain": [
       "<Figure size 432x288 with 1 Axes>"
      ]
     },
     "metadata": {
      "needs_background": "light"
     },
     "output_type": "display_data"
    }
   ],
   "source": [
    "sns.scatterplot(df['Inches'], df['Price'])"
   ]
  },
  {
   "cell_type": "markdown",
   "id": "b204f1d1",
   "metadata": {},
   "source": [
    "# Processing other columns"
   ]
  },
  {
   "cell_type": "markdown",
   "id": "2d6b4f6c",
   "metadata": {},
   "source": [
    "### Splitting the \"ScreenResolution\" column"
   ]
  },
  {
   "cell_type": "code",
   "execution_count": 236,
   "id": "8cac6943",
   "metadata": {
    "scrolled": true
   },
   "outputs": [
    {
     "data": {
      "text/plain": [
       "Full HD 1920x1080                                507\n",
       "1366x768                                         281\n",
       "IPS Panel Full HD 1920x1080                      230\n",
       "IPS Panel Full HD / Touchscreen 1920x1080         53\n",
       "Full HD / Touchscreen 1920x1080                   47\n",
       "1600x900                                          23\n",
       "Touchscreen 1366x768                              16\n",
       "Quad HD+ / Touchscreen 3200x1800                  15\n",
       "IPS Panel 4K Ultra HD 3840x2160                   12\n",
       "IPS Panel 4K Ultra HD / Touchscreen 3840x2160     11\n",
       "4K Ultra HD / Touchscreen 3840x2160               10\n",
       "4K Ultra HD 3840x2160                              7\n",
       "Touchscreen 2560x1440                              7\n",
       "IPS Panel 1366x768                                 7\n",
       "IPS Panel Quad HD+ / Touchscreen 3200x1800         6\n",
       "IPS Panel Retina Display 2560x1600                 6\n",
       "IPS Panel Retina Display 2304x1440                 6\n",
       "Touchscreen 2256x1504                              6\n",
       "IPS Panel Touchscreen 2560x1440                    5\n",
       "IPS Panel Retina Display 2880x1800                 4\n",
       "IPS Panel Touchscreen 1920x1200                    4\n",
       "1440x900                                           4\n",
       "IPS Panel 2560x1440                                4\n",
       "IPS Panel Quad HD+ 2560x1440                       3\n",
       "Quad HD+ 3200x1800                                 3\n",
       "1920x1080                                          3\n",
       "Touchscreen 2400x1600                              3\n",
       "2560x1440                                          3\n",
       "IPS Panel Touchscreen 1366x768                     3\n",
       "IPS Panel Touchscreen / 4K Ultra HD 3840x2160      2\n",
       "IPS Panel Full HD 2160x1440                        2\n",
       "IPS Panel Quad HD+ 3200x1800                       2\n",
       "IPS Panel Retina Display 2736x1824                 1\n",
       "IPS Panel Full HD 1920x1200                        1\n",
       "IPS Panel Full HD 2560x1440                        1\n",
       "IPS Panel Full HD 1366x768                         1\n",
       "Touchscreen / Full HD 1920x1080                    1\n",
       "Touchscreen / Quad HD+ 3200x1800                   1\n",
       "Touchscreen / 4K Ultra HD 3840x2160                1\n",
       "IPS Panel Touchscreen 2400x1600                    1\n",
       "Name: ScreenResolution, dtype: int64"
      ]
     },
     "execution_count": 236,
     "metadata": {},
     "output_type": "execute_result"
    }
   ],
   "source": [
    "df['ScreenResolution'].value_counts()"
   ]
  },
  {
   "cell_type": "code",
   "execution_count": 237,
   "id": "d3e4b998",
   "metadata": {
    "scrolled": true
   },
   "outputs": [
    {
     "data": {
      "text/html": [
       "<div>\n",
       "<style scoped>\n",
       "    .dataframe tbody tr th:only-of-type {\n",
       "        vertical-align: middle;\n",
       "    }\n",
       "\n",
       "    .dataframe tbody tr th {\n",
       "        vertical-align: top;\n",
       "    }\n",
       "\n",
       "    .dataframe thead th {\n",
       "        text-align: right;\n",
       "    }\n",
       "</style>\n",
       "<table border=\"1\" class=\"dataframe\">\n",
       "  <thead>\n",
       "    <tr style=\"text-align: right;\">\n",
       "      <th></th>\n",
       "      <th>Company</th>\n",
       "      <th>TypeName</th>\n",
       "      <th>Inches</th>\n",
       "      <th>ScreenResolution</th>\n",
       "      <th>Cpu</th>\n",
       "      <th>Ram</th>\n",
       "      <th>Memory</th>\n",
       "      <th>Gpu</th>\n",
       "      <th>OpSys</th>\n",
       "      <th>Weight</th>\n",
       "      <th>Price</th>\n",
       "      <th>Touchscreen</th>\n",
       "    </tr>\n",
       "  </thead>\n",
       "  <tbody>\n",
       "    <tr>\n",
       "      <th>0</th>\n",
       "      <td>Apple</td>\n",
       "      <td>Ultrabook</td>\n",
       "      <td>13.3</td>\n",
       "      <td>IPS Panel Retina Display 2560x1600</td>\n",
       "      <td>Intel Core i5 2.3GHz</td>\n",
       "      <td>8</td>\n",
       "      <td>128GB SSD</td>\n",
       "      <td>Intel Iris Plus Graphics 640</td>\n",
       "      <td>macOS</td>\n",
       "      <td>1.37</td>\n",
       "      <td>71378.6832</td>\n",
       "      <td>0</td>\n",
       "    </tr>\n",
       "    <tr>\n",
       "      <th>1</th>\n",
       "      <td>Apple</td>\n",
       "      <td>Ultrabook</td>\n",
       "      <td>13.3</td>\n",
       "      <td>1440x900</td>\n",
       "      <td>Intel Core i5 1.8GHz</td>\n",
       "      <td>8</td>\n",
       "      <td>128GB Flash Storage</td>\n",
       "      <td>Intel HD Graphics 6000</td>\n",
       "      <td>macOS</td>\n",
       "      <td>1.34</td>\n",
       "      <td>47895.5232</td>\n",
       "      <td>0</td>\n",
       "    </tr>\n",
       "    <tr>\n",
       "      <th>2</th>\n",
       "      <td>HP</td>\n",
       "      <td>Notebook</td>\n",
       "      <td>15.6</td>\n",
       "      <td>Full HD 1920x1080</td>\n",
       "      <td>Intel Core i5 7200U 2.5GHz</td>\n",
       "      <td>8</td>\n",
       "      <td>256GB SSD</td>\n",
       "      <td>Intel HD Graphics 620</td>\n",
       "      <td>No OS</td>\n",
       "      <td>1.86</td>\n",
       "      <td>30636.0000</td>\n",
       "      <td>0</td>\n",
       "    </tr>\n",
       "    <tr>\n",
       "      <th>3</th>\n",
       "      <td>Apple</td>\n",
       "      <td>Ultrabook</td>\n",
       "      <td>15.4</td>\n",
       "      <td>IPS Panel Retina Display 2880x1800</td>\n",
       "      <td>Intel Core i7 2.7GHz</td>\n",
       "      <td>16</td>\n",
       "      <td>512GB SSD</td>\n",
       "      <td>AMD Radeon Pro 455</td>\n",
       "      <td>macOS</td>\n",
       "      <td>1.83</td>\n",
       "      <td>135195.3360</td>\n",
       "      <td>0</td>\n",
       "    </tr>\n",
       "    <tr>\n",
       "      <th>4</th>\n",
       "      <td>Apple</td>\n",
       "      <td>Ultrabook</td>\n",
       "      <td>13.3</td>\n",
       "      <td>IPS Panel Retina Display 2560x1600</td>\n",
       "      <td>Intel Core i5 3.1GHz</td>\n",
       "      <td>8</td>\n",
       "      <td>256GB SSD</td>\n",
       "      <td>Intel Iris Plus Graphics 650</td>\n",
       "      <td>macOS</td>\n",
       "      <td>1.37</td>\n",
       "      <td>96095.8080</td>\n",
       "      <td>0</td>\n",
       "    </tr>\n",
       "  </tbody>\n",
       "</table>\n",
       "</div>"
      ],
      "text/plain": [
       "  Company   TypeName  Inches                    ScreenResolution  \\\n",
       "0   Apple  Ultrabook    13.3  IPS Panel Retina Display 2560x1600   \n",
       "1   Apple  Ultrabook    13.3                            1440x900   \n",
       "2      HP   Notebook    15.6                   Full HD 1920x1080   \n",
       "3   Apple  Ultrabook    15.4  IPS Panel Retina Display 2880x1800   \n",
       "4   Apple  Ultrabook    13.3  IPS Panel Retina Display 2560x1600   \n",
       "\n",
       "                          Cpu  Ram               Memory  \\\n",
       "0        Intel Core i5 2.3GHz    8            128GB SSD   \n",
       "1        Intel Core i5 1.8GHz    8  128GB Flash Storage   \n",
       "2  Intel Core i5 7200U 2.5GHz    8            256GB SSD   \n",
       "3        Intel Core i7 2.7GHz   16            512GB SSD   \n",
       "4        Intel Core i5 3.1GHz    8            256GB SSD   \n",
       "\n",
       "                            Gpu  OpSys  Weight        Price  Touchscreen  \n",
       "0  Intel Iris Plus Graphics 640  macOS    1.37   71378.6832            0  \n",
       "1        Intel HD Graphics 6000  macOS    1.34   47895.5232            0  \n",
       "2         Intel HD Graphics 620  No OS    1.86   30636.0000            0  \n",
       "3            AMD Radeon Pro 455  macOS    1.83  135195.3360            0  \n",
       "4  Intel Iris Plus Graphics 650  macOS    1.37   96095.8080            0  "
      ]
     },
     "execution_count": 237,
     "metadata": {},
     "output_type": "execute_result"
    }
   ],
   "source": [
    "df['Touchscreen'] = df['ScreenResolution'].apply(lambda element:1 if 'Touchscreen' in element else 0)\n",
    "df.head()"
   ]
  },
  {
   "cell_type": "code",
   "execution_count": 238,
   "id": "6d3f579e",
   "metadata": {
    "scrolled": true
   },
   "outputs": [
    {
     "name": "stderr",
     "output_type": "stream",
     "text": [
      "C:\\Users\\Asus\\anaconda3\\envs\\py3-TF2.0\\lib\\site-packages\\seaborn\\_decorators.py:36: FutureWarning: Pass the following variable as a keyword arg: x. From version 0.12, the only valid positional argument will be `data`, and passing other arguments without an explicit keyword will result in an error or misinterpretation.\n",
      "  warnings.warn(\n"
     ]
    },
    {
     "data": {
      "text/plain": [
       "<AxesSubplot:xlabel='Touchscreen', ylabel='count'>"
      ]
     },
     "execution_count": 238,
     "metadata": {},
     "output_type": "execute_result"
    },
    {
     "data": {
      "image/png": "[encoded data removed]",
      "text/plain": [
       "<Figure size 432x288 with 1 Axes>"
      ]
     },
     "metadata": {
      "needs_background": "light"
     },
     "output_type": "display_data"
    }
   ],
   "source": [
    "sns.countplot(df['Touchscreen'], palette='viridis')"
   ]
  },
  {
   "cell_type": "code",
   "execution_count": 239,
   "id": "b8a01ab4",
   "metadata": {
    "scrolled": true
   },
   "outputs": [
    {
     "name": "stderr",
     "output_type": "stream",
     "text": [
      "C:\\Users\\Asus\\anaconda3\\envs\\py3-TF2.0\\lib\\site-packages\\seaborn\\_decorators.py:36: FutureWarning: Pass the following variables as keyword args: x, y. From version 0.12, the only valid positional argument will be `data`, and passing other arguments without an explicit keyword will result in an error or misinterpretation.\n",
      "  warnings.warn(\n"
     ]
    },
    {
     "data": {
      "text/plain": [
       "<AxesSubplot:xlabel='Touchscreen', ylabel='Price'>"
      ]
     },
     "execution_count": 239,
     "metadata": {},
     "output_type": "execute_result"
    },
    {
     "data": {
      "image/png": "[encoded data removed]",
      "text/plain": [
       "<Figure size 432x288 with 1 Axes>"
      ]
     },
     "metadata": {
      "needs_background": "light"
     },
     "output_type": "display_data"
    }
   ],
   "source": [
    "sns.barplot(df['Touchscreen'], df['Price'], palette='viridis')"
   ]
  },
  {
   "cell_type": "code",
   "execution_count": 240,
   "id": "82366fc3",
   "metadata": {
    "scrolled": true
   },
   "outputs": [
    {
     "data": {
      "text/html": [
       "<div>\n",
       "<style scoped>\n",
       "    .dataframe tbody tr th:only-of-type {\n",
       "        vertical-align: middle;\n",
       "    }\n",
       "\n",
       "    .dataframe tbody tr th {\n",
       "        vertical-align: top;\n",
       "    }\n",
       "\n",
       "    .dataframe thead th {\n",
       "        text-align: right;\n",
       "    }\n",
       "</style>\n",
       "<table border=\"1\" class=\"dataframe\">\n",
       "  <thead>\n",
       "    <tr style=\"text-align: right;\">\n",
       "      <th></th>\n",
       "      <th>Company</th>\n",
       "      <th>TypeName</th>\n",
       "      <th>Inches</th>\n",
       "      <th>ScreenResolution</th>\n",
       "      <th>Cpu</th>\n",
       "      <th>Ram</th>\n",
       "      <th>Memory</th>\n",
       "      <th>Gpu</th>\n",
       "      <th>OpSys</th>\n",
       "      <th>Weight</th>\n",
       "      <th>Price</th>\n",
       "      <th>Touchscreen</th>\n",
       "      <th>IPS</th>\n",
       "    </tr>\n",
       "  </thead>\n",
       "  <tbody>\n",
       "    <tr>\n",
       "      <th>0</th>\n",
       "      <td>Apple</td>\n",
       "      <td>Ultrabook</td>\n",
       "      <td>13.3</td>\n",
       "      <td>IPS Panel Retina Display 2560x1600</td>\n",
       "      <td>Intel Core i5 2.3GHz</td>\n",
       "      <td>8</td>\n",
       "      <td>128GB SSD</td>\n",
       "      <td>Intel Iris Plus Graphics 640</td>\n",
       "      <td>macOS</td>\n",
       "      <td>1.37</td>\n",
       "      <td>71378.6832</td>\n",
       "      <td>0</td>\n",
       "      <td>1</td>\n",
       "    </tr>\n",
       "    <tr>\n",
       "      <th>1</th>\n",
       "      <td>Apple</td>\n",
       "      <td>Ultrabook</td>\n",
       "      <td>13.3</td>\n",
       "      <td>1440x900</td>\n",
       "      <td>Intel Core i5 1.8GHz</td>\n",
       "      <td>8</td>\n",
       "      <td>128GB Flash Storage</td>\n",
       "      <td>Intel HD Graphics 6000</td>\n",
       "      <td>macOS</td>\n",
       "      <td>1.34</td>\n",
       "      <td>47895.5232</td>\n",
       "      <td>0</td>\n",
       "      <td>0</td>\n",
       "    </tr>\n",
       "    <tr>\n",
       "      <th>2</th>\n",
       "      <td>HP</td>\n",
       "      <td>Notebook</td>\n",
       "      <td>15.6</td>\n",
       "      <td>Full HD 1920x1080</td>\n",
       "      <td>Intel Core i5 7200U 2.5GHz</td>\n",
       "      <td>8</td>\n",
       "      <td>256GB SSD</td>\n",
       "      <td>Intel HD Graphics 620</td>\n",
       "      <td>No OS</td>\n",
       "      <td>1.86</td>\n",
       "      <td>30636.0000</td>\n",
       "      <td>0</td>\n",
       "      <td>0</td>\n",
       "    </tr>\n",
       "    <tr>\n",
       "      <th>3</th>\n",
       "      <td>Apple</td>\n",
       "      <td>Ultrabook</td>\n",
       "      <td>15.4</td>\n",
       "      <td>IPS Panel Retina Display 2880x1800</td>\n",
       "      <td>Intel Core i7 2.7GHz</td>\n",
       "      <td>16</td>\n",
       "      <td>512GB SSD</td>\n",
       "      <td>AMD Radeon Pro 455</td>\n",
       "      <td>macOS</td>\n",
       "      <td>1.83</td>\n",
       "      <td>135195.3360</td>\n",
       "      <td>0</td>\n",
       "      <td>1</td>\n",
       "    </tr>\n",
       "    <tr>\n",
       "      <th>4</th>\n",
       "      <td>Apple</td>\n",
       "      <td>Ultrabook</td>\n",
       "      <td>13.3</td>\n",
       "      <td>IPS Panel Retina Display 2560x1600</td>\n",
       "      <td>Intel Core i5 3.1GHz</td>\n",
       "      <td>8</td>\n",
       "      <td>256GB SSD</td>\n",
       "      <td>Intel Iris Plus Graphics 650</td>\n",
       "      <td>macOS</td>\n",
       "      <td>1.37</td>\n",
       "      <td>96095.8080</td>\n",
       "      <td>0</td>\n",
       "      <td>1</td>\n",
       "    </tr>\n",
       "  </tbody>\n",
       "</table>\n",
       "</div>"
      ],
      "text/plain": [
       "  Company   TypeName  Inches                    ScreenResolution  \\\n",
       "0   Apple  Ultrabook    13.3  IPS Panel Retina Display 2560x1600   \n",
       "1   Apple  Ultrabook    13.3                            1440x900   \n",
       "2      HP   Notebook    15.6                   Full HD 1920x1080   \n",
       "3   Apple  Ultrabook    15.4  IPS Panel Retina Display 2880x1800   \n",
       "4   Apple  Ultrabook    13.3  IPS Panel Retina Display 2560x1600   \n",
       "\n",
       "                          Cpu  Ram               Memory  \\\n",
       "0        Intel Core i5 2.3GHz    8            128GB SSD   \n",
       "1        Intel Core i5 1.8GHz    8  128GB Flash Storage   \n",
       "2  Intel Core i5 7200U 2.5GHz    8            256GB SSD   \n",
       "3        Intel Core i7 2.7GHz   16            512GB SSD   \n",
       "4        Intel Core i5 3.1GHz    8            256GB SSD   \n",
       "\n",
       "                            Gpu  OpSys  Weight        Price  Touchscreen  IPS  \n",
       "0  Intel Iris Plus Graphics 640  macOS    1.37   71378.6832            0    1  \n",
       "1        Intel HD Graphics 6000  macOS    1.34   47895.5232            0    0  \n",
       "2         Intel HD Graphics 620  No OS    1.86   30636.0000            0    0  \n",
       "3            AMD Radeon Pro 455  macOS    1.83  135195.3360            0    1  \n",
       "4  Intel Iris Plus Graphics 650  macOS    1.37   96095.8080            0    1  "
      ]
     },
     "execution_count": 240,
     "metadata": {},
     "output_type": "execute_result"
    }
   ],
   "source": [
    "df['IPS'] = df['ScreenResolution'].apply(lambda element:1 if 'IPS' in element else 0)\n",
    "df.head()"
   ]
  },
  {
   "cell_type": "code",
   "execution_count": 241,
   "id": "6eebb1d9",
   "metadata": {
    "scrolled": true
   },
   "outputs": [
    {
     "name": "stderr",
     "output_type": "stream",
     "text": [
      "C:\\Users\\Asus\\anaconda3\\envs\\py3-TF2.0\\lib\\site-packages\\seaborn\\_decorators.py:36: FutureWarning: Pass the following variable as a keyword arg: x. From version 0.12, the only valid positional argument will be `data`, and passing other arguments without an explicit keyword will result in an error or misinterpretation.\n",
      "  warnings.warn(\n"
     ]
    },
    {
     "data": {
      "text/plain": [
       "<AxesSubplot:xlabel='IPS', ylabel='count'>"
      ]
     },
     "execution_count": 241,
     "metadata": {},
     "output_type": "execute_result"
    },
    {
     "data": {
      "image/png": "[encoded data removed]",
      "text/plain": [
       "<Figure size 432x288 with 1 Axes>"
      ]
     },
     "metadata": {
      "needs_background": "light"
     },
     "output_type": "display_data"
    }
   ],
   "source": [
    "sns.countplot(df['IPS'])"
   ]
  },
  {
   "cell_type": "code",
   "execution_count": 242,
   "id": "536f7bd0",
   "metadata": {
    "scrolled": true
   },
   "outputs": [
    {
     "name": "stderr",
     "output_type": "stream",
     "text": [
      "C:\\Users\\Asus\\anaconda3\\envs\\py3-TF2.0\\lib\\site-packages\\seaborn\\_decorators.py:36: FutureWarning: Pass the following variables as keyword args: x, y. From version 0.12, the only valid positional argument will be `data`, and passing other arguments without an explicit keyword will result in an error or misinterpretation.\n",
      "  warnings.warn(\n"
     ]
    },
    {
     "data": {
      "text/plain": [
       "<AxesSubplot:xlabel='IPS', ylabel='Price'>"
      ]
     },
     "execution_count": 242,
     "metadata": {},
     "output_type": "execute_result"
    },
    {
     "data": {
      "image/png": "[encoded data removed]",
      "text/plain": [
       "<Figure size 432x288 with 1 Axes>"
      ]
     },
     "metadata": {
      "needs_background": "light"
     },
     "output_type": "display_data"
    }
   ],
   "source": [
    "sns.barplot(df['IPS'], df['Price'])"
   ]
  },
  {
   "cell_type": "code",
   "execution_count": 243,
   "id": "b3f96694",
   "metadata": {
    "scrolled": true
   },
   "outputs": [
    {
     "data": {
      "text/html": [
       "<div>\n",
       "<style scoped>\n",
       "    .dataframe tbody tr th:only-of-type {\n",
       "        vertical-align: middle;\n",
       "    }\n",
       "\n",
       "    .dataframe tbody tr th {\n",
       "        vertical-align: top;\n",
       "    }\n",
       "\n",
       "    .dataframe thead th {\n",
       "        text-align: right;\n",
       "    }\n",
       "</style>\n",
       "<table border=\"1\" class=\"dataframe\">\n",
       "  <thead>\n",
       "    <tr style=\"text-align: right;\">\n",
       "      <th></th>\n",
       "      <th>0</th>\n",
       "      <th>1</th>\n",
       "    </tr>\n",
       "  </thead>\n",
       "  <tbody>\n",
       "    <tr>\n",
       "      <th>0</th>\n",
       "      <td>IPS Panel Retina Display 2560</td>\n",
       "      <td>1600</td>\n",
       "    </tr>\n",
       "  </tbody>\n",
       "</table>\n",
       "</div>"
      ],
      "text/plain": [
       "                               0     1\n",
       "0  IPS Panel Retina Display 2560  1600"
      ]
     },
     "execution_count": 243,
     "metadata": {},
     "output_type": "execute_result"
    }
   ],
   "source": [
    "split_df = df['ScreenResolution'].str.split('x', n=1, expand=True)\n",
    "split_df.head(1)"
   ]
  },
  {
   "cell_type": "code",
   "execution_count": 244,
   "id": "5a07337a",
   "metadata": {},
   "outputs": [],
   "source": [
    "split_df.rename(columns={0:'X', 1:'Y_res',}, inplace=True)"
   ]
  },
  {
   "cell_type": "code",
   "execution_count": 245,
   "id": "0d1224fa",
   "metadata": {},
   "outputs": [],
   "source": [
    "split_df['X_res'] = split_df['X'].apply(lambda x: x.split(' ')[-1])\n",
    "split_df['Y_res'] = split_df['Y_res'].astype(np.int32)\n",
    "split_df['X_res'] = split_df['X_res'].astype(np.int32)"
   ]
  },
  {
   "cell_type": "code",
   "execution_count": 246,
   "id": "bd803630",
   "metadata": {},
   "outputs": [],
   "source": [
    "df = df.join(split_df)"
   ]
  },
  {
   "cell_type": "code",
   "execution_count": 247,
   "id": "64a42ec7",
   "metadata": {
    "scrolled": false
   },
   "outputs": [
    {
     "data": {
      "text/plain": [
       "<AxesSubplot:>"
      ]
     },
     "execution_count": 247,
     "metadata": {},
     "output_type": "execute_result"
    },
    {
     "data": {
      "image/png": "[encoded data removed]",
      "text/plain": [
       "<Figure size 1080x648 with 2 Axes>"
      ]
     },
     "metadata": {
      "needs_background": "light"
     },
     "output_type": "display_data"
    }
   ],
   "source": [
    "plt.figure(figsize=(15, 9))\n",
    "sns.heatmap(df.corr(), annot=True, cmap='autumn')"
   ]
  },
  {
   "cell_type": "code",
   "execution_count": 248,
   "id": "04147bed",
   "metadata": {},
   "outputs": [
    {
     "data": {
      "text/plain": [
       "Inches         0.068197\n",
       "Ram            0.743007\n",
       "Weight         0.210370\n",
       "Price          1.000000\n",
       "Touchscreen    0.191226\n",
       "IPS            0.252208\n",
       "Y_res          0.552809\n",
       "X_res          0.556529\n",
       "Name: Price, dtype: float64"
      ]
     },
     "execution_count": 248,
     "metadata": {},
     "output_type": "execute_result"
    }
   ],
   "source": [
    "df.corr()['Price']"
   ]
  },
  {
   "cell_type": "markdown",
   "id": "23135e2c",
   "metadata": {},
   "source": [
    "### Ram, X_res, Y_res are highly correlated with price(dependent var)"
   ]
  },
  {
   "attachments": {
    "image.png": {
     "image/png": "[encoded data removed]"
    }
   },
   "cell_type": "markdown",
   "id": "6aac0af1",
   "metadata": {},
   "source": [
    "### Problem is, both X_res and Y_res are also highly correlated with each other. For this problem, we can convert them into pixels.\n",
    "![image.png](attachment:image.png)"
   ]
  },
  {
   "cell_type": "code",
   "execution_count": 250,
   "id": "e302e94d",
   "metadata": {},
   "outputs": [
    {
     "data": {
      "text/html": [
       "<div>\n",
       "<style scoped>\n",
       "    .dataframe tbody tr th:only-of-type {\n",
       "        vertical-align: middle;\n",
       "    }\n",
       "\n",
       "    .dataframe tbody tr th {\n",
       "        vertical-align: top;\n",
       "    }\n",
       "\n",
       "    .dataframe thead th {\n",
       "        text-align: right;\n",
       "    }\n",
       "</style>\n",
       "<table border=\"1\" class=\"dataframe\">\n",
       "  <thead>\n",
       "    <tr style=\"text-align: right;\">\n",
       "      <th></th>\n",
       "      <th>Company</th>\n",
       "      <th>TypeName</th>\n",
       "      <th>Inches</th>\n",
       "      <th>ScreenResolution</th>\n",
       "      <th>Cpu</th>\n",
       "      <th>Ram</th>\n",
       "      <th>Memory</th>\n",
       "      <th>Gpu</th>\n",
       "      <th>OpSys</th>\n",
       "      <th>Weight</th>\n",
       "      <th>Price</th>\n",
       "      <th>Touchscreen</th>\n",
       "      <th>IPS</th>\n",
       "      <th>X</th>\n",
       "      <th>Y_res</th>\n",
       "      <th>X_res</th>\n",
       "      <th>PPI</th>\n",
       "    </tr>\n",
       "  </thead>\n",
       "  <tbody>\n",
       "    <tr>\n",
       "      <th>0</th>\n",
       "      <td>Apple</td>\n",
       "      <td>Ultrabook</td>\n",
       "      <td>13.3</td>\n",
       "      <td>IPS Panel Retina Display 2560x1600</td>\n",
       "      <td>Intel Core i5 2.3GHz</td>\n",
       "      <td>8</td>\n",
       "      <td>128GB SSD</td>\n",
       "      <td>Intel Iris Plus Graphics 640</td>\n",
       "      <td>macOS</td>\n",
       "      <td>1.37</td>\n",
       "      <td>71378.6832</td>\n",
       "      <td>0</td>\n",
       "      <td>1</td>\n",
       "      <td>IPS Panel Retina Display 2560</td>\n",
       "      <td>1600</td>\n",
       "      <td>2560</td>\n",
       "      <td>226.983005</td>\n",
       "    </tr>\n",
       "    <tr>\n",
       "      <th>1</th>\n",
       "      <td>Apple</td>\n",
       "      <td>Ultrabook</td>\n",
       "      <td>13.3</td>\n",
       "      <td>1440x900</td>\n",
       "      <td>Intel Core i5 1.8GHz</td>\n",
       "      <td>8</td>\n",
       "      <td>128GB Flash Storage</td>\n",
       "      <td>Intel HD Graphics 6000</td>\n",
       "      <td>macOS</td>\n",
       "      <td>1.34</td>\n",
       "      <td>47895.5232</td>\n",
       "      <td>0</td>\n",
       "      <td>0</td>\n",
       "      <td>1440</td>\n",
       "      <td>900</td>\n",
       "      <td>1440</td>\n",
       "      <td>127.677940</td>\n",
       "    </tr>\n",
       "    <tr>\n",
       "      <th>2</th>\n",
       "      <td>HP</td>\n",
       "      <td>Notebook</td>\n",
       "      <td>15.6</td>\n",
       "      <td>Full HD 1920x1080</td>\n",
       "      <td>Intel Core i5 7200U 2.5GHz</td>\n",
       "      <td>8</td>\n",
       "      <td>256GB SSD</td>\n",
       "      <td>Intel HD Graphics 620</td>\n",
       "      <td>No OS</td>\n",
       "      <td>1.86</td>\n",
       "      <td>30636.0000</td>\n",
       "      <td>0</td>\n",
       "      <td>0</td>\n",
       "      <td>Full HD 1920</td>\n",
       "      <td>1080</td>\n",
       "      <td>1920</td>\n",
       "      <td>141.211998</td>\n",
       "    </tr>\n",
       "    <tr>\n",
       "      <th>3</th>\n",
       "      <td>Apple</td>\n",
       "      <td>Ultrabook</td>\n",
       "      <td>15.4</td>\n",
       "      <td>IPS Panel Retina Display 2880x1800</td>\n",
       "      <td>Intel Core i7 2.7GHz</td>\n",
       "      <td>16</td>\n",
       "      <td>512GB SSD</td>\n",
       "      <td>AMD Radeon Pro 455</td>\n",
       "      <td>macOS</td>\n",
       "      <td>1.83</td>\n",
       "      <td>135195.3360</td>\n",
       "      <td>0</td>\n",
       "      <td>1</td>\n",
       "      <td>IPS Panel Retina Display 2880</td>\n",
       "      <td>1800</td>\n",
       "      <td>2880</td>\n",
       "      <td>220.534624</td>\n",
       "    </tr>\n",
       "    <tr>\n",
       "      <th>4</th>\n",
       "      <td>Apple</td>\n",
       "      <td>Ultrabook</td>\n",
       "      <td>13.3</td>\n",
       "      <td>IPS Panel Retina Display 2560x1600</td>\n",
       "      <td>Intel Core i5 3.1GHz</td>\n",
       "      <td>8</td>\n",
       "      <td>256GB SSD</td>\n",
       "      <td>Intel Iris Plus Graphics 650</td>\n",
       "      <td>macOS</td>\n",
       "      <td>1.37</td>\n",
       "      <td>96095.8080</td>\n",
       "      <td>0</td>\n",
       "      <td>1</td>\n",
       "      <td>IPS Panel Retina Display 2560</td>\n",
       "      <td>1600</td>\n",
       "      <td>2560</td>\n",
       "      <td>226.983005</td>\n",
       "    </tr>\n",
       "  </tbody>\n",
       "</table>\n",
       "</div>"
      ],
      "text/plain": [
       "  Company   TypeName  Inches                    ScreenResolution  \\\n",
       "0   Apple  Ultrabook    13.3  IPS Panel Retina Display 2560x1600   \n",
       "1   Apple  Ultrabook    13.3                            1440x900   \n",
       "2      HP   Notebook    15.6                   Full HD 1920x1080   \n",
       "3   Apple  Ultrabook    15.4  IPS Panel Retina Display 2880x1800   \n",
       "4   Apple  Ultrabook    13.3  IPS Panel Retina Display 2560x1600   \n",
       "\n",
       "                          Cpu  Ram               Memory  \\\n",
       "0        Intel Core i5 2.3GHz    8            128GB SSD   \n",
       "1        Intel Core i5 1.8GHz    8  128GB Flash Storage   \n",
       "2  Intel Core i5 7200U 2.5GHz    8            256GB SSD   \n",
       "3        Intel Core i7 2.7GHz   16            512GB SSD   \n",
       "4        Intel Core i5 3.1GHz    8            256GB SSD   \n",
       "\n",
       "                            Gpu  OpSys  Weight        Price  Touchscreen  IPS  \\\n",
       "0  Intel Iris Plus Graphics 640  macOS    1.37   71378.6832            0    1   \n",
       "1        Intel HD Graphics 6000  macOS    1.34   47895.5232            0    0   \n",
       "2         Intel HD Graphics 620  No OS    1.86   30636.0000            0    0   \n",
       "3            AMD Radeon Pro 455  macOS    1.83  135195.3360            0    1   \n",
       "4  Intel Iris Plus Graphics 650  macOS    1.37   96095.8080            0    1   \n",
       "\n",
       "                               X  Y_res  X_res         PPI  \n",
       "0  IPS Panel Retina Display 2560   1600   2560  226.983005  \n",
       "1                           1440    900   1440  127.677940  \n",
       "2                   Full HD 1920   1080   1920  141.211998  \n",
       "3  IPS Panel Retina Display 2880   1800   2880  220.534624  \n",
       "4  IPS Panel Retina Display 2560   1600   2560  226.983005  "
      ]
     },
     "execution_count": 250,
     "metadata": {},
     "output_type": "execute_result"
    }
   ],
   "source": [
    "df['PPI'] = ((df['X_res']**2 + df['Y_res']**2))**0.5/df['Inches'].astype('float')\n",
    "df.head()"
   ]
  },
  {
   "cell_type": "code",
   "execution_count": 251,
   "id": "8a7a4d34",
   "metadata": {
    "scrolled": true
   },
   "outputs": [],
   "source": [
    "## Dropping follwing columns as we are done with them\n",
    "df.drop(['ScreenResolution', 'X_res', 'Y_res', 'Inches', 'X'], axis=1, inplace=True)"
   ]
  },
  {
   "cell_type": "code",
   "execution_count": 252,
   "id": "4c6223e3",
   "metadata": {
    "scrolled": false
   },
   "outputs": [
    {
     "data": {
      "text/html": [
       "<div>\n",
       "<style scoped>\n",
       "    .dataframe tbody tr th:only-of-type {\n",
       "        vertical-align: middle;\n",
       "    }\n",
       "\n",
       "    .dataframe tbody tr th {\n",
       "        vertical-align: top;\n",
       "    }\n",
       "\n",
       "    .dataframe thead th {\n",
       "        text-align: right;\n",
       "    }\n",
       "</style>\n",
       "<table border=\"1\" class=\"dataframe\">\n",
       "  <thead>\n",
       "    <tr style=\"text-align: right;\">\n",
       "      <th></th>\n",
       "      <th>Company</th>\n",
       "      <th>TypeName</th>\n",
       "      <th>Cpu</th>\n",
       "      <th>Ram</th>\n",
       "      <th>Memory</th>\n",
       "      <th>Gpu</th>\n",
       "      <th>OpSys</th>\n",
       "      <th>Weight</th>\n",
       "      <th>Price</th>\n",
       "      <th>Touchscreen</th>\n",
       "      <th>IPS</th>\n",
       "      <th>PPI</th>\n",
       "    </tr>\n",
       "  </thead>\n",
       "  <tbody>\n",
       "    <tr>\n",
       "      <th>0</th>\n",
       "      <td>Apple</td>\n",
       "      <td>Ultrabook</td>\n",
       "      <td>Intel Core i5 2.3GHz</td>\n",
       "      <td>8</td>\n",
       "      <td>128GB SSD</td>\n",
       "      <td>Intel Iris Plus Graphics 640</td>\n",
       "      <td>macOS</td>\n",
       "      <td>1.37</td>\n",
       "      <td>71378.6832</td>\n",
       "      <td>0</td>\n",
       "      <td>1</td>\n",
       "      <td>226.983005</td>\n",
       "    </tr>\n",
       "    <tr>\n",
       "      <th>1</th>\n",
       "      <td>Apple</td>\n",
       "      <td>Ultrabook</td>\n",
       "      <td>Intel Core i5 1.8GHz</td>\n",
       "      <td>8</td>\n",
       "      <td>128GB Flash Storage</td>\n",
       "      <td>Intel HD Graphics 6000</td>\n",
       "      <td>macOS</td>\n",
       "      <td>1.34</td>\n",
       "      <td>47895.5232</td>\n",
       "      <td>0</td>\n",
       "      <td>0</td>\n",
       "      <td>127.677940</td>\n",
       "    </tr>\n",
       "    <tr>\n",
       "      <th>2</th>\n",
       "      <td>HP</td>\n",
       "      <td>Notebook</td>\n",
       "      <td>Intel Core i5 7200U 2.5GHz</td>\n",
       "      <td>8</td>\n",
       "      <td>256GB SSD</td>\n",
       "      <td>Intel HD Graphics 620</td>\n",
       "      <td>No OS</td>\n",
       "      <td>1.86</td>\n",
       "      <td>30636.0000</td>\n",
       "      <td>0</td>\n",
       "      <td>0</td>\n",
       "      <td>141.211998</td>\n",
       "    </tr>\n",
       "    <tr>\n",
       "      <th>3</th>\n",
       "      <td>Apple</td>\n",
       "      <td>Ultrabook</td>\n",
       "      <td>Intel Core i7 2.7GHz</td>\n",
       "      <td>16</td>\n",
       "      <td>512GB SSD</td>\n",
       "      <td>AMD Radeon Pro 455</td>\n",
       "      <td>macOS</td>\n",
       "      <td>1.83</td>\n",
       "      <td>135195.3360</td>\n",
       "      <td>0</td>\n",
       "      <td>1</td>\n",
       "      <td>220.534624</td>\n",
       "    </tr>\n",
       "    <tr>\n",
       "      <th>4</th>\n",
       "      <td>Apple</td>\n",
       "      <td>Ultrabook</td>\n",
       "      <td>Intel Core i5 3.1GHz</td>\n",
       "      <td>8</td>\n",
       "      <td>256GB SSD</td>\n",
       "      <td>Intel Iris Plus Graphics 650</td>\n",
       "      <td>macOS</td>\n",
       "      <td>1.37</td>\n",
       "      <td>96095.8080</td>\n",
       "      <td>0</td>\n",
       "      <td>1</td>\n",
       "      <td>226.983005</td>\n",
       "    </tr>\n",
       "  </tbody>\n",
       "</table>\n",
       "</div>"
      ],
      "text/plain": [
       "  Company   TypeName                         Cpu  Ram               Memory  \\\n",
       "0   Apple  Ultrabook        Intel Core i5 2.3GHz    8            128GB SSD   \n",
       "1   Apple  Ultrabook        Intel Core i5 1.8GHz    8  128GB Flash Storage   \n",
       "2      HP   Notebook  Intel Core i5 7200U 2.5GHz    8            256GB SSD   \n",
       "3   Apple  Ultrabook        Intel Core i7 2.7GHz   16            512GB SSD   \n",
       "4   Apple  Ultrabook        Intel Core i5 3.1GHz    8            256GB SSD   \n",
       "\n",
       "                            Gpu  OpSys  Weight        Price  Touchscreen  IPS  \\\n",
       "0  Intel Iris Plus Graphics 640  macOS    1.37   71378.6832            0    1   \n",
       "1        Intel HD Graphics 6000  macOS    1.34   47895.5232            0    0   \n",
       "2         Intel HD Graphics 620  No OS    1.86   30636.0000            0    0   \n",
       "3            AMD Radeon Pro 455  macOS    1.83  135195.3360            0    1   \n",
       "4  Intel Iris Plus Graphics 650  macOS    1.37   96095.8080            0    1   \n",
       "\n",
       "          PPI  \n",
       "0  226.983005  \n",
       "1  127.677940  \n",
       "2  141.211998  \n",
       "3  220.534624  \n",
       "4  226.983005  "
      ]
     },
     "execution_count": 252,
     "metadata": {},
     "output_type": "execute_result"
    }
   ],
   "source": [
    "df.head()"
   ]
  },
  {
   "cell_type": "code",
   "execution_count": 253,
   "id": "338d33ba",
   "metadata": {},
   "outputs": [
    {
     "data": {
      "text/plain": [
       "Ram            0.743007\n",
       "Weight         0.210370\n",
       "Price          1.000000\n",
       "Touchscreen    0.191226\n",
       "IPS            0.252208\n",
       "PPI            0.473487\n",
       "Name: Price, dtype: float64"
      ]
     },
     "execution_count": 253,
     "metadata": {},
     "output_type": "execute_result"
    }
   ],
   "source": [
    "df.corr()['Price']"
   ]
  },
  {
   "cell_type": "markdown",
   "id": "64584b94",
   "metadata": {},
   "source": [
    "### CPU column"
   ]
  },
  {
   "cell_type": "code",
   "execution_count": 254,
   "id": "f6f0f479",
   "metadata": {
    "scrolled": true
   },
   "outputs": [
    {
     "data": {
      "text/plain": [
       "array(['Intel Core i5 2.3GHz', 'Intel Core i5 1.8GHz',\n",
       "       'Intel Core i5 7200U 2.5GHz', 'Intel Core i7 2.7GHz',\n",
       "       'Intel Core i5 3.1GHz', 'AMD A9-Series 9420 3GHz',\n",
       "       'Intel Core i7 2.2GHz', 'Intel Core i7 8550U 1.8GHz',\n",
       "       'Intel Core i5 8250U 1.6GHz', 'Intel Core i3 6006U 2GHz',\n",
       "       'Intel Core i7 2.8GHz', 'Intel Core M m3 1.2GHz',\n",
       "       'Intel Core i7 7500U 2.7GHz', 'Intel Core i7 2.9GHz',\n",
       "       'Intel Core i3 7100U 2.4GHz', 'Intel Atom x5-Z8350 1.44GHz',\n",
       "       'Intel Core i5 7300HQ 2.5GHz', 'AMD E-Series E2-9000e 1.5GHz',\n",
       "       'Intel Core i5 1.6GHz', 'Intel Core i7 8650U 1.9GHz',\n",
       "       'Intel Atom x5-Z8300 1.44GHz', 'AMD E-Series E2-6110 1.5GHz',\n",
       "       'AMD A6-Series 9220 2.5GHz',\n",
       "       'Intel Celeron Dual Core N3350 1.1GHz',\n",
       "       'Intel Core i3 7130U 2.7GHz', 'Intel Core i7 7700HQ 2.8GHz',\n",
       "       'Intel Core i5 2.0GHz', 'AMD Ryzen 1700 3GHz',\n",
       "       'Intel Pentium Quad Core N4200 1.1GHz',\n",
       "       'Intel Atom x5-Z8550 1.44GHz',\n",
       "       'Intel Celeron Dual Core N3060 1.6GHz', 'Intel Core i5 1.3GHz',\n",
       "       'AMD FX 9830P 3GHz', 'Intel Core i7 7560U 2.4GHz',\n",
       "       'AMD E-Series 6110 1.5GHz', 'Intel Core i5 6200U 2.3GHz',\n",
       "       'Intel Core M 6Y75 1.2GHz', 'Intel Core i5 7500U 2.7GHz',\n",
       "       'Intel Core i3 6006U 2.2GHz', 'AMD A6-Series 9220 2.9GHz',\n",
       "       'Intel Core i7 6920HQ 2.9GHz', 'Intel Core i5 7Y54 1.2GHz',\n",
       "       'Intel Core i7 7820HK 2.9GHz', 'Intel Xeon E3-1505M V6 3GHz',\n",
       "       'Intel Core i7 6500U 2.5GHz', 'AMD E-Series 9000e 1.5GHz',\n",
       "       'AMD A10-Series A10-9620P 2.5GHz', 'AMD A6-Series A6-9220 2.5GHz',\n",
       "       'Intel Core i5 2.9GHz', 'Intel Core i7 6600U 2.6GHz',\n",
       "       'Intel Core i3 6006U 2.0GHz',\n",
       "       'Intel Celeron Dual Core 3205U 1.5GHz',\n",
       "       'Intel Core i7 7820HQ 2.9GHz', 'AMD A10-Series 9600P 2.4GHz',\n",
       "       'Intel Core i7 7600U 2.8GHz', 'AMD A8-Series 7410 2.2GHz',\n",
       "       'Intel Celeron Dual Core 3855U 1.6GHz',\n",
       "       'Intel Pentium Quad Core N3710 1.6GHz',\n",
       "       'AMD A12-Series 9720P 2.7GHz', 'Intel Core i5 7300U 2.6GHz',\n",
       "       'AMD A12-Series 9720P 3.6GHz',\n",
       "       'Intel Celeron Quad Core N3450 1.1GHz',\n",
       "       'Intel Celeron Dual Core N3060 1.60GHz',\n",
       "       'Intel Core i5 6440HQ 2.6GHz', 'Intel Core i7 6820HQ 2.7GHz',\n",
       "       'AMD Ryzen 1600 3.2GHz', 'Intel Core i7 7Y75 1.3GHz',\n",
       "       'Intel Core i5 7440HQ 2.8GHz', 'Intel Core i7 7660U 2.5GHz',\n",
       "       'Intel Core i7 7700HQ 2.7GHz', 'Intel Core M m3-7Y30 2.2GHz',\n",
       "       'Intel Core i5 7Y57 1.2GHz', 'Intel Core i7 6700HQ 2.6GHz',\n",
       "       'Intel Core i3 6100U 2.3GHz', 'AMD A10-Series 9620P 2.5GHz',\n",
       "       'AMD E-Series 7110 1.8GHz', 'Intel Celeron Dual Core N3350 2.0GHz',\n",
       "       'AMD A9-Series A9-9420 3GHz', 'Intel Core i7 6820HK 2.7GHz',\n",
       "       'Intel Core M 7Y30 1.0GHz', 'Intel Xeon E3-1535M v6 3.1GHz',\n",
       "       'Intel Celeron Quad Core N3160 1.6GHz',\n",
       "       'Intel Core i5 6300U 2.4GHz', 'Intel Core i3 6100U 2.1GHz',\n",
       "       'AMD E-Series E2-9000 2.2GHz',\n",
       "       'Intel Celeron Dual Core N3050 1.6GHz',\n",
       "       'Intel Core M M3-6Y30 0.9GHz', 'AMD A9-Series 9420 2.9GHz',\n",
       "       'Intel Core i5 6300HQ 2.3GHz', 'AMD A6-Series 7310 2GHz',\n",
       "       'Intel Atom Z8350 1.92GHz', 'Intel Xeon E3-1535M v5 2.9GHz',\n",
       "       'Intel Core i5 6260U 1.8GHz',\n",
       "       'Intel Pentium Dual Core N4200 1.1GHz',\n",
       "       'Intel Celeron Quad Core N3710 1.6GHz', 'Intel Core M 1.2GHz',\n",
       "       'AMD A12-Series 9700P 2.5GHz', 'Intel Core i7 7500U 2.5GHz',\n",
       "       'Intel Pentium Dual Core 4405U 2.1GHz',\n",
       "       'AMD A4-Series 7210 2.2GHz', 'Intel Core i7 6560U 2.2GHz',\n",
       "       'Intel Core M m7-6Y75 1.2GHz', 'AMD FX 8800P 2.1GHz',\n",
       "       'Intel Core M M7-6Y75 1.2GHz', 'Intel Core i5 7200U 2.50GHz',\n",
       "       'Intel Core i5 7200U 2.70GHz', 'Intel Atom X5-Z8350 1.44GHz',\n",
       "       'Intel Core i5 7200U 2.7GHz', 'Intel Core M 1.1GHz',\n",
       "       'Intel Pentium Dual Core 4405Y 1.5GHz',\n",
       "       'Intel Pentium Quad Core N3700 1.6GHz', 'Intel Core M 6Y54 1.1GHz',\n",
       "       'Intel Core i7 6500U 2.50GHz',\n",
       "       'Intel Celeron Dual Core N3350 2GHz',\n",
       "       'Samsung Cortex A72&A53 2.0GHz', 'AMD E-Series 9000 2.2GHz',\n",
       "       'Intel Core M 6Y30 0.9GHz', 'AMD A9-Series 9410 2.9GHz'],\n",
       "      dtype=object)"
      ]
     },
     "execution_count": 254,
     "metadata": {},
     "output_type": "execute_result"
    }
   ],
   "source": [
    "df['Cpu'].unique()"
   ]
  },
  {
   "cell_type": "code",
   "execution_count": 255,
   "id": "05f5d8cf",
   "metadata": {},
   "outputs": [],
   "source": [
    "df['CPU_name'] = df['Cpu'].apply(lambda x: \" \".join(x.split()[:3]))"
   ]
  },
  {
   "cell_type": "code",
   "execution_count": 256,
   "id": "4d04d408",
   "metadata": {},
   "outputs": [
    {
     "data": {
      "text/plain": [
       "array(['Intel Core i5', 'Intel Core i7', 'AMD A9-Series 9420',\n",
       "       'Intel Core i3', 'Intel Core M', 'Intel Atom x5-Z8350',\n",
       "       'AMD E-Series E2-9000e', 'Intel Atom x5-Z8300',\n",
       "       'AMD E-Series E2-6110', 'AMD A6-Series 9220', 'Intel Celeron Dual',\n",
       "       'AMD Ryzen 1700', 'Intel Pentium Quad', 'Intel Atom x5-Z8550',\n",
       "       'AMD FX 9830P', 'AMD E-Series 6110', 'Intel Xeon E3-1505M',\n",
       "       'AMD E-Series 9000e', 'AMD A10-Series A10-9620P',\n",
       "       'AMD A6-Series A6-9220', 'AMD A10-Series 9600P',\n",
       "       'AMD A8-Series 7410', 'AMD A12-Series 9720P', 'Intel Celeron Quad',\n",
       "       'AMD Ryzen 1600', 'AMD A10-Series 9620P', 'AMD E-Series 7110',\n",
       "       'AMD A9-Series A9-9420', 'Intel Xeon E3-1535M',\n",
       "       'AMD E-Series E2-9000', 'AMD A6-Series 7310', 'Intel Atom Z8350',\n",
       "       'Intel Pentium Dual', 'AMD A12-Series 9700P', 'AMD A4-Series 7210',\n",
       "       'AMD FX 8800P', 'Intel Atom X5-Z8350', 'Samsung Cortex A72&A53',\n",
       "       'AMD E-Series 9000', 'AMD A9-Series 9410'], dtype=object)"
      ]
     },
     "execution_count": 256,
     "metadata": {},
     "output_type": "execute_result"
    }
   ],
   "source": [
    "df['CPU_name'].unique()"
   ]
  },
  {
   "cell_type": "code",
   "execution_count": 257,
   "id": "09bc09cb",
   "metadata": {},
   "outputs": [],
   "source": [
    "# Due to large no. of classes, we will convert everything except Intel(i3, i5, i7) to \"AMD\" and \"Others\"\n",
    "def processortype(text):\n",
    "    if text == 'Intel Core i3' or text == 'Intel Core i5' or text == 'Intel Core i7':\n",
    "        return text\n",
    "    else:\n",
    "        if text.split()[0] == 'Intel':\n",
    "            return 'Other Intel Processor'\n",
    "        else:\n",
    "            return 'AMD Processor'\n",
    "\n",
    "df['CPU_name'] = df['CPU_name'].apply(lambda text: processortype(text))"
   ]
  },
  {
   "cell_type": "code",
   "execution_count": 258,
   "id": "b8b8f673",
   "metadata": {},
   "outputs": [
    {
     "name": "stderr",
     "output_type": "stream",
     "text": [
      "C:\\Users\\Asus\\anaconda3\\envs\\py3-TF2.0\\lib\\site-packages\\seaborn\\_decorators.py:36: FutureWarning: Pass the following variable as a keyword arg: x. From version 0.12, the only valid positional argument will be `data`, and passing other arguments without an explicit keyword will result in an error or misinterpretation.\n",
      "  warnings.warn(\n"
     ]
    },
    {
     "data": {
      "image/png": "[encoded data removed]",
      "text/plain": [
       "<Figure size 432x288 with 1 Axes>"
      ]
     },
     "metadata": {
      "needs_background": "light"
     },
     "output_type": "display_data"
    }
   ],
   "source": [
    "sns.countplot(df['CPU_name'], palette='autumn')\n",
    "plt.xticks(rotation='vertical')\n",
    "plt.show()"
   ]
  },
  {
   "cell_type": "code",
   "execution_count": 259,
   "id": "cb764118",
   "metadata": {},
   "outputs": [
    {
     "name": "stderr",
     "output_type": "stream",
     "text": [
      "C:\\Users\\Asus\\anaconda3\\envs\\py3-TF2.0\\lib\\site-packages\\seaborn\\_decorators.py:36: FutureWarning: Pass the following variables as keyword args: x, y. From version 0.12, the only valid positional argument will be `data`, and passing other arguments without an explicit keyword will result in an error or misinterpretation.\n",
      "  warnings.warn(\n"
     ]
    },
    {
     "data": {
      "image/png": "[encoded data removed]",
      "text/plain": [
       "<Figure size 432x288 with 1 Axes>"
      ]
     },
     "metadata": {
      "needs_background": "light"
     },
     "output_type": "display_data"
    }
   ],
   "source": [
    "sns.barplot(df['CPU_name'], df['Price'])\n",
    "plt.xticks(rotation='vertical')\n",
    "plt.show()"
   ]
  },
  {
   "cell_type": "code",
   "execution_count": 260,
   "id": "b02c2b5a",
   "metadata": {},
   "outputs": [],
   "source": [
    "df.drop('Cpu', axis=1, inplace=True)"
   ]
  },
  {
   "cell_type": "markdown",
   "id": "f4c59b8c",
   "metadata": {},
   "source": [
    "### Ram column"
   ]
  },
  {
   "cell_type": "code",
   "execution_count": 261,
   "id": "99a68d63",
   "metadata": {},
   "outputs": [
    {
     "name": "stderr",
     "output_type": "stream",
     "text": [
      "C:\\Users\\Asus\\anaconda3\\envs\\py3-TF2.0\\lib\\site-packages\\seaborn\\_decorators.py:36: FutureWarning: Pass the following variable as a keyword arg: x. From version 0.12, the only valid positional argument will be `data`, and passing other arguments without an explicit keyword will result in an error or misinterpretation.\n",
      "  warnings.warn(\n"
     ]
    },
    {
     "data": {
      "text/plain": [
       "<AxesSubplot:xlabel='Ram', ylabel='count'>"
      ]
     },
     "execution_count": 261,
     "metadata": {},
     "output_type": "execute_result"
    },
    {
     "data": {
      "image/png": "[encoded data removed]",
      "text/plain": [
       "<Figure size 432x288 with 1 Axes>"
      ]
     },
     "metadata": {
      "needs_background": "light"
     },
     "output_type": "display_data"
    }
   ],
   "source": [
    "sns.countplot(df['Ram'], palette='autumn')"
   ]
  },
  {
   "cell_type": "code",
   "execution_count": 262,
   "id": "2174e308",
   "metadata": {},
   "outputs": [
    {
     "name": "stderr",
     "output_type": "stream",
     "text": [
      "C:\\Users\\Asus\\anaconda3\\envs\\py3-TF2.0\\lib\\site-packages\\seaborn\\_decorators.py:36: FutureWarning: Pass the following variables as keyword args: x, y. From version 0.12, the only valid positional argument will be `data`, and passing other arguments without an explicit keyword will result in an error or misinterpretation.\n",
      "  warnings.warn(\n"
     ]
    },
    {
     "data": {
      "text/plain": [
       "<AxesSubplot:xlabel='Ram', ylabel='Price'>"
      ]
     },
     "execution_count": 262,
     "metadata": {},
     "output_type": "execute_result"
    },
    {
     "data": {
      "image/png": "[encoded data removed]",
      "text/plain": [
       "<Figure size 432x288 with 1 Axes>"
      ]
     },
     "metadata": {
      "needs_background": "light"
     },
     "output_type": "display_data"
    }
   ],
   "source": [
    "sns.barplot(df['Ram'], df['Price'])"
   ]
  },
  {
   "cell_type": "markdown",
   "id": "cb24bf2f",
   "metadata": {},
   "source": [
    "### Memory Column"
   ]
  },
  {
   "cell_type": "code",
   "execution_count": 263,
   "id": "1ce78c39",
   "metadata": {},
   "outputs": [
    {
     "data": {
      "text/html": [
       "<div>\n",
       "<style scoped>\n",
       "    .dataframe tbody tr th:only-of-type {\n",
       "        vertical-align: middle;\n",
       "    }\n",
       "\n",
       "    .dataframe tbody tr th {\n",
       "        vertical-align: top;\n",
       "    }\n",
       "\n",
       "    .dataframe thead th {\n",
       "        text-align: right;\n",
       "    }\n",
       "</style>\n",
       "<table border=\"1\" class=\"dataframe\">\n",
       "  <thead>\n",
       "    <tr style=\"text-align: right;\">\n",
       "      <th></th>\n",
       "      <th>0</th>\n",
       "      <th>1</th>\n",
       "    </tr>\n",
       "  </thead>\n",
       "  <tbody>\n",
       "    <tr>\n",
       "      <th>0</th>\n",
       "      <td>128 SSD</td>\n",
       "      <td>None</td>\n",
       "    </tr>\n",
       "    <tr>\n",
       "      <th>1</th>\n",
       "      <td>128 Flash Storage</td>\n",
       "      <td>None</td>\n",
       "    </tr>\n",
       "    <tr>\n",
       "      <th>2</th>\n",
       "      <td>256 SSD</td>\n",
       "      <td>None</td>\n",
       "    </tr>\n",
       "    <tr>\n",
       "      <th>3</th>\n",
       "      <td>512 SSD</td>\n",
       "      <td>None</td>\n",
       "    </tr>\n",
       "    <tr>\n",
       "      <th>4</th>\n",
       "      <td>256 SSD</td>\n",
       "      <td>None</td>\n",
       "    </tr>\n",
       "    <tr>\n",
       "      <th>...</th>\n",
       "      <td>...</td>\n",
       "      <td>...</td>\n",
       "    </tr>\n",
       "    <tr>\n",
       "      <th>1298</th>\n",
       "      <td>128 SSD</td>\n",
       "      <td>None</td>\n",
       "    </tr>\n",
       "    <tr>\n",
       "      <th>1299</th>\n",
       "      <td>512 SSD</td>\n",
       "      <td>None</td>\n",
       "    </tr>\n",
       "    <tr>\n",
       "      <th>1300</th>\n",
       "      <td>64 Flash Storage</td>\n",
       "      <td>None</td>\n",
       "    </tr>\n",
       "    <tr>\n",
       "      <th>1301</th>\n",
       "      <td>1 HDD</td>\n",
       "      <td>None</td>\n",
       "    </tr>\n",
       "    <tr>\n",
       "      <th>1302</th>\n",
       "      <td>500 HDD</td>\n",
       "      <td>None</td>\n",
       "    </tr>\n",
       "  </tbody>\n",
       "</table>\n",
       "<p>1303 rows × 2 columns</p>\n",
       "</div>"
      ],
      "text/plain": [
       "                      0     1\n",
       "0               128 SSD  None\n",
       "1     128 Flash Storage  None\n",
       "2               256 SSD  None\n",
       "3               512 SSD  None\n",
       "4               256 SSD  None\n",
       "...                 ...   ...\n",
       "1298            128 SSD  None\n",
       "1299            512 SSD  None\n",
       "1300   64 Flash Storage  None\n",
       "1301              1 HDD  None\n",
       "1302            500 HDD  None\n",
       "\n",
       "[1303 rows x 2 columns]"
      ]
     },
     "execution_count": 263,
     "metadata": {},
     "output_type": "execute_result"
    }
   ],
   "source": [
    "df['Memory'] = df['Memory'].astype(str).replace('\\.0', regex=True)\n",
    "df['Memory'] = df['Memory'].str.replace('GB', '')\n",
    "df['Memory'] = df['Memory'].str.replace('TB', '')\n",
    "newdf = df['Memory'].str.split('+', n=1, expand=True)\n",
    "newdf"
   ]
  },
  {
   "cell_type": "code",
   "execution_count": 264,
   "id": "b6064847",
   "metadata": {
    "scrolled": true
   },
   "outputs": [
    {
     "data": {
      "text/html": [
       "<div>\n",
       "<style scoped>\n",
       "    .dataframe tbody tr th:only-of-type {\n",
       "        vertical-align: middle;\n",
       "    }\n",
       "\n",
       "    .dataframe tbody tr th {\n",
       "        vertical-align: top;\n",
       "    }\n",
       "\n",
       "    .dataframe thead th {\n",
       "        text-align: right;\n",
       "    }\n",
       "</style>\n",
       "<table border=\"1\" class=\"dataframe\">\n",
       "  <thead>\n",
       "    <tr style=\"text-align: right;\">\n",
       "      <th></th>\n",
       "      <th>Company</th>\n",
       "      <th>TypeName</th>\n",
       "      <th>Ram</th>\n",
       "      <th>Memory</th>\n",
       "      <th>Gpu</th>\n",
       "      <th>OpSys</th>\n",
       "      <th>Weight</th>\n",
       "      <th>Price</th>\n",
       "      <th>Touchscreen</th>\n",
       "      <th>IPS</th>\n",
       "      <th>PPI</th>\n",
       "      <th>CPU_name</th>\n",
       "      <th>First</th>\n",
       "    </tr>\n",
       "  </thead>\n",
       "  <tbody>\n",
       "    <tr>\n",
       "      <th>0</th>\n",
       "      <td>Apple</td>\n",
       "      <td>Ultrabook</td>\n",
       "      <td>8</td>\n",
       "      <td>128 SSD</td>\n",
       "      <td>Intel Iris Plus Graphics 640</td>\n",
       "      <td>macOS</td>\n",
       "      <td>1.37</td>\n",
       "      <td>71378.6832</td>\n",
       "      <td>0</td>\n",
       "      <td>1</td>\n",
       "      <td>226.983005</td>\n",
       "      <td>Intel Core i5</td>\n",
       "      <td>128 SSD</td>\n",
       "    </tr>\n",
       "    <tr>\n",
       "      <th>1</th>\n",
       "      <td>Apple</td>\n",
       "      <td>Ultrabook</td>\n",
       "      <td>8</td>\n",
       "      <td>128 Flash Storage</td>\n",
       "      <td>Intel HD Graphics 6000</td>\n",
       "      <td>macOS</td>\n",
       "      <td>1.34</td>\n",
       "      <td>47895.5232</td>\n",
       "      <td>0</td>\n",
       "      <td>0</td>\n",
       "      <td>127.677940</td>\n",
       "      <td>Intel Core i5</td>\n",
       "      <td>128 Flash Storage</td>\n",
       "    </tr>\n",
       "    <tr>\n",
       "      <th>2</th>\n",
       "      <td>HP</td>\n",
       "      <td>Notebook</td>\n",
       "      <td>8</td>\n",
       "      <td>256 SSD</td>\n",
       "      <td>Intel HD Graphics 620</td>\n",
       "      <td>No OS</td>\n",
       "      <td>1.86</td>\n",
       "      <td>30636.0000</td>\n",
       "      <td>0</td>\n",
       "      <td>0</td>\n",
       "      <td>141.211998</td>\n",
       "      <td>Intel Core i5</td>\n",
       "      <td>256 SSD</td>\n",
       "    </tr>\n",
       "    <tr>\n",
       "      <th>3</th>\n",
       "      <td>Apple</td>\n",
       "      <td>Ultrabook</td>\n",
       "      <td>16</td>\n",
       "      <td>512 SSD</td>\n",
       "      <td>AMD Radeon Pro 455</td>\n",
       "      <td>macOS</td>\n",
       "      <td>1.83</td>\n",
       "      <td>135195.3360</td>\n",
       "      <td>0</td>\n",
       "      <td>1</td>\n",
       "      <td>220.534624</td>\n",
       "      <td>Intel Core i7</td>\n",
       "      <td>512 SSD</td>\n",
       "    </tr>\n",
       "    <tr>\n",
       "      <th>4</th>\n",
       "      <td>Apple</td>\n",
       "      <td>Ultrabook</td>\n",
       "      <td>8</td>\n",
       "      <td>256 SSD</td>\n",
       "      <td>Intel Iris Plus Graphics 650</td>\n",
       "      <td>macOS</td>\n",
       "      <td>1.37</td>\n",
       "      <td>96095.8080</td>\n",
       "      <td>0</td>\n",
       "      <td>1</td>\n",
       "      <td>226.983005</td>\n",
       "      <td>Intel Core i5</td>\n",
       "      <td>256 SSD</td>\n",
       "    </tr>\n",
       "  </tbody>\n",
       "</table>\n",
       "</div>"
      ],
      "text/plain": [
       "  Company   TypeName  Ram             Memory                           Gpu  \\\n",
       "0   Apple  Ultrabook    8            128 SSD  Intel Iris Plus Graphics 640   \n",
       "1   Apple  Ultrabook    8  128 Flash Storage        Intel HD Graphics 6000   \n",
       "2      HP   Notebook    8            256 SSD         Intel HD Graphics 620   \n",
       "3   Apple  Ultrabook   16            512 SSD            AMD Radeon Pro 455   \n",
       "4   Apple  Ultrabook    8            256 SSD  Intel Iris Plus Graphics 650   \n",
       "\n",
       "   OpSys  Weight        Price  Touchscreen  IPS         PPI       CPU_name  \\\n",
       "0  macOS    1.37   71378.6832            0    1  226.983005  Intel Core i5   \n",
       "1  macOS    1.34   47895.5232            0    0  127.677940  Intel Core i5   \n",
       "2  No OS    1.86   30636.0000            0    0  141.211998  Intel Core i5   \n",
       "3  macOS    1.83  135195.3360            0    1  220.534624  Intel Core i7   \n",
       "4  macOS    1.37   96095.8080            0    1  226.983005  Intel Core i5   \n",
       "\n",
       "               First  \n",
       "0            128 SSD  \n",
       "1  128 Flash Storage  \n",
       "2            256 SSD  \n",
       "3            512 SSD  \n",
       "4            256 SSD  "
      ]
     },
     "execution_count": 264,
     "metadata": {},
     "output_type": "execute_result"
    }
   ],
   "source": [
    "df['First'] = newdf[0]\n",
    "df['First'] = df['First'].str.strip()\n",
    "df.head()"
   ]
  },
  {
   "cell_type": "code",
   "execution_count": 265,
   "id": "dd92bbe7",
   "metadata": {},
   "outputs": [
    {
     "data": {
      "text/html": [
       "<div>\n",
       "<style scoped>\n",
       "    .dataframe tbody tr th:only-of-type {\n",
       "        vertical-align: middle;\n",
       "    }\n",
       "\n",
       "    .dataframe tbody tr th {\n",
       "        vertical-align: top;\n",
       "    }\n",
       "\n",
       "    .dataframe thead th {\n",
       "        text-align: right;\n",
       "    }\n",
       "</style>\n",
       "<table border=\"1\" class=\"dataframe\">\n",
       "  <thead>\n",
       "    <tr style=\"text-align: right;\">\n",
       "      <th></th>\n",
       "      <th>Company</th>\n",
       "      <th>TypeName</th>\n",
       "      <th>Ram</th>\n",
       "      <th>Memory</th>\n",
       "      <th>Gpu</th>\n",
       "      <th>OpSys</th>\n",
       "      <th>Weight</th>\n",
       "      <th>Price</th>\n",
       "      <th>Touchscreen</th>\n",
       "      <th>IPS</th>\n",
       "      <th>PPI</th>\n",
       "      <th>CPU_name</th>\n",
       "      <th>First</th>\n",
       "      <th>Layer1_HDD</th>\n",
       "      <th>Layer1_SSD</th>\n",
       "      <th>Layer1_Hybrid</th>\n",
       "      <th>Layer1_Flash Storage</th>\n",
       "    </tr>\n",
       "  </thead>\n",
       "  <tbody>\n",
       "    <tr>\n",
       "      <th>0</th>\n",
       "      <td>Apple</td>\n",
       "      <td>Ultrabook</td>\n",
       "      <td>8</td>\n",
       "      <td>128 SSD</td>\n",
       "      <td>Intel Iris Plus Graphics 640</td>\n",
       "      <td>macOS</td>\n",
       "      <td>1.37</td>\n",
       "      <td>71378.6832</td>\n",
       "      <td>0</td>\n",
       "      <td>1</td>\n",
       "      <td>226.983005</td>\n",
       "      <td>Intel Core i5</td>\n",
       "      <td>128 SSD</td>\n",
       "      <td>0</td>\n",
       "      <td>1</td>\n",
       "      <td>0</td>\n",
       "      <td>0</td>\n",
       "    </tr>\n",
       "    <tr>\n",
       "      <th>1</th>\n",
       "      <td>Apple</td>\n",
       "      <td>Ultrabook</td>\n",
       "      <td>8</td>\n",
       "      <td>128 Flash Storage</td>\n",
       "      <td>Intel HD Graphics 6000</td>\n",
       "      <td>macOS</td>\n",
       "      <td>1.34</td>\n",
       "      <td>47895.5232</td>\n",
       "      <td>0</td>\n",
       "      <td>0</td>\n",
       "      <td>127.677940</td>\n",
       "      <td>Intel Core i5</td>\n",
       "      <td>128 Flash Storage</td>\n",
       "      <td>0</td>\n",
       "      <td>0</td>\n",
       "      <td>0</td>\n",
       "      <td>1</td>\n",
       "    </tr>\n",
       "    <tr>\n",
       "      <th>2</th>\n",
       "      <td>HP</td>\n",
       "      <td>Notebook</td>\n",
       "      <td>8</td>\n",
       "      <td>256 SSD</td>\n",
       "      <td>Intel HD Graphics 620</td>\n",
       "      <td>No OS</td>\n",
       "      <td>1.86</td>\n",
       "      <td>30636.0000</td>\n",
       "      <td>0</td>\n",
       "      <td>0</td>\n",
       "      <td>141.211998</td>\n",
       "      <td>Intel Core i5</td>\n",
       "      <td>256 SSD</td>\n",
       "      <td>0</td>\n",
       "      <td>1</td>\n",
       "      <td>0</td>\n",
       "      <td>0</td>\n",
       "    </tr>\n",
       "    <tr>\n",
       "      <th>3</th>\n",
       "      <td>Apple</td>\n",
       "      <td>Ultrabook</td>\n",
       "      <td>16</td>\n",
       "      <td>512 SSD</td>\n",
       "      <td>AMD Radeon Pro 455</td>\n",
       "      <td>macOS</td>\n",
       "      <td>1.83</td>\n",
       "      <td>135195.3360</td>\n",
       "      <td>0</td>\n",
       "      <td>1</td>\n",
       "      <td>220.534624</td>\n",
       "      <td>Intel Core i7</td>\n",
       "      <td>512 SSD</td>\n",
       "      <td>0</td>\n",
       "      <td>1</td>\n",
       "      <td>0</td>\n",
       "      <td>0</td>\n",
       "    </tr>\n",
       "    <tr>\n",
       "      <th>4</th>\n",
       "      <td>Apple</td>\n",
       "      <td>Ultrabook</td>\n",
       "      <td>8</td>\n",
       "      <td>256 SSD</td>\n",
       "      <td>Intel Iris Plus Graphics 650</td>\n",
       "      <td>macOS</td>\n",
       "      <td>1.37</td>\n",
       "      <td>96095.8080</td>\n",
       "      <td>0</td>\n",
       "      <td>1</td>\n",
       "      <td>226.983005</td>\n",
       "      <td>Intel Core i5</td>\n",
       "      <td>256 SSD</td>\n",
       "      <td>0</td>\n",
       "      <td>1</td>\n",
       "      <td>0</td>\n",
       "      <td>0</td>\n",
       "    </tr>\n",
       "  </tbody>\n",
       "</table>\n",
       "</div>"
      ],
      "text/plain": [
       "  Company   TypeName  Ram             Memory                           Gpu  \\\n",
       "0   Apple  Ultrabook    8            128 SSD  Intel Iris Plus Graphics 640   \n",
       "1   Apple  Ultrabook    8  128 Flash Storage        Intel HD Graphics 6000   \n",
       "2      HP   Notebook    8            256 SSD         Intel HD Graphics 620   \n",
       "3   Apple  Ultrabook   16            512 SSD            AMD Radeon Pro 455   \n",
       "4   Apple  Ultrabook    8            256 SSD  Intel Iris Plus Graphics 650   \n",
       "\n",
       "   OpSys  Weight        Price  Touchscreen  IPS         PPI       CPU_name  \\\n",
       "0  macOS    1.37   71378.6832            0    1  226.983005  Intel Core i5   \n",
       "1  macOS    1.34   47895.5232            0    0  127.677940  Intel Core i5   \n",
       "2  No OS    1.86   30636.0000            0    0  141.211998  Intel Core i5   \n",
       "3  macOS    1.83  135195.3360            0    1  220.534624  Intel Core i7   \n",
       "4  macOS    1.37   96095.8080            0    1  226.983005  Intel Core i5   \n",
       "\n",
       "               First  Layer1_HDD  Layer1_SSD  Layer1_Hybrid  \\\n",
       "0            128 SSD           0           1              0   \n",
       "1  128 Flash Storage           0           0              0   \n",
       "2            256 SSD           0           1              0   \n",
       "3            512 SSD           0           1              0   \n",
       "4            256 SSD           0           1              0   \n",
       "\n",
       "   Layer1_Flash Storage  \n",
       "0                     0  \n",
       "1                     1  \n",
       "2                     0  \n",
       "3                     0  \n",
       "4                     0  "
      ]
     },
     "execution_count": 265,
     "metadata": {},
     "output_type": "execute_result"
    }
   ],
   "source": [
    "def applychanges(value):\n",
    "    df['Layer1_'+value] = df['First'].apply(lambda x:1 if value in x else 0)\n",
    "\n",
    "list_to_apply = ['HDD', 'SSD', 'Hybrid', 'Flash Storage']\n",
    "for value in list_to_apply:\n",
    "    applychanges(value)\n",
    "\n",
    "df.head()"
   ]
  },
  {
   "cell_type": "code",
   "execution_count": 266,
   "id": "9d294442",
   "metadata": {},
   "outputs": [
    {
     "name": "stderr",
     "output_type": "stream",
     "text": [
      "C:\\Users\\Asus\\AppData\\Local\\Temp\\ipykernel_13412\\2920496641.py:1: FutureWarning: The default value of regex will change from True to False in a future version.\n",
      "  df['First'] = df['First'].str.replace(r'\\D', '')\n"
     ]
    },
    {
     "data": {
      "text/plain": [
       "256    508\n",
       "1      240\n",
       "128    177\n",
       "512    140\n",
       "500    132\n",
       "32      45\n",
       "64      17\n",
       "2       16\n",
       "10      10\n",
       "16      10\n",
       "180      5\n",
       "240      1\n",
       "8        1\n",
       "508      1\n",
       "Name: First, dtype: int64"
      ]
     },
     "execution_count": 266,
     "metadata": {},
     "output_type": "execute_result"
    }
   ],
   "source": [
    "df['First'] = df['First'].str.replace(r'\\D', '')\n",
    "df['First'].value_counts()"
   ]
  },
  {
   "cell_type": "code",
   "execution_count": 267,
   "id": "f2ab7cc7",
   "metadata": {
    "scrolled": true
   },
   "outputs": [
    {
     "data": {
      "text/html": [
       "<div>\n",
       "<style scoped>\n",
       "    .dataframe tbody tr th:only-of-type {\n",
       "        vertical-align: middle;\n",
       "    }\n",
       "\n",
       "    .dataframe tbody tr th {\n",
       "        vertical-align: top;\n",
       "    }\n",
       "\n",
       "    .dataframe thead th {\n",
       "        text-align: right;\n",
       "    }\n",
       "</style>\n",
       "<table border=\"1\" class=\"dataframe\">\n",
       "  <thead>\n",
       "    <tr style=\"text-align: right;\">\n",
       "      <th></th>\n",
       "      <th>Company</th>\n",
       "      <th>TypeName</th>\n",
       "      <th>Ram</th>\n",
       "      <th>Memory</th>\n",
       "      <th>Gpu</th>\n",
       "      <th>OpSys</th>\n",
       "      <th>Weight</th>\n",
       "      <th>Price</th>\n",
       "      <th>Touchscreen</th>\n",
       "      <th>IPS</th>\n",
       "      <th>PPI</th>\n",
       "      <th>CPU_name</th>\n",
       "      <th>First</th>\n",
       "      <th>Layer1_HDD</th>\n",
       "      <th>Layer1_SSD</th>\n",
       "      <th>Layer1_Hybrid</th>\n",
       "      <th>Layer1_Flash Storage</th>\n",
       "      <th>Second</th>\n",
       "    </tr>\n",
       "  </thead>\n",
       "  <tbody>\n",
       "    <tr>\n",
       "      <th>0</th>\n",
       "      <td>Apple</td>\n",
       "      <td>Ultrabook</td>\n",
       "      <td>8</td>\n",
       "      <td>128 SSD</td>\n",
       "      <td>Intel Iris Plus Graphics 640</td>\n",
       "      <td>macOS</td>\n",
       "      <td>1.37</td>\n",
       "      <td>71378.6832</td>\n",
       "      <td>0</td>\n",
       "      <td>1</td>\n",
       "      <td>226.983005</td>\n",
       "      <td>Intel Core i5</td>\n",
       "      <td>128</td>\n",
       "      <td>0</td>\n",
       "      <td>1</td>\n",
       "      <td>0</td>\n",
       "      <td>0</td>\n",
       "      <td>None</td>\n",
       "    </tr>\n",
       "    <tr>\n",
       "      <th>1</th>\n",
       "      <td>Apple</td>\n",
       "      <td>Ultrabook</td>\n",
       "      <td>8</td>\n",
       "      <td>128 Flash Storage</td>\n",
       "      <td>Intel HD Graphics 6000</td>\n",
       "      <td>macOS</td>\n",
       "      <td>1.34</td>\n",
       "      <td>47895.5232</td>\n",
       "      <td>0</td>\n",
       "      <td>0</td>\n",
       "      <td>127.677940</td>\n",
       "      <td>Intel Core i5</td>\n",
       "      <td>128</td>\n",
       "      <td>0</td>\n",
       "      <td>0</td>\n",
       "      <td>0</td>\n",
       "      <td>1</td>\n",
       "      <td>None</td>\n",
       "    </tr>\n",
       "    <tr>\n",
       "      <th>2</th>\n",
       "      <td>HP</td>\n",
       "      <td>Notebook</td>\n",
       "      <td>8</td>\n",
       "      <td>256 SSD</td>\n",
       "      <td>Intel HD Graphics 620</td>\n",
       "      <td>No OS</td>\n",
       "      <td>1.86</td>\n",
       "      <td>30636.0000</td>\n",
       "      <td>0</td>\n",
       "      <td>0</td>\n",
       "      <td>141.211998</td>\n",
       "      <td>Intel Core i5</td>\n",
       "      <td>256</td>\n",
       "      <td>0</td>\n",
       "      <td>1</td>\n",
       "      <td>0</td>\n",
       "      <td>0</td>\n",
       "      <td>None</td>\n",
       "    </tr>\n",
       "    <tr>\n",
       "      <th>3</th>\n",
       "      <td>Apple</td>\n",
       "      <td>Ultrabook</td>\n",
       "      <td>16</td>\n",
       "      <td>512 SSD</td>\n",
       "      <td>AMD Radeon Pro 455</td>\n",
       "      <td>macOS</td>\n",
       "      <td>1.83</td>\n",
       "      <td>135195.3360</td>\n",
       "      <td>0</td>\n",
       "      <td>1</td>\n",
       "      <td>220.534624</td>\n",
       "      <td>Intel Core i7</td>\n",
       "      <td>512</td>\n",
       "      <td>0</td>\n",
       "      <td>1</td>\n",
       "      <td>0</td>\n",
       "      <td>0</td>\n",
       "      <td>None</td>\n",
       "    </tr>\n",
       "    <tr>\n",
       "      <th>4</th>\n",
       "      <td>Apple</td>\n",
       "      <td>Ultrabook</td>\n",
       "      <td>8</td>\n",
       "      <td>256 SSD</td>\n",
       "      <td>Intel Iris Plus Graphics 650</td>\n",
       "      <td>macOS</td>\n",
       "      <td>1.37</td>\n",
       "      <td>96095.8080</td>\n",
       "      <td>0</td>\n",
       "      <td>1</td>\n",
       "      <td>226.983005</td>\n",
       "      <td>Intel Core i5</td>\n",
       "      <td>256</td>\n",
       "      <td>0</td>\n",
       "      <td>1</td>\n",
       "      <td>0</td>\n",
       "      <td>0</td>\n",
       "      <td>None</td>\n",
       "    </tr>\n",
       "  </tbody>\n",
       "</table>\n",
       "</div>"
      ],
      "text/plain": [
       "  Company   TypeName  Ram             Memory                           Gpu  \\\n",
       "0   Apple  Ultrabook    8            128 SSD  Intel Iris Plus Graphics 640   \n",
       "1   Apple  Ultrabook    8  128 Flash Storage        Intel HD Graphics 6000   \n",
       "2      HP   Notebook    8            256 SSD         Intel HD Graphics 620   \n",
       "3   Apple  Ultrabook   16            512 SSD            AMD Radeon Pro 455   \n",
       "4   Apple  Ultrabook    8            256 SSD  Intel Iris Plus Graphics 650   \n",
       "\n",
       "   OpSys  Weight        Price  Touchscreen  IPS         PPI       CPU_name  \\\n",
       "0  macOS    1.37   71378.6832            0    1  226.983005  Intel Core i5   \n",
       "1  macOS    1.34   47895.5232            0    0  127.677940  Intel Core i5   \n",
       "2  No OS    1.86   30636.0000            0    0  141.211998  Intel Core i5   \n",
       "3  macOS    1.83  135195.3360            0    1  220.534624  Intel Core i7   \n",
       "4  macOS    1.37   96095.8080            0    1  226.983005  Intel Core i5   \n",
       "\n",
       "  First  Layer1_HDD  Layer1_SSD  Layer1_Hybrid  Layer1_Flash Storage Second  \n",
       "0   128           0           1              0                     0   None  \n",
       "1   128           0           0              0                     1   None  \n",
       "2   256           0           1              0                     0   None  \n",
       "3   512           0           1              0                     0   None  \n",
       "4   256           0           1              0                     0   None  "
      ]
     },
     "execution_count": 267,
     "metadata": {},
     "output_type": "execute_result"
    }
   ],
   "source": [
    "df['Second'] = newdf[1]\n",
    "df.head()"
   ]
  },
  {
   "cell_type": "code",
   "execution_count": 268,
   "id": "4f1948c4",
   "metadata": {},
   "outputs": [
    {
     "name": "stderr",
     "output_type": "stream",
     "text": [
      "C:\\Users\\Asus\\AppData\\Local\\Temp\\ipykernel_13412\\1271213254.py:10: FutureWarning: The default value of regex will change from True to False in a future version.\n",
      "  df['Second'] = df['Second'].str.replace(r'\\D', '')\n"
     ]
    },
    {
     "data": {
      "text/plain": [
       "0      1095\n",
       "1       185\n",
       "2        15\n",
       "256       3\n",
       "500       2\n",
       "10        2\n",
       "512       1\n",
       "Name: Second, dtype: int64"
      ]
     },
     "execution_count": 268,
     "metadata": {},
     "output_type": "execute_result"
    }
   ],
   "source": [
    "def applychanges1(value):\n",
    "    df['Layer2_'+value] = df['Second'].apply(lambda x:1 if value in x else 0)\n",
    "\n",
    "list_to_apply1 = ['HDD', 'SSD', 'Hybrid', 'Flash Storage']\n",
    "df['Second'] = df['Second'].fillna('0')\n",
    "for value in list_to_apply1:\n",
    "    applychanges1(value)\n",
    "\n",
    "\n",
    "df['Second'] = df['Second'].str.replace(r'\\D', '')\n",
    "df['Second'].value_counts()"
   ]
  },
  {
   "cell_type": "code",
   "execution_count": 269,
   "id": "73034640",
   "metadata": {},
   "outputs": [
    {
     "data": {
      "text/html": [
       "<div>\n",
       "<style scoped>\n",
       "    .dataframe tbody tr th:only-of-type {\n",
       "        vertical-align: middle;\n",
       "    }\n",
       "\n",
       "    .dataframe tbody tr th {\n",
       "        vertical-align: top;\n",
       "    }\n",
       "\n",
       "    .dataframe thead th {\n",
       "        text-align: right;\n",
       "    }\n",
       "</style>\n",
       "<table border=\"1\" class=\"dataframe\">\n",
       "  <thead>\n",
       "    <tr style=\"text-align: right;\">\n",
       "      <th></th>\n",
       "      <th>Company</th>\n",
       "      <th>TypeName</th>\n",
       "      <th>Ram</th>\n",
       "      <th>Memory</th>\n",
       "      <th>Gpu</th>\n",
       "      <th>OpSys</th>\n",
       "      <th>Weight</th>\n",
       "      <th>Price</th>\n",
       "      <th>Touchscreen</th>\n",
       "      <th>IPS</th>\n",
       "      <th>...</th>\n",
       "      <th>First</th>\n",
       "      <th>Layer1_HDD</th>\n",
       "      <th>Layer1_SSD</th>\n",
       "      <th>Layer1_Hybrid</th>\n",
       "      <th>Layer1_Flash Storage</th>\n",
       "      <th>Second</th>\n",
       "      <th>Layer2_HDD</th>\n",
       "      <th>Layer2_SSD</th>\n",
       "      <th>Layer2_Hybrid</th>\n",
       "      <th>Layer2_Flash Storage</th>\n",
       "    </tr>\n",
       "  </thead>\n",
       "  <tbody>\n",
       "    <tr>\n",
       "      <th>0</th>\n",
       "      <td>Apple</td>\n",
       "      <td>Ultrabook</td>\n",
       "      <td>8</td>\n",
       "      <td>128 SSD</td>\n",
       "      <td>Intel Iris Plus Graphics 640</td>\n",
       "      <td>macOS</td>\n",
       "      <td>1.37</td>\n",
       "      <td>71378.6832</td>\n",
       "      <td>0</td>\n",
       "      <td>1</td>\n",
       "      <td>...</td>\n",
       "      <td>128</td>\n",
       "      <td>0</td>\n",
       "      <td>1</td>\n",
       "      <td>0</td>\n",
       "      <td>0</td>\n",
       "      <td>0</td>\n",
       "      <td>0</td>\n",
       "      <td>0</td>\n",
       "      <td>0</td>\n",
       "      <td>0</td>\n",
       "    </tr>\n",
       "    <tr>\n",
       "      <th>1</th>\n",
       "      <td>Apple</td>\n",
       "      <td>Ultrabook</td>\n",
       "      <td>8</td>\n",
       "      <td>128 Flash Storage</td>\n",
       "      <td>Intel HD Graphics 6000</td>\n",
       "      <td>macOS</td>\n",
       "      <td>1.34</td>\n",
       "      <td>47895.5232</td>\n",
       "      <td>0</td>\n",
       "      <td>0</td>\n",
       "      <td>...</td>\n",
       "      <td>128</td>\n",
       "      <td>0</td>\n",
       "      <td>0</td>\n",
       "      <td>0</td>\n",
       "      <td>1</td>\n",
       "      <td>0</td>\n",
       "      <td>0</td>\n",
       "      <td>0</td>\n",
       "      <td>0</td>\n",
       "      <td>0</td>\n",
       "    </tr>\n",
       "    <tr>\n",
       "      <th>2</th>\n",
       "      <td>HP</td>\n",
       "      <td>Notebook</td>\n",
       "      <td>8</td>\n",
       "      <td>256 SSD</td>\n",
       "      <td>Intel HD Graphics 620</td>\n",
       "      <td>No OS</td>\n",
       "      <td>1.86</td>\n",
       "      <td>30636.0000</td>\n",
       "      <td>0</td>\n",
       "      <td>0</td>\n",
       "      <td>...</td>\n",
       "      <td>256</td>\n",
       "      <td>0</td>\n",
       "      <td>1</td>\n",
       "      <td>0</td>\n",
       "      <td>0</td>\n",
       "      <td>0</td>\n",
       "      <td>0</td>\n",
       "      <td>0</td>\n",
       "      <td>0</td>\n",
       "      <td>0</td>\n",
       "    </tr>\n",
       "    <tr>\n",
       "      <th>3</th>\n",
       "      <td>Apple</td>\n",
       "      <td>Ultrabook</td>\n",
       "      <td>16</td>\n",
       "      <td>512 SSD</td>\n",
       "      <td>AMD Radeon Pro 455</td>\n",
       "      <td>macOS</td>\n",
       "      <td>1.83</td>\n",
       "      <td>135195.3360</td>\n",
       "      <td>0</td>\n",
       "      <td>1</td>\n",
       "      <td>...</td>\n",
       "      <td>512</td>\n",
       "      <td>0</td>\n",
       "      <td>1</td>\n",
       "      <td>0</td>\n",
       "      <td>0</td>\n",
       "      <td>0</td>\n",
       "      <td>0</td>\n",
       "      <td>0</td>\n",
       "      <td>0</td>\n",
       "      <td>0</td>\n",
       "    </tr>\n",
       "    <tr>\n",
       "      <th>4</th>\n",
       "      <td>Apple</td>\n",
       "      <td>Ultrabook</td>\n",
       "      <td>8</td>\n",
       "      <td>256 SSD</td>\n",
       "      <td>Intel Iris Plus Graphics 650</td>\n",
       "      <td>macOS</td>\n",
       "      <td>1.37</td>\n",
       "      <td>96095.8080</td>\n",
       "      <td>0</td>\n",
       "      <td>1</td>\n",
       "      <td>...</td>\n",
       "      <td>256</td>\n",
       "      <td>0</td>\n",
       "      <td>1</td>\n",
       "      <td>0</td>\n",
       "      <td>0</td>\n",
       "      <td>0</td>\n",
       "      <td>0</td>\n",
       "      <td>0</td>\n",
       "      <td>0</td>\n",
       "      <td>0</td>\n",
       "    </tr>\n",
       "  </tbody>\n",
       "</table>\n",
       "<p>5 rows × 22 columns</p>\n",
       "</div>"
      ],
      "text/plain": [
       "  Company   TypeName  Ram             Memory                           Gpu  \\\n",
       "0   Apple  Ultrabook    8            128 SSD  Intel Iris Plus Graphics 640   \n",
       "1   Apple  Ultrabook    8  128 Flash Storage        Intel HD Graphics 6000   \n",
       "2      HP   Notebook    8            256 SSD         Intel HD Graphics 620   \n",
       "3   Apple  Ultrabook   16            512 SSD            AMD Radeon Pro 455   \n",
       "4   Apple  Ultrabook    8            256 SSD  Intel Iris Plus Graphics 650   \n",
       "\n",
       "   OpSys  Weight        Price  Touchscreen  IPS  ...  First Layer1_HDD  \\\n",
       "0  macOS    1.37   71378.6832            0    1  ...    128          0   \n",
       "1  macOS    1.34   47895.5232            0    0  ...    128          0   \n",
       "2  No OS    1.86   30636.0000            0    0  ...    256          0   \n",
       "3  macOS    1.83  135195.3360            0    1  ...    512          0   \n",
       "4  macOS    1.37   96095.8080            0    1  ...    256          0   \n",
       "\n",
       "  Layer1_SSD  Layer1_Hybrid  Layer1_Flash Storage  Second  Layer2_HDD  \\\n",
       "0          1              0                     0       0           0   \n",
       "1          0              0                     1       0           0   \n",
       "2          1              0                     0       0           0   \n",
       "3          1              0                     0       0           0   \n",
       "4          1              0                     0       0           0   \n",
       "\n",
       "  Layer2_SSD  Layer2_Hybrid  Layer2_Flash Storage  \n",
       "0          0              0                     0  \n",
       "1          0              0                     0  \n",
       "2          0              0                     0  \n",
       "3          0              0                     0  \n",
       "4          0              0                     0  \n",
       "\n",
       "[5 rows x 22 columns]"
      ]
     },
     "execution_count": 269,
     "metadata": {},
     "output_type": "execute_result"
    }
   ],
   "source": [
    "df.head()"
   ]
  },
  {
   "cell_type": "code",
   "execution_count": 270,
   "id": "17c14800",
   "metadata": {},
   "outputs": [],
   "source": [
    "df['HDD'] = (df['First']*df['Layer1_HDD']+df['Second']*df['Layer2_HDD'])\n",
    "df['SSD'] = (df['First']*df['Layer1_SSD']+df['Second']*df['Layer2_SSD'])\n",
    "df['Hybrid'] = (df['First']*df['Layer1_Hybrid']+df['Second']*df['Layer2_Hybrid'])\n",
    "df['Flash_Storage'] = (df['First']*df['Layer1_Flash Storage']+df['Second']*df['Layer2_Flash Storage'])\n",
    "\n",
    "df.drop(columns=['First', 'Second', 'Layer1_HDD', 'Layer1_SSD', 'Layer1_Hybrid', 'Layer1_Flash Storage', 'Layer2_HDD', 'Layer2_SSD', 'Layer2_Hybrid', 'Layer2_Flash Storage'], inplace=True)"
   ]
  },
  {
   "cell_type": "code",
   "execution_count": 272,
   "id": "cd5e0046",
   "metadata": {},
   "outputs": [
    {
     "data": {
      "text/html": [
       "<div>\n",
       "<style scoped>\n",
       "    .dataframe tbody tr th:only-of-type {\n",
       "        vertical-align: middle;\n",
       "    }\n",
       "\n",
       "    .dataframe tbody tr th {\n",
       "        vertical-align: top;\n",
       "    }\n",
       "\n",
       "    .dataframe thead th {\n",
       "        text-align: right;\n",
       "    }\n",
       "</style>\n",
       "<table border=\"1\" class=\"dataframe\">\n",
       "  <thead>\n",
       "    <tr style=\"text-align: right;\">\n",
       "      <th></th>\n",
       "      <th>Company</th>\n",
       "      <th>TypeName</th>\n",
       "      <th>Ram</th>\n",
       "      <th>Memory</th>\n",
       "      <th>Gpu</th>\n",
       "      <th>OpSys</th>\n",
       "      <th>Weight</th>\n",
       "      <th>Price</th>\n",
       "      <th>Touchscreen</th>\n",
       "      <th>IPS</th>\n",
       "      <th>PPI</th>\n",
       "      <th>CPU_name</th>\n",
       "      <th>HDD</th>\n",
       "      <th>SSD</th>\n",
       "      <th>Hybrid</th>\n",
       "      <th>Flash_Storage</th>\n",
       "    </tr>\n",
       "  </thead>\n",
       "  <tbody>\n",
       "    <tr>\n",
       "      <th>0</th>\n",
       "      <td>Apple</td>\n",
       "      <td>Ultrabook</td>\n",
       "      <td>8</td>\n",
       "      <td>128 SSD</td>\n",
       "      <td>Intel Iris Plus Graphics 640</td>\n",
       "      <td>macOS</td>\n",
       "      <td>1.37</td>\n",
       "      <td>71378.6832</td>\n",
       "      <td>0</td>\n",
       "      <td>1</td>\n",
       "      <td>226.983005</td>\n",
       "      <td>Intel Core i5</td>\n",
       "      <td></td>\n",
       "      <td>128</td>\n",
       "      <td></td>\n",
       "      <td></td>\n",
       "    </tr>\n",
       "    <tr>\n",
       "      <th>1</th>\n",
       "      <td>Apple</td>\n",
       "      <td>Ultrabook</td>\n",
       "      <td>8</td>\n",
       "      <td>128 Flash Storage</td>\n",
       "      <td>Intel HD Graphics 6000</td>\n",
       "      <td>macOS</td>\n",
       "      <td>1.34</td>\n",
       "      <td>47895.5232</td>\n",
       "      <td>0</td>\n",
       "      <td>0</td>\n",
       "      <td>127.677940</td>\n",
       "      <td>Intel Core i5</td>\n",
       "      <td></td>\n",
       "      <td></td>\n",
       "      <td></td>\n",
       "      <td>128</td>\n",
       "    </tr>\n",
       "    <tr>\n",
       "      <th>2</th>\n",
       "      <td>HP</td>\n",
       "      <td>Notebook</td>\n",
       "      <td>8</td>\n",
       "      <td>256 SSD</td>\n",
       "      <td>Intel HD Graphics 620</td>\n",
       "      <td>No OS</td>\n",
       "      <td>1.86</td>\n",
       "      <td>30636.0000</td>\n",
       "      <td>0</td>\n",
       "      <td>0</td>\n",
       "      <td>141.211998</td>\n",
       "      <td>Intel Core i5</td>\n",
       "      <td></td>\n",
       "      <td>256</td>\n",
       "      <td></td>\n",
       "      <td></td>\n",
       "    </tr>\n",
       "    <tr>\n",
       "      <th>3</th>\n",
       "      <td>Apple</td>\n",
       "      <td>Ultrabook</td>\n",
       "      <td>16</td>\n",
       "      <td>512 SSD</td>\n",
       "      <td>AMD Radeon Pro 455</td>\n",
       "      <td>macOS</td>\n",
       "      <td>1.83</td>\n",
       "      <td>135195.3360</td>\n",
       "      <td>0</td>\n",
       "      <td>1</td>\n",
       "      <td>220.534624</td>\n",
       "      <td>Intel Core i7</td>\n",
       "      <td></td>\n",
       "      <td>512</td>\n",
       "      <td></td>\n",
       "      <td></td>\n",
       "    </tr>\n",
       "    <tr>\n",
       "      <th>4</th>\n",
       "      <td>Apple</td>\n",
       "      <td>Ultrabook</td>\n",
       "      <td>8</td>\n",
       "      <td>256 SSD</td>\n",
       "      <td>Intel Iris Plus Graphics 650</td>\n",
       "      <td>macOS</td>\n",
       "      <td>1.37</td>\n",
       "      <td>96095.8080</td>\n",
       "      <td>0</td>\n",
       "      <td>1</td>\n",
       "      <td>226.983005</td>\n",
       "      <td>Intel Core i5</td>\n",
       "      <td></td>\n",
       "      <td>256</td>\n",
       "      <td></td>\n",
       "      <td></td>\n",
       "    </tr>\n",
       "  </tbody>\n",
       "</table>\n",
       "</div>"
      ],
      "text/plain": [
       "  Company   TypeName  Ram             Memory                           Gpu  \\\n",
       "0   Apple  Ultrabook    8            128 SSD  Intel Iris Plus Graphics 640   \n",
       "1   Apple  Ultrabook    8  128 Flash Storage        Intel HD Graphics 6000   \n",
       "2      HP   Notebook    8            256 SSD         Intel HD Graphics 620   \n",
       "3   Apple  Ultrabook   16            512 SSD            AMD Radeon Pro 455   \n",
       "4   Apple  Ultrabook    8            256 SSD  Intel Iris Plus Graphics 650   \n",
       "\n",
       "   OpSys  Weight        Price  Touchscreen  IPS         PPI       CPU_name  \\\n",
       "0  macOS    1.37   71378.6832            0    1  226.983005  Intel Core i5   \n",
       "1  macOS    1.34   47895.5232            0    0  127.677940  Intel Core i5   \n",
       "2  No OS    1.86   30636.0000            0    0  141.211998  Intel Core i5   \n",
       "3  macOS    1.83  135195.3360            0    1  220.534624  Intel Core i7   \n",
       "4  macOS    1.37   96095.8080            0    1  226.983005  Intel Core i5   \n",
       "\n",
       "  HDD  SSD Hybrid Flash_Storage  \n",
       "0      128                       \n",
       "1                           128  \n",
       "2      256                       \n",
       "3      512                       \n",
       "4      256                       "
      ]
     },
     "execution_count": 272,
     "metadata": {},
     "output_type": "execute_result"
    }
   ],
   "source": [
    "df.head()"
   ]
  },
  {
   "cell_type": "code",
   "execution_count": 273,
   "id": "b6af0a6b",
   "metadata": {},
   "outputs": [],
   "source": [
    "for i in ['HDD', 'SSD', 'Hybrid', 'Flash_Storage']:\n",
    "    df[i] = df[i].apply(lambda x:0 if x == \"\" else x)"
   ]
  },
  {
   "cell_type": "code",
   "execution_count": 274,
   "id": "ae52cb40",
   "metadata": {},
   "outputs": [
    {
     "data": {
      "text/html": [
       "<div>\n",
       "<style scoped>\n",
       "    .dataframe tbody tr th:only-of-type {\n",
       "        vertical-align: middle;\n",
       "    }\n",
       "\n",
       "    .dataframe tbody tr th {\n",
       "        vertical-align: top;\n",
       "    }\n",
       "\n",
       "    .dataframe thead th {\n",
       "        text-align: right;\n",
       "    }\n",
       "</style>\n",
       "<table border=\"1\" class=\"dataframe\">\n",
       "  <thead>\n",
       "    <tr style=\"text-align: right;\">\n",
       "      <th></th>\n",
       "      <th>Company</th>\n",
       "      <th>TypeName</th>\n",
       "      <th>Ram</th>\n",
       "      <th>Gpu</th>\n",
       "      <th>OpSys</th>\n",
       "      <th>Weight</th>\n",
       "      <th>Price</th>\n",
       "      <th>Touchscreen</th>\n",
       "      <th>IPS</th>\n",
       "      <th>PPI</th>\n",
       "      <th>CPU_name</th>\n",
       "      <th>HDD</th>\n",
       "      <th>SSD</th>\n",
       "      <th>Hybrid</th>\n",
       "      <th>Flash_Storage</th>\n",
       "    </tr>\n",
       "  </thead>\n",
       "  <tbody>\n",
       "    <tr>\n",
       "      <th>0</th>\n",
       "      <td>Apple</td>\n",
       "      <td>Ultrabook</td>\n",
       "      <td>8</td>\n",
       "      <td>Intel Iris Plus Graphics 640</td>\n",
       "      <td>macOS</td>\n",
       "      <td>1.37</td>\n",
       "      <td>71378.6832</td>\n",
       "      <td>0</td>\n",
       "      <td>1</td>\n",
       "      <td>226.983005</td>\n",
       "      <td>Intel Core i5</td>\n",
       "      <td>0</td>\n",
       "      <td>128</td>\n",
       "      <td>0</td>\n",
       "      <td>0</td>\n",
       "    </tr>\n",
       "    <tr>\n",
       "      <th>1</th>\n",
       "      <td>Apple</td>\n",
       "      <td>Ultrabook</td>\n",
       "      <td>8</td>\n",
       "      <td>Intel HD Graphics 6000</td>\n",
       "      <td>macOS</td>\n",
       "      <td>1.34</td>\n",
       "      <td>47895.5232</td>\n",
       "      <td>0</td>\n",
       "      <td>0</td>\n",
       "      <td>127.677940</td>\n",
       "      <td>Intel Core i5</td>\n",
       "      <td>0</td>\n",
       "      <td>0</td>\n",
       "      <td>0</td>\n",
       "      <td>128</td>\n",
       "    </tr>\n",
       "    <tr>\n",
       "      <th>2</th>\n",
       "      <td>HP</td>\n",
       "      <td>Notebook</td>\n",
       "      <td>8</td>\n",
       "      <td>Intel HD Graphics 620</td>\n",
       "      <td>No OS</td>\n",
       "      <td>1.86</td>\n",
       "      <td>30636.0000</td>\n",
       "      <td>0</td>\n",
       "      <td>0</td>\n",
       "      <td>141.211998</td>\n",
       "      <td>Intel Core i5</td>\n",
       "      <td>0</td>\n",
       "      <td>256</td>\n",
       "      <td>0</td>\n",
       "      <td>0</td>\n",
       "    </tr>\n",
       "    <tr>\n",
       "      <th>3</th>\n",
       "      <td>Apple</td>\n",
       "      <td>Ultrabook</td>\n",
       "      <td>16</td>\n",
       "      <td>AMD Radeon Pro 455</td>\n",
       "      <td>macOS</td>\n",
       "      <td>1.83</td>\n",
       "      <td>135195.3360</td>\n",
       "      <td>0</td>\n",
       "      <td>1</td>\n",
       "      <td>220.534624</td>\n",
       "      <td>Intel Core i7</td>\n",
       "      <td>0</td>\n",
       "      <td>512</td>\n",
       "      <td>0</td>\n",
       "      <td>0</td>\n",
       "    </tr>\n",
       "    <tr>\n",
       "      <th>4</th>\n",
       "      <td>Apple</td>\n",
       "      <td>Ultrabook</td>\n",
       "      <td>8</td>\n",
       "      <td>Intel Iris Plus Graphics 650</td>\n",
       "      <td>macOS</td>\n",
       "      <td>1.37</td>\n",
       "      <td>96095.8080</td>\n",
       "      <td>0</td>\n",
       "      <td>1</td>\n",
       "      <td>226.983005</td>\n",
       "      <td>Intel Core i5</td>\n",
       "      <td>0</td>\n",
       "      <td>256</td>\n",
       "      <td>0</td>\n",
       "      <td>0</td>\n",
       "    </tr>\n",
       "  </tbody>\n",
       "</table>\n",
       "</div>"
      ],
      "text/plain": [
       "  Company   TypeName  Ram                           Gpu  OpSys  Weight  \\\n",
       "0   Apple  Ultrabook    8  Intel Iris Plus Graphics 640  macOS    1.37   \n",
       "1   Apple  Ultrabook    8        Intel HD Graphics 6000  macOS    1.34   \n",
       "2      HP   Notebook    8         Intel HD Graphics 620  No OS    1.86   \n",
       "3   Apple  Ultrabook   16            AMD Radeon Pro 455  macOS    1.83   \n",
       "4   Apple  Ultrabook    8  Intel Iris Plus Graphics 650  macOS    1.37   \n",
       "\n",
       "         Price  Touchscreen  IPS         PPI       CPU_name HDD  SSD Hybrid  \\\n",
       "0   71378.6832            0    1  226.983005  Intel Core i5   0  128      0   \n",
       "1   47895.5232            0    0  127.677940  Intel Core i5   0    0      0   \n",
       "2   30636.0000            0    0  141.211998  Intel Core i5   0  256      0   \n",
       "3  135195.3360            0    1  220.534624  Intel Core i7   0  512      0   \n",
       "4   96095.8080            0    1  226.983005  Intel Core i5   0  256      0   \n",
       "\n",
       "  Flash_Storage  \n",
       "0             0  \n",
       "1           128  \n",
       "2             0  \n",
       "3             0  \n",
       "4             0  "
      ]
     },
     "execution_count": 274,
     "metadata": {},
     "output_type": "execute_result"
    }
   ],
   "source": [
    "df.drop('Memory', axis=1, inplace=True)\n",
    "df.head()"
   ]
  },
  {
   "cell_type": "code",
   "execution_count": 277,
   "id": "778e4049",
   "metadata": {},
   "outputs": [],
   "source": [
    "for i in ['HDD', 'SSD', 'Hybrid', 'Flash_Storage']:\n",
    "    df[i] = df[i].astype(int)"
   ]
  },
  {
   "cell_type": "code",
   "execution_count": 278,
   "id": "e5f8396f",
   "metadata": {},
   "outputs": [
    {
     "data": {
      "text/plain": [
       "Ram              0.743007\n",
       "Weight           0.210370\n",
       "Price            1.000000\n",
       "Touchscreen      0.191226\n",
       "IPS              0.252208\n",
       "PPI              0.473487\n",
       "HDD             -0.234971\n",
       "SSD              0.029700\n",
       "Hybrid          -0.004244\n",
       "Flash_Storage   -0.040511\n",
       "Name: Price, dtype: float64"
      ]
     },
     "execution_count": 278,
     "metadata": {},
     "output_type": "execute_result"
    }
   ],
   "source": [
    "df.corr()['Price']"
   ]
  },
  {
   "cell_type": "code",
   "execution_count": 279,
   "id": "4794be42",
   "metadata": {},
   "outputs": [
    {
     "data": {
      "text/html": [
       "<div>\n",
       "<style scoped>\n",
       "    .dataframe tbody tr th:only-of-type {\n",
       "        vertical-align: middle;\n",
       "    }\n",
       "\n",
       "    .dataframe tbody tr th {\n",
       "        vertical-align: top;\n",
       "    }\n",
       "\n",
       "    .dataframe thead th {\n",
       "        text-align: right;\n",
       "    }\n",
       "</style>\n",
       "<table border=\"1\" class=\"dataframe\">\n",
       "  <thead>\n",
       "    <tr style=\"text-align: right;\">\n",
       "      <th></th>\n",
       "      <th>Company</th>\n",
       "      <th>TypeName</th>\n",
       "      <th>Ram</th>\n",
       "      <th>Gpu</th>\n",
       "      <th>OpSys</th>\n",
       "      <th>Weight</th>\n",
       "      <th>Price</th>\n",
       "      <th>Touchscreen</th>\n",
       "      <th>IPS</th>\n",
       "      <th>PPI</th>\n",
       "      <th>CPU_name</th>\n",
       "      <th>HDD</th>\n",
       "      <th>SSD</th>\n",
       "    </tr>\n",
       "  </thead>\n",
       "  <tbody>\n",
       "    <tr>\n",
       "      <th>0</th>\n",
       "      <td>Apple</td>\n",
       "      <td>Ultrabook</td>\n",
       "      <td>8</td>\n",
       "      <td>Intel Iris Plus Graphics 640</td>\n",
       "      <td>macOS</td>\n",
       "      <td>1.37</td>\n",
       "      <td>71378.6832</td>\n",
       "      <td>0</td>\n",
       "      <td>1</td>\n",
       "      <td>226.983005</td>\n",
       "      <td>Intel Core i5</td>\n",
       "      <td>0</td>\n",
       "      <td>128</td>\n",
       "    </tr>\n",
       "    <tr>\n",
       "      <th>1</th>\n",
       "      <td>Apple</td>\n",
       "      <td>Ultrabook</td>\n",
       "      <td>8</td>\n",
       "      <td>Intel HD Graphics 6000</td>\n",
       "      <td>macOS</td>\n",
       "      <td>1.34</td>\n",
       "      <td>47895.5232</td>\n",
       "      <td>0</td>\n",
       "      <td>0</td>\n",
       "      <td>127.677940</td>\n",
       "      <td>Intel Core i5</td>\n",
       "      <td>0</td>\n",
       "      <td>0</td>\n",
       "    </tr>\n",
       "    <tr>\n",
       "      <th>2</th>\n",
       "      <td>HP</td>\n",
       "      <td>Notebook</td>\n",
       "      <td>8</td>\n",
       "      <td>Intel HD Graphics 620</td>\n",
       "      <td>No OS</td>\n",
       "      <td>1.86</td>\n",
       "      <td>30636.0000</td>\n",
       "      <td>0</td>\n",
       "      <td>0</td>\n",
       "      <td>141.211998</td>\n",
       "      <td>Intel Core i5</td>\n",
       "      <td>0</td>\n",
       "      <td>256</td>\n",
       "    </tr>\n",
       "    <tr>\n",
       "      <th>3</th>\n",
       "      <td>Apple</td>\n",
       "      <td>Ultrabook</td>\n",
       "      <td>16</td>\n",
       "      <td>AMD Radeon Pro 455</td>\n",
       "      <td>macOS</td>\n",
       "      <td>1.83</td>\n",
       "      <td>135195.3360</td>\n",
       "      <td>0</td>\n",
       "      <td>1</td>\n",
       "      <td>220.534624</td>\n",
       "      <td>Intel Core i7</td>\n",
       "      <td>0</td>\n",
       "      <td>512</td>\n",
       "    </tr>\n",
       "    <tr>\n",
       "      <th>4</th>\n",
       "      <td>Apple</td>\n",
       "      <td>Ultrabook</td>\n",
       "      <td>8</td>\n",
       "      <td>Intel Iris Plus Graphics 650</td>\n",
       "      <td>macOS</td>\n",
       "      <td>1.37</td>\n",
       "      <td>96095.8080</td>\n",
       "      <td>0</td>\n",
       "      <td>1</td>\n",
       "      <td>226.983005</td>\n",
       "      <td>Intel Core i5</td>\n",
       "      <td>0</td>\n",
       "      <td>256</td>\n",
       "    </tr>\n",
       "  </tbody>\n",
       "</table>\n",
       "</div>"
      ],
      "text/plain": [
       "  Company   TypeName  Ram                           Gpu  OpSys  Weight  \\\n",
       "0   Apple  Ultrabook    8  Intel Iris Plus Graphics 640  macOS    1.37   \n",
       "1   Apple  Ultrabook    8        Intel HD Graphics 6000  macOS    1.34   \n",
       "2      HP   Notebook    8         Intel HD Graphics 620  No OS    1.86   \n",
       "3   Apple  Ultrabook   16            AMD Radeon Pro 455  macOS    1.83   \n",
       "4   Apple  Ultrabook    8  Intel Iris Plus Graphics 650  macOS    1.37   \n",
       "\n",
       "         Price  Touchscreen  IPS         PPI       CPU_name  HDD  SSD  \n",
       "0   71378.6832            0    1  226.983005  Intel Core i5    0  128  \n",
       "1   47895.5232            0    0  127.677940  Intel Core i5    0    0  \n",
       "2   30636.0000            0    0  141.211998  Intel Core i5    0  256  \n",
       "3  135195.3360            0    1  220.534624  Intel Core i7    0  512  \n",
       "4   96095.8080            0    1  226.983005  Intel Core i5    0  256  "
      ]
     },
     "execution_count": 279,
     "metadata": {},
     "output_type": "execute_result"
    }
   ],
   "source": [
    "# Hybrid and Flash_Storage columns do not provide much insight relative to price as seen from their correlation,\n",
    "# so better to remove them.\n",
    "df.drop(['Hybrid', 'Flash_Storage'], axis=1, inplace=True)\n",
    "df.head()"
   ]
  },
  {
   "cell_type": "markdown",
   "id": "6046fdd8",
   "metadata": {},
   "source": [
    "## GPU column"
   ]
  },
  {
   "cell_type": "code",
   "execution_count": 285,
   "id": "5cbebf33",
   "metadata": {},
   "outputs": [],
   "source": [
    "df['Gpu_brand'] = df['Gpu'].apply(lambda x:x.split()[0])\n",
    "df.drop('Gpu', axis=1, inplace=True)"
   ]
  },
  {
   "cell_type": "code",
   "execution_count": 289,
   "id": "9975c1a7",
   "metadata": {},
   "outputs": [
    {
     "data": {
      "text/plain": [
       "<AxesSubplot:xlabel='Gpu_brand', ylabel='count'>"
      ]
     },
     "execution_count": 289,
     "metadata": {},
     "output_type": "execute_result"
    },
    {
     "data": {
      "image/png": "[encoded data removed]",
      "text/plain": [
       "<Figure size 432x288 with 1 Axes>"
      ]
     },
     "metadata": {
      "needs_background": "light"
     },
     "output_type": "display_data"
    }
   ],
   "source": [
    "sns.countplot(df['Gpu_brand'], palette='autumn')"
   ]
  },
  {
   "cell_type": "code",
   "execution_count": 296,
   "id": "437d210c",
   "metadata": {},
   "outputs": [
    {
     "data": {
      "text/plain": [
       "<AxesSubplot:xlabel='Gpu_brand', ylabel='Price'>"
      ]
     },
     "execution_count": 296,
     "metadata": {},
     "output_type": "execute_result"
    },
    {
     "data": {
      "image/png": "[encoded data removed]",
      "text/plain": [
       "<Figure size 432x288 with 1 Axes>"
      ]
     },
     "metadata": {
      "needs_background": "light"
     },
     "output_type": "display_data"
    }
   ],
   "source": [
    "#There is only one row which has ARM as GPU. So, better to drop it off.\n",
    "df = df[df['Gpu_brand']!='ARM']\n",
    "sns.barplot(df['Gpu_brand'], df['Price'], estimator=np.median)"
   ]
  },
  {
   "cell_type": "markdown",
   "id": "3efb52c9",
   "metadata": {},
   "source": [
    "## Operating System Analysis"
   ]
  },
  {
   "cell_type": "code",
   "execution_count": 297,
   "id": "f42e6ac0",
   "metadata": {},
   "outputs": [
    {
     "data": {
      "text/plain": [
       "Windows 10      1072\n",
       "No OS             66\n",
       "Linux             62\n",
       "Windows 7         45\n",
       "Chrome OS         26\n",
       "macOS             13\n",
       "Mac OS X           8\n",
       "Windows 10 S       8\n",
       "Android            2\n",
       "Name: OpSys, dtype: int64"
      ]
     },
     "execution_count": 297,
     "metadata": {},
     "output_type": "execute_result"
    }
   ],
   "source": [
    "df['OpSys'].value_counts()"
   ]
  },
  {
   "cell_type": "code",
   "execution_count": 301,
   "id": "662fa3ab",
   "metadata": {},
   "outputs": [
    {
     "data": {
      "image/png": "[encoded data removed]",
      "text/plain": [
       "<Figure size 432x288 with 1 Axes>"
      ]
     },
     "metadata": {},
     "output_type": "display_data"
    }
   ],
   "source": [
    "sns.barplot(df['OpSys'], df['Price'])\n",
    "plt.xticks(rotation='vertical')\n",
    "plt.show()"
   ]
  },
  {
   "cell_type": "code",
   "execution_count": 302,
   "id": "b9ec2391",
   "metadata": {},
   "outputs": [],
   "source": [
    "def set_category(text):\n",
    "    if \"Windows\" in text:\n",
    "        return \"Windows\"\n",
    "    elif \"mac\" in text.lower():\n",
    "        return \"Mac\"\n",
    "    else:\n",
    "        return \"Other\"\n",
    "    \n",
    "df['OpSys'] = df['OpSys'].apply(set_category)"
   ]
  },
  {
   "cell_type": "code",
   "execution_count": 304,
   "id": "49d899d9",
   "metadata": {},
   "outputs": [
    {
     "data": {
      "text/plain": [
       "array(['Mac', 'Other', 'Windows'], dtype=object)"
      ]
     },
     "execution_count": 304,
     "metadata": {},
     "output_type": "execute_result"
    }
   ],
   "source": [
    "df['OpSys'].uniqueque()"
   ]
  },
  {
   "cell_type": "code",
   "execution_count": 311,
   "id": "4d866f57",
   "metadata": {},
   "outputs": [
    {
     "data": {
      "text/plain": [
       "<AxesSubplot:xlabel='OpSys', ylabel='count'>"
      ]
     },
     "execution_count": 311,
     "metadata": {},
     "output_type": "execute_result"
    },
    {
     "data": {
      "image/png": "[encoded data removed]",
      "text/plain": [
       "<Figure size 432x288 with 1 Axes>"
      ]
     },
     "metadata": {},
     "output_type": "display_data"
    }
   ],
   "source": [
    "sns.countplot(df['OpSys'])"
   ]
  },
  {
   "cell_type": "code",
   "execution_count": 312,
   "id": "c83a1312",
   "metadata": {},
   "outputs": [
    {
     "data": {
      "text/plain": [
       "(array([0, 1, 2]),\n",
       " [Text(0, 0, 'Mac'), Text(1, 0, 'Other'), Text(2, 0, 'Windows')])"
      ]
     },
     "execution_count": 312,
     "metadata": {},
     "output_type": "execute_result"
    },
    {
     "data": {
      "image/png": "[encoded data removed]",
      "text/plain": [
       "<Figure size 432x288 with 1 Axes>"
      ]
     },
     "metadata": {},
     "output_type": "display_data"
    }
   ],
   "source": [
    "sns.barplot(df['OpSys'], df['Price'])\n",
    "plt.xticks(rotation='vertical')"
   ]
  },
  {
   "cell_type": "markdown",
   "id": "069ea005",
   "metadata": {},
   "source": [
    "## Weight Analysis"
   ]
  },
  {
   "cell_type": "code",
   "execution_count": 314,
   "id": "adac50ad",
   "metadata": {},
   "outputs": [
    {
     "data": {
      "text/plain": [
       "<seaborn.axisgrid.FacetGrid at 0x1a87b69c670>"
      ]
     },
     "execution_count": 314,
     "metadata": {},
     "output_type": "execute_result"
    },
    {
     "data": {
      "image/png": "[encoded data removed]",
      "text/plain": [
       "<Figure size 360x360 with 1 Axes>"
      ]
     },
     "metadata": {},
     "output_type": "display_data"
    }
   ],
   "source": [
    "sns.displot(df['Weight'], kde=True)"
   ]
  },
  {
   "cell_type": "code",
   "execution_count": 315,
   "id": "3608946c",
   "metadata": {},
   "outputs": [
    {
     "data": {
      "text/plain": [
       "<AxesSubplot:xlabel='Weight', ylabel='Price'>"
      ]
     },
     "execution_count": 315,
     "metadata": {},
     "output_type": "execute_result"
    },
    {
     "data": {
      "image/png": "[encoded data removed]",
      "text/plain": [
       "<Figure size 432x288 with 1 Axes>"
      ]
     },
     "metadata": {},
     "output_type": "display_data"
    }
   ],
   "source": [
    "sns.scatterplot(df['Weight'], df['Price'])"
   ]
  },
  {
   "cell_type": "markdown",
   "id": "6633b1e1",
   "metadata": {},
   "source": [
    "## Price Analysis"
   ]
  },
  {
   "cell_type": "code",
   "execution_count": 316,
   "id": "bfa8f6c2",
   "metadata": {},
   "outputs": [
    {
     "data": {
      "text/plain": [
       "<AxesSubplot:xlabel='Price', ylabel='Density'>"
      ]
     },
     "execution_count": 316,
     "metadata": {},
     "output_type": "execute_result"
    },
    {
     "data": {
      "image/png": "[encoded data removed]",
      "text/plain": [
       "<Figure size 432x288 with 1 Axes>"
      ]
     },
     "metadata": {},
     "output_type": "display_data"
    }
   ],
   "source": [
    "sns.distplot(df['Price'])"
   ]
  },
  {
   "cell_type": "code",
   "execution_count": 327,
   "id": "98531f9c",
   "metadata": {},
   "outputs": [
    {
     "data": {
      "text/plain": [
       "<AxesSubplot:xlabel='Price', ylabel='Density'>"
      ]
     },
     "execution_count": 327,
     "metadata": {},
     "output_type": "execute_result"
    },
    {
     "data": {
      "image/png": "[encoded data removed]",
      "text/plain": [
       "<Figure size 432x288 with 1 Axes>"
      ]
     },
     "metadata": {},
     "output_type": "display_data"
    }
   ],
   "source": [
    "#It is a right skewed distribution. Let's apply logarithmic transformation to this column\n",
    "sns.distplot(np.log(df['Price']))"
   ]
  },
  {
   "cell_type": "code",
   "execution_count": 328,
   "id": "5e1387fe",
   "metadata": {},
   "outputs": [
    {
     "data": {
      "text/plain": [
       "Ram            0.742905\n",
       "Weight         0.209867\n",
       "Price          1.000000\n",
       "Touchscreen    0.192917\n",
       "IPS            0.253320\n",
       "PPI            0.475368\n",
       "HDD           -0.235196\n",
       "SSD            0.029675\n",
       "Name: Price, dtype: float64"
      ]
     },
     "execution_count": 328,
     "metadata": {},
     "output_type": "execute_result"
    }
   ],
   "source": [
    "df.corr()['Price']"
   ]
  },
  {
   "cell_type": "code",
   "execution_count": 329,
   "id": "88baeea8",
   "metadata": {},
   "outputs": [
    {
     "data": {
      "text/plain": [
       "<AxesSubplot:>"
      ]
     },
     "execution_count": 329,
     "metadata": {},
     "output_type": "execute_result"
    },
    {
     "data": {
      "image/png": "[encoded data removed]",
      "text/plain": [
       "<Figure size 1080x720 with 2 Axes>"
      ]
     },
     "metadata": {},
     "output_type": "display_data"
    }
   ],
   "source": [
    "plt.figure(figsize=(15, 10))\n",
    "sns.heatmap(df.corr(), annot=True)"
   ]
  },
  {
   "cell_type": "markdown",
   "id": "a1a3f469",
   "metadata": {},
   "source": [
    "# Model Building"
   ]
  },
  {
   "cell_type": "code",
   "execution_count": 330,
   "id": "73b78fb7",
   "metadata": {},
   "outputs": [],
   "source": [
    "x = df.drop('Price', axis=1)\n",
    "y = np.log(df['Price'])"
   ]
  },
  {
   "cell_type": "code",
   "execution_count": 332,
   "id": "eb1e2346",
   "metadata": {},
   "outputs": [],
   "source": [
    "from sklearn.model_selection import train_test_split\n",
    "X_train, X_test, y_train, y_test = train_test_split(x, y, test_size=0.15, random_state=2)"
   ]
  },
  {
   "cell_type": "code",
   "execution_count": 340,
   "id": "cf757a7e",
   "metadata": {},
   "outputs": [
    {
     "data": {
      "text/plain": [
       "{0: ['Company', dtype('O')],\n",
       " 1: ['TypeName', dtype('O')],\n",
       " 2: ['Ram', dtype('int32')],\n",
       " 3: ['OpSys', dtype('O')],\n",
       " 4: ['Weight', dtype('float32')],\n",
       " 5: ['Touchscreen', dtype('int64')],\n",
       " 6: ['IPS', dtype('int64')],\n",
       " 7: ['PPI', dtype('float64')],\n",
       " 8: ['CPU_name', dtype('O')],\n",
       " 9: ['HDD', dtype('int32')],\n",
       " 10: ['SSD', dtype('int32')],\n",
       " 11: ['Gpu_brand', dtype('O')]}"
      ]
     },
     "execution_count": 340,
     "metadata": {},
     "output_type": "execute_result"
    }
   ],
   "source": [
    "mapper = {i:[value, df[value].dtype] for i, value in enumerate(X_train.columns)}\n",
    "mapper"
   ]
  },
  {
   "cell_type": "markdown",
   "id": "e3459596",
   "metadata": {},
   "source": [
    "## Using Linear Regression"
   ]
  },
  {
   "cell_type": "code",
   "execution_count": 346,
   "id": "652c6c98",
   "metadata": {},
   "outputs": [
    {
     "name": "stdout",
     "output_type": "stream",
     "text": [
      "R2 score:  0.8019203008460523\n",
      "MAE: \t   0.21673509857226833\n"
     ]
    }
   ],
   "source": [
    "from sklearn.compose import ColumnTransformer\n",
    "from sklearn.preprocessing import OneHotEncoder\n",
    "from sklearn.linear_model import LinearRegression\n",
    "from sklearn.pipeline import Pipeline\n",
    "from sklearn.metrics import r2_score, mean_absolute_error\n",
    "\n",
    "transformer = ColumnTransformer(transformers=[('col_tnf', OneHotEncoder(sparse=False, drop='first'), [0, 1, 3, 8, 11])], remainder='passthrough')\n",
    "\n",
    "lin_reg = LinearRegression()\n",
    "\n",
    "pipe = Pipeline([('step1', transformer), ('step2', lin_reg)])\n",
    "pipe.fit(X_train, y_train)\n",
    "\n",
    "y_pred = pipe.predict(X_test)\n",
    "\n",
    "print(\"R2 score: \", r2_score(y_test, y_pred))\n",
    "print(\"MAE: \\t  \", mean_absolute_error(y_test, y_pred))"
   ]
  },
  {
   "cell_type": "markdown",
   "id": "aa0e47d1",
   "metadata": {},
   "source": [
    "## Using Ridge Regression"
   ]
  },
  {
   "cell_type": "code",
   "execution_count": 354,
   "id": "5344cc55",
   "metadata": {},
   "outputs": [
    {
     "name": "stdout",
     "output_type": "stream",
     "text": [
      "R2 score:  0.8061032930232287\n",
      "MAE: \t   0.21482279348032002\n"
     ]
    }
   ],
   "source": [
    "from sklearn.linear_model import Ridge\n",
    "\n",
    "transformer = ColumnTransformer(transformers=[('col_tnf', OneHotEncoder(sparse=False, drop='first'), [0, 1, 3, 8, 11])], remainder='passthrough')\n",
    "\n",
    "ridge_reg = Ridge(alpha=10)\n",
    "\n",
    "pipe = Pipeline([('step1', transformer), ('step2', ridge_reg)])\n",
    "pipe.fit(X_train, y_train)\n",
    "\n",
    "y_pred = pipe.predict(X_test)\n",
    "\n",
    "print(\"R2 score: \", r2_score(y_test, y_pred))\n",
    "print(\"MAE: \\t  \", mean_absolute_error(y_test, y_pred))"
   ]
  },
  {
   "cell_type": "markdown",
   "id": "ec0dc92e",
   "metadata": {},
   "source": [
    "## Using Lasso Regression"
   ]
  },
  {
   "cell_type": "code",
   "execution_count": 355,
   "id": "e43875a6",
   "metadata": {},
   "outputs": [
    {
     "name": "stdout",
     "output_type": "stream",
     "text": [
      "R2 score:  0.8018759577443911\n",
      "MAE: \t   0.21728761770086585\n"
     ]
    }
   ],
   "source": [
    " from sklearn.linear_model import Lasso\n",
    "\n",
    "transformer = ColumnTransformer(transformers=[('col_tnf', OneHotEncoder(sparse=False, drop='first'), [0, 1, 3, 8, 11])], remainder='passthrough')\n",
    "\n",
    "lasso_reg = Lasso(alpha=0.001)\n",
    "\n",
    "pipe = Pipeline([('step1', transformer), ('step2', lasso_reg)])\n",
    "pipe.fit(X_train, y_train)\n",
    "\n",
    "y_pred = pipe.predict(X_test)\n",
    "\n",
    "print(\"R2 score: \", r2_score(y_test, y_pred))\n",
    "print(\"MAE: \\t  \", mean_absolute_error(y_test, y_pred))"
   ]
  },
  {
   "cell_type": "markdown",
   "id": "8e80b3e1",
   "metadata": {},
   "source": [
    "## Using Decision Tree"
   ]
  },
  {
   "cell_type": "code",
   "execution_count": 360,
   "id": "e29b32b5",
   "metadata": {},
   "outputs": [
    {
     "name": "stdout",
     "output_type": "stream",
     "text": [
      "R2 score:  0.8483782923709208\n",
      "MAE: \t   0.18058005917899023\n"
     ]
    }
   ],
   "source": [
    "from sklearn.tree import DecisionTreeRegressor\n",
    "\n",
    "transformer = ColumnTransformer(transformers=[('col_tnf', OneHotEncoder(sparse=False, drop='first'), [0, 1, 3, 8, 11])], remainder='passthrough')\n",
    "\n",
    "ensemble_model = DecisionTreeRegressor(max_depth=8)\n",
    "\n",
    "pipe = Pipeline([('step1', transformer), ('step2', ensemble_model)])\n",
    "pipe.fit(X_train, y_train)\n",
    "\n",
    "y_pred = pipe.predict(X_test)\n",
    "\n",
    "print(\"R2 score: \", r2_score(y_test, y_pred))\n",
    "print(\"MAE: \\t  \", mean_absolute_error(y_test, y_pred))"
   ]
  },
  {
   "cell_type": "markdown",
   "id": "28802d1c",
   "metadata": {},
   "source": [
    "## Using Random Forests"
   ]
  },
  {
   "cell_type": "code",
   "execution_count": 363,
   "id": "3624eac6",
   "metadata": {},
   "outputs": [
    {
     "name": "stdout",
     "output_type": "stream",
     "text": [
      "R2 score:  0.8793230124378477\n",
      "MAE: \t   0.16235969328550506\n"
     ]
    }
   ],
   "source": [
    "from sklearn.ensemble import RandomForestRegressor\n",
    "\n",
    "transformer = ColumnTransformer(transformers=[('col_tnf', OneHotEncoder(sparse=False, drop='first'), [0, 1, 3, 8, 11])], remainder='passthrough')\n",
    "\n",
    "ensemble_model = RandomForestRegressor(n_estimators=100,\n",
    "                                       random_state=3,\n",
    "                                       max_samples=0.5,\n",
    "                                       max_features=0.75,\n",
    "                                       max_depth=15)\n",
    "\n",
    "pipe = Pipeline([('step1', transformer), ('step2', ensemble_model)])\n",
    "pipe.fit(X_train, y_train)\n",
    "\n",
    "y_pred = pipe.predict(X_test)\n",
    "\n",
    "print(\"R2 score: \", r2_score(y_test, y_pred))\n",
    "print(\"MAE: \\t  \", mean_absolute_error(y_test, y_pred))"
   ]
  },
  {
   "cell_type": "markdown",
   "id": "f190caee",
   "metadata": {},
   "source": [
    "## Pickling the RandomForestRegressor Algo"
   ]
  },
  {
   "cell_type": "code",
   "execution_count": 364,
   "id": "9ad116b4",
   "metadata": {},
   "outputs": [],
   "source": [
    "import pickle\n",
    "pickle.dump(df, open('df.pkl', 'wb'))\n",
    "pickle.dump(pipe, open('pipe.pkl', 'wb'))"
   ]
  },
  {
   "cell_type": "code",
   "execution_count": 368,
   "id": "925fcae7",
   "metadata": {},
   "outputs": [],
   "source": [
    "x.to_csv('traineddata.csv', index=None)"
   ]
  },
  {
   "cell_type": "markdown",
   "id": "9e3dbf24",
   "metadata": {},
   "source": [
    "## Hyperparameter Tuning"
   ]
  },
  {
   "cell_type": "code",
   "execution_count": 370,
   "id": "34a8a0b7",
   "metadata": {},
   "outputs": [
    {
     "data": {
      "text/plain": [
       "['Company', 'TypeName', 'OpSys', 'CPU_name', 'Gpu_brand']"
      ]
     },
     "execution_count": 370,
     "metadata": {},
     "output_type": "execute_result"
    }
   ],
   "source": [
    "index_list = [0, 1, 3, 8, 11]\n",
    "transform_list = []\n",
    "for key,value in mapper.items():\n",
    "    if key in index_list:\n",
    "        transform_list.append(value[0])\n",
    "        \n",
    "transform_list"
   ]
  },
  {
   "cell_type": "code",
   "execution_count": 372,
   "id": "dbcb0bbf",
   "metadata": {},
   "outputs": [
    {
     "data": {
      "text/html": [
       "<div>\n",
       "<style scoped>\n",
       "    .dataframe tbody tr th:only-of-type {\n",
       "        vertical-align: middle;\n",
       "    }\n",
       "\n",
       "    .dataframe tbody tr th {\n",
       "        vertical-align: top;\n",
       "    }\n",
       "\n",
       "    .dataframe thead th {\n",
       "        text-align: right;\n",
       "    }\n",
       "</style>\n",
       "<table border=\"1\" class=\"dataframe\">\n",
       "  <thead>\n",
       "    <tr style=\"text-align: right;\">\n",
       "      <th></th>\n",
       "      <th>Ram</th>\n",
       "      <th>Weight</th>\n",
       "      <th>Touchscreen</th>\n",
       "      <th>IPS</th>\n",
       "      <th>PPI</th>\n",
       "      <th>HDD</th>\n",
       "      <th>SSD</th>\n",
       "      <th>Company_Apple</th>\n",
       "      <th>Company_Asus</th>\n",
       "      <th>Company_Chuwi</th>\n",
       "      <th>...</th>\n",
       "      <th>TypeName_Ultrabook</th>\n",
       "      <th>TypeName_Workstation</th>\n",
       "      <th>OpSys_Other</th>\n",
       "      <th>OpSys_Windows</th>\n",
       "      <th>CPU_name_Intel Core i3</th>\n",
       "      <th>CPU_name_Intel Core i5</th>\n",
       "      <th>CPU_name_Intel Core i7</th>\n",
       "      <th>CPU_name_Other Intel Processor</th>\n",
       "      <th>Gpu_brand_Intel</th>\n",
       "      <th>Gpu_brand_Nvidia</th>\n",
       "    </tr>\n",
       "  </thead>\n",
       "  <tbody>\n",
       "    <tr>\n",
       "      <th>0</th>\n",
       "      <td>8</td>\n",
       "      <td>1.37</td>\n",
       "      <td>0</td>\n",
       "      <td>1</td>\n",
       "      <td>226.983005</td>\n",
       "      <td>0</td>\n",
       "      <td>128</td>\n",
       "      <td>1</td>\n",
       "      <td>0</td>\n",
       "      <td>0</td>\n",
       "      <td>...</td>\n",
       "      <td>1</td>\n",
       "      <td>0</td>\n",
       "      <td>0</td>\n",
       "      <td>0</td>\n",
       "      <td>0</td>\n",
       "      <td>1</td>\n",
       "      <td>0</td>\n",
       "      <td>0</td>\n",
       "      <td>1</td>\n",
       "      <td>0</td>\n",
       "    </tr>\n",
       "    <tr>\n",
       "      <th>1</th>\n",
       "      <td>8</td>\n",
       "      <td>1.34</td>\n",
       "      <td>0</td>\n",
       "      <td>0</td>\n",
       "      <td>127.677940</td>\n",
       "      <td>0</td>\n",
       "      <td>0</td>\n",
       "      <td>1</td>\n",
       "      <td>0</td>\n",
       "      <td>0</td>\n",
       "      <td>...</td>\n",
       "      <td>1</td>\n",
       "      <td>0</td>\n",
       "      <td>0</td>\n",
       "      <td>0</td>\n",
       "      <td>0</td>\n",
       "      <td>1</td>\n",
       "      <td>0</td>\n",
       "      <td>0</td>\n",
       "      <td>1</td>\n",
       "      <td>0</td>\n",
       "    </tr>\n",
       "    <tr>\n",
       "      <th>2</th>\n",
       "      <td>8</td>\n",
       "      <td>1.86</td>\n",
       "      <td>0</td>\n",
       "      <td>0</td>\n",
       "      <td>141.211998</td>\n",
       "      <td>0</td>\n",
       "      <td>256</td>\n",
       "      <td>0</td>\n",
       "      <td>0</td>\n",
       "      <td>0</td>\n",
       "      <td>...</td>\n",
       "      <td>0</td>\n",
       "      <td>0</td>\n",
       "      <td>1</td>\n",
       "      <td>0</td>\n",
       "      <td>0</td>\n",
       "      <td>1</td>\n",
       "      <td>0</td>\n",
       "      <td>0</td>\n",
       "      <td>1</td>\n",
       "      <td>0</td>\n",
       "    </tr>\n",
       "    <tr>\n",
       "      <th>3</th>\n",
       "      <td>16</td>\n",
       "      <td>1.83</td>\n",
       "      <td>0</td>\n",
       "      <td>1</td>\n",
       "      <td>220.534624</td>\n",
       "      <td>0</td>\n",
       "      <td>512</td>\n",
       "      <td>1</td>\n",
       "      <td>0</td>\n",
       "      <td>0</td>\n",
       "      <td>...</td>\n",
       "      <td>1</td>\n",
       "      <td>0</td>\n",
       "      <td>0</td>\n",
       "      <td>0</td>\n",
       "      <td>0</td>\n",
       "      <td>0</td>\n",
       "      <td>1</td>\n",
       "      <td>0</td>\n",
       "      <td>0</td>\n",
       "      <td>0</td>\n",
       "    </tr>\n",
       "    <tr>\n",
       "      <th>4</th>\n",
       "      <td>8</td>\n",
       "      <td>1.37</td>\n",
       "      <td>0</td>\n",
       "      <td>1</td>\n",
       "      <td>226.983005</td>\n",
       "      <td>0</td>\n",
       "      <td>256</td>\n",
       "      <td>1</td>\n",
       "      <td>0</td>\n",
       "      <td>0</td>\n",
       "      <td>...</td>\n",
       "      <td>1</td>\n",
       "      <td>0</td>\n",
       "      <td>0</td>\n",
       "      <td>0</td>\n",
       "      <td>0</td>\n",
       "      <td>1</td>\n",
       "      <td>0</td>\n",
       "      <td>0</td>\n",
       "      <td>1</td>\n",
       "      <td>0</td>\n",
       "    </tr>\n",
       "  </tbody>\n",
       "</table>\n",
       "<p>5 rows × 38 columns</p>\n",
       "</div>"
      ],
      "text/plain": [
       "   Ram  Weight  Touchscreen  IPS         PPI  HDD  SSD  Company_Apple  \\\n",
       "0    8    1.37            0    1  226.983005    0  128              1   \n",
       "1    8    1.34            0    0  127.677940    0    0              1   \n",
       "2    8    1.86            0    0  141.211998    0  256              0   \n",
       "3   16    1.83            0    1  220.534624    0  512              1   \n",
       "4    8    1.37            0    1  226.983005    0  256              1   \n",
       "\n",
       "   Company_Asus  Company_Chuwi  ...  TypeName_Ultrabook  TypeName_Workstation  \\\n",
       "0             0              0  ...                   1                     0   \n",
       "1             0              0  ...                   1                     0   \n",
       "2             0              0  ...                   0                     0   \n",
       "3             0              0  ...                   1                     0   \n",
       "4             0              0  ...                   1                     0   \n",
       "\n",
       "   OpSys_Other  OpSys_Windows  CPU_name_Intel Core i3  CPU_name_Intel Core i5  \\\n",
       "0            0              0                       0                       1   \n",
       "1            0              0                       0                       1   \n",
       "2            1              0                       0                       1   \n",
       "3            0              0                       0                       0   \n",
       "4            0              0                       0                       1   \n",
       "\n",
       "   CPU_name_Intel Core i7  CPU_name_Other Intel Processor  Gpu_brand_Intel  \\\n",
       "0                       0                               0                1   \n",
       "1                       0                               0                1   \n",
       "2                       0                               0                1   \n",
       "3                       1                               0                0   \n",
       "4                       0                               0                1   \n",
       "\n",
       "   Gpu_brand_Nvidia  \n",
       "0                 0  \n",
       "1                 0  \n",
       "2                 0  \n",
       "3                 0  \n",
       "4                 0  \n",
       "\n",
       "[5 rows x 38 columns]"
      ]
     },
     "execution_count": 372,
     "metadata": {},
     "output_type": "execute_result"
    }
   ],
   "source": [
    "x = pd.get_dummies(x, columns=transform_list, drop_first=True)\n",
    "x.head()"
   ]
  },
  {
   "cell_type": "code",
   "execution_count": 375,
   "id": "df2dd310",
   "metadata": {},
   "outputs": [
    {
     "data": {
      "text/plain": [
       "((1106, 38), (196, 38))"
      ]
     },
     "execution_count": 375,
     "metadata": {},
     "output_type": "execute_result"
    }
   ],
   "source": [
    "X_train, X_test, y_train, y_test = train_test_split(x, y, test_size=0.15, random_state=2)\n",
    "\n",
    "X_train.shape, X_test.shape"
   ]
  },
  {
   "cell_type": "code",
   "execution_count": 376,
   "id": "131d4ae1",
   "metadata": {},
   "outputs": [
    {
     "data": {
      "text/plain": [
       "DecisionTreeRegressor(random_state=0)"
      ]
     },
     "execution_count": 376,
     "metadata": {},
     "output_type": "execute_result"
    }
   ],
   "source": [
    "reg = DecisionTreeRegressor(random_state=0)\n",
    "reg.fit(X_train, y_train)"
   ]
  },
  {
   "cell_type": "code",
   "execution_count": 377,
   "id": "2ba61cc8",
   "metadata": {},
   "outputs": [],
   "source": [
    "path = reg.cost_complexity_pruning_path(X_train, y_train)\n",
    "ccp_alphas = path.ccp_alphas"
   ]
  },
  {
   "cell_type": "code",
   "execution_count": 379,
   "id": "4c006673",
   "metadata": {},
   "outputs": [],
   "source": [
    "alphalist = []\n",
    "for alpha in ccp_alphas:\n",
    "    reg = DecisionTreeRegressor(random_state=0, ccp_alpha=alpha)\n",
    "    reg.fit(X_train,y_train)\n",
    "    alphalist.append(reg)"
   ]
  },
  {
   "cell_type": "code",
   "execution_count": 380,
   "id": "93c76827",
   "metadata": {},
   "outputs": [
    {
     "data": {
      "image/png": "[encoded data removed]",
      "text/plain": [
       "<Figure size 432x288 with 1 Axes>"
      ]
     },
     "metadata": {},
     "output_type": "display_data"
    }
   ],
   "source": [
    "train_score = [reg.score(X_train, y_train) for reg in alphalist]\n",
    "test_score = [reg.score(X_test, y_test) for reg in alphalist]\n",
    "\n",
    "plt.xlabel('ccp_alpha')\n",
    "plt.ylabel('Accuracy')\n",
    "\n",
    "plt.plot(ccp_alphas, train_score, marker='o', label='training', color='magenta')\n",
    "plt.plot(ccp_alphas, test_score, marker='+', label='testing', color='red', drawstyle='steps-post')\n",
    "\n",
    "plt.legend()\n",
    "plt.show()"
   ]
  },
  {
   "cell_type": "markdown",
   "id": "08387210",
   "metadata": {},
   "source": [
    "#### Possible alpha values can lie between 0.0025 -> 0.0075"
   ]
  },
  {
   "cell_type": "code",
   "execution_count": 383,
   "id": "a453e94e",
   "metadata": {},
   "outputs": [
    {
     "data": {
      "text/plain": [
       "[Text(0.5, 0.9, 'Ram <= 7.0\\nsquared_error = 0.39\\nsamples = 1106\\nvalue = 10.821'),\n",
       " Text(0.25, 0.7, 'CPU_name_Other Intel Processor <= 0.5\\nsquared_error = 0.192\\nsamples = 362\\nvalue = 10.209'),\n",
       " Text(0.125, 0.5, 'squared_error = 0.13\\nsamples = 256\\nvalue = 10.387'),\n",
       " Text(0.375, 0.5, 'squared_error = 0.084\\nsamples = 106\\nvalue = 9.781'),\n",
       " Text(0.75, 0.7, 'Ram <= 14.0\\nsquared_error = 0.215\\nsamples = 744\\nvalue = 11.119'),\n",
       " Text(0.625, 0.5, 'TypeName_Notebook <= 0.5\\nsquared_error = 0.159\\nsamples = 553\\nvalue = 10.967'),\n",
       " Text(0.5, 0.3, 'squared_error = 0.107\\nsamples = 268\\nvalue = 11.172'),\n",
       " Text(0.75, 0.3, 'PPI <= 114.881\\nsquared_error = 0.131\\nsamples = 285\\nvalue = 10.775'),\n",
       " Text(0.625, 0.1, 'squared_error = 0.072\\nsamples = 59\\nvalue = 10.384'),\n",
       " Text(0.875, 0.1, 'squared_error = 0.096\\nsamples = 226\\nvalue = 10.877'),\n",
       " Text(0.875, 0.5, 'squared_error = 0.12\\nsamples = 191\\nvalue = 11.558')]"
      ]
     },
     "execution_count": 383,
     "metadata": {},
     "output_type": "execute_result"
    },
    {
     "data": {
      "image/png": "[encoded data removed]",
      "text/plain": [
       "<Figure size 1152x648 with 1 Axes>"
      ]
     },
     "metadata": {},
     "output_type": "display_data"
    }
   ],
   "source": [
    "from sklearn.tree import plot_tree\n",
    "reg = DecisionTreeRegressor(random_state=0, ccp_alpha=0.0085)\n",
    "reg.fit(X_train, y_train)\n",
    "plt.figure(figsize=(16, 9))\n",
    "plot_tree(reg, filled=True, feature_names=x.columns)"
   ]
  },
  {
   "cell_type": "code",
   "execution_count": 384,
   "id": "d15ba734",
   "metadata": {},
   "outputs": [],
   "source": [
    "params = {\n",
    "    'RandomForest':{\n",
    "        'model':RandomForestRegressor(),\n",
    "        'params':{\n",
    "            'n_estimators':[int(x) for x in np.linspace(100, 1200, 10)],\n",
    "            'criterion':['mse', 'mae'],\n",
    "            'max_depth':[int(x) for x in np.linspace(1, 30, 5)],\n",
    "            'max_features':['auto', 'sqrt', 'log2'],\n",
    "            'ccp_alpha':[x for x in np.linspace(0.0025, 0.0125, 5)],\n",
    "            'min_samples_split':[2,5,10,14],\n",
    "            'min_samples_leaf':[2,5,10,14]\n",
    "        }\n",
    "    },\n",
    "    'DecisionTree':{\n",
    "        'model':DecisionTreeRegressor(),\n",
    "        'params':{\n",
    "            'criterion':['mse', 'mae'],\n",
    "            'max_depth':[int(x) for x in np.linspace(1, 30, 5)],\n",
    "            'max_features':['auto', 'sqrt', 'log2'],\n",
    "            'ccp_alpha':[x for x in np.linspace(0.0025, 0.0125, 5)],\n",
    "            'min_samples_split':[2,5,10,14],\n",
    "            'min_samples_leaf':[2,5,10,14]\n",
    "        }\n",
    "    }\n",
    "}"
   ]
  },
  {
   "cell_type": "code",
   "execution_count": 385,
   "id": "ab348144",
   "metadata": {
    "scrolled": true
   },
   "outputs": [
    {
     "name": "stdout",
     "output_type": "stream",
     "text": [
      "Fitting 5 folds for each of 10 candidates, totalling 50 fits\n",
      "[CV] END ccp_alpha=0.005, criterion=mae, max_depth=30, max_features=auto, min_samples_leaf=5, min_samples_split=14, n_estimators=588; total time=  28.1s\n",
      "[CV] END ccp_alpha=0.005, criterion=mae, max_depth=30, max_features=auto, min_samples_leaf=5, min_samples_split=14, n_estimators=588; total time=  34.8s\n",
      "[CV] END ccp_alpha=0.005, criterion=mae, max_depth=30, max_features=auto, min_samples_leaf=5, min_samples_split=14, n_estimators=588; total time=  27.6s\n",
      "[CV] END ccp_alpha=0.005, criterion=mae, max_depth=30, max_features=auto, min_samples_leaf=5, min_samples_split=14, n_estimators=588; total time=  27.5s\n",
      "[CV] END ccp_alpha=0.005, criterion=mae, max_depth=30, max_features=auto, min_samples_leaf=5, min_samples_split=14, n_estimators=588; total time=  28.0s\n",
      "[CV] END ccp_alpha=0.0075, criterion=mae, max_depth=8, max_features=log2, min_samples_leaf=10, min_samples_split=10, n_estimators=100; total time=   0.9s\n",
      "[CV] END ccp_alpha=0.0075, criterion=mae, max_depth=8, max_features=log2, min_samples_leaf=10, min_samples_split=10, n_estimators=100; total time=   0.9s\n",
      "[CV] END ccp_alpha=0.0075, criterion=mae, max_depth=8, max_features=log2, min_samples_leaf=10, min_samples_split=10, n_estimators=100; total time=   0.9s\n",
      "[CV] END ccp_alpha=0.0075, criterion=mae, max_depth=8, max_features=log2, min_samples_leaf=10, min_samples_split=10, n_estimators=100; total time=   1.0s\n",
      "[CV] END ccp_alpha=0.0075, criterion=mae, max_depth=8, max_features=log2, min_samples_leaf=10, min_samples_split=10, n_estimators=100; total time=   1.0s\n",
      "[CV] END ccp_alpha=0.0025, criterion=mse, max_depth=15, max_features=sqrt, min_samples_leaf=10, min_samples_split=10, n_estimators=1200; total time=   4.2s\n",
      "[CV] END ccp_alpha=0.0025, criterion=mse, max_depth=15, max_features=sqrt, min_samples_leaf=10, min_samples_split=10, n_estimators=1200; total time=   4.3s\n",
      "[CV] END ccp_alpha=0.0025, criterion=mse, max_depth=15, max_features=sqrt, min_samples_leaf=10, min_samples_split=10, n_estimators=1200; total time=   4.6s\n",
      "[CV] END ccp_alpha=0.0025, criterion=mse, max_depth=15, max_features=sqrt, min_samples_leaf=10, min_samples_split=10, n_estimators=1200; total time=   4.4s\n",
      "[CV] END ccp_alpha=0.0025, criterion=mse, max_depth=15, max_features=sqrt, min_samples_leaf=10, min_samples_split=10, n_estimators=1200; total time=   4.0s\n",
      "[CV] END ccp_alpha=0.01, criterion=mse, max_depth=8, max_features=sqrt, min_samples_leaf=14, min_samples_split=2, n_estimators=833; total time=   2.7s\n",
      "[CV] END ccp_alpha=0.01, criterion=mse, max_depth=8, max_features=sqrt, min_samples_leaf=14, min_samples_split=2, n_estimators=833; total time=   2.7s\n",
      "[CV] END ccp_alpha=0.01, criterion=mse, max_depth=8, max_features=sqrt, min_samples_leaf=14, min_samples_split=2, n_estimators=833; total time=   2.7s\n",
      "[CV] END ccp_alpha=0.01, criterion=mse, max_depth=8, max_features=sqrt, min_samples_leaf=14, min_samples_split=2, n_estimators=833; total time=   2.7s\n",
      "[CV] END ccp_alpha=0.01, criterion=mse, max_depth=8, max_features=sqrt, min_samples_leaf=14, min_samples_split=2, n_estimators=833; total time=   2.8s\n",
      "[CV] END ccp_alpha=0.0025, criterion=mae, max_depth=1, max_features=sqrt, min_samples_leaf=10, min_samples_split=14, n_estimators=466; total time=   2.6s\n",
      "[CV] END ccp_alpha=0.0025, criterion=mae, max_depth=1, max_features=sqrt, min_samples_leaf=10, min_samples_split=14, n_estimators=466; total time=   2.8s\n",
      "[CV] END ccp_alpha=0.0025, criterion=mae, max_depth=1, max_features=sqrt, min_samples_leaf=10, min_samples_split=14, n_estimators=466; total time=   2.8s\n",
      "[CV] END ccp_alpha=0.0025, criterion=mae, max_depth=1, max_features=sqrt, min_samples_leaf=10, min_samples_split=14, n_estimators=466; total time=   2.9s\n",
      "[CV] END ccp_alpha=0.0025, criterion=mae, max_depth=1, max_features=sqrt, min_samples_leaf=10, min_samples_split=14, n_estimators=466; total time=   2.7s\n",
      "[CV] END ccp_alpha=0.0125, criterion=mae, max_depth=8, max_features=auto, min_samples_leaf=5, min_samples_split=14, n_estimators=833; total time=  39.4s\n",
      "[CV] END ccp_alpha=0.0125, criterion=mae, max_depth=8, max_features=auto, min_samples_leaf=5, min_samples_split=14, n_estimators=833; total time=  39.5s\n",
      "[CV] END ccp_alpha=0.0125, criterion=mae, max_depth=8, max_features=auto, min_samples_leaf=5, min_samples_split=14, n_estimators=833; total time=  38.5s\n",
      "[CV] END ccp_alpha=0.0125, criterion=mae, max_depth=8, max_features=auto, min_samples_leaf=5, min_samples_split=14, n_estimators=833; total time=  38.1s\n",
      "[CV] END ccp_alpha=0.0125, criterion=mae, max_depth=8, max_features=auto, min_samples_leaf=5, min_samples_split=14, n_estimators=833; total time=  37.5s\n",
      "[CV] END ccp_alpha=0.005, criterion=mae, max_depth=15, max_features=auto, min_samples_leaf=2, min_samples_split=14, n_estimators=222; total time=  12.6s\n",
      "[CV] END ccp_alpha=0.005, criterion=mae, max_depth=15, max_features=auto, min_samples_leaf=2, min_samples_split=14, n_estimators=222; total time=  13.2s\n",
      "[CV] END ccp_alpha=0.005, criterion=mae, max_depth=15, max_features=auto, min_samples_leaf=2, min_samples_split=14, n_estimators=222; total time=  12.8s\n",
      "[CV] END ccp_alpha=0.005, criterion=mae, max_depth=15, max_features=auto, min_samples_leaf=2, min_samples_split=14, n_estimators=222; total time=  12.9s\n",
      "[CV] END ccp_alpha=0.005, criterion=mae, max_depth=15, max_features=auto, min_samples_leaf=2, min_samples_split=14, n_estimators=222; total time=  12.5s\n",
      "[CV] END ccp_alpha=0.0125, criterion=mse, max_depth=30, max_features=auto, min_samples_leaf=2, min_samples_split=10, n_estimators=466; total time=   2.9s\n",
      "[CV] END ccp_alpha=0.0125, criterion=mse, max_depth=30, max_features=auto, min_samples_leaf=2, min_samples_split=10, n_estimators=466; total time=   2.9s\n",
      "[CV] END ccp_alpha=0.0125, criterion=mse, max_depth=30, max_features=auto, min_samples_leaf=2, min_samples_split=10, n_estimators=466; total time=   2.9s\n",
      "[CV] END ccp_alpha=0.0125, criterion=mse, max_depth=30, max_features=auto, min_samples_leaf=2, min_samples_split=10, n_estimators=466; total time=   2.9s\n",
      "[CV] END ccp_alpha=0.0125, criterion=mse, max_depth=30, max_features=auto, min_samples_leaf=2, min_samples_split=10, n_estimators=466; total time=   2.9s\n",
      "[CV] END ccp_alpha=0.005, criterion=mse, max_depth=22, max_features=auto, min_samples_leaf=14, min_samples_split=10, n_estimators=1200; total time=   6.1s\n",
      "[CV] END ccp_alpha=0.005, criterion=mse, max_depth=22, max_features=auto, min_samples_leaf=14, min_samples_split=10, n_estimators=1200; total time=   6.3s\n",
      "[CV] END ccp_alpha=0.005, criterion=mse, max_depth=22, max_features=auto, min_samples_leaf=14, min_samples_split=10, n_estimators=1200; total time=   6.0s\n",
      "[CV] END ccp_alpha=0.005, criterion=mse, max_depth=22, max_features=auto, min_samples_leaf=14, min_samples_split=10, n_estimators=1200; total time=   5.9s\n",
      "[CV] END ccp_alpha=0.005, criterion=mse, max_depth=22, max_features=auto, min_samples_leaf=14, min_samples_split=10, n_estimators=1200; total time=   5.9s\n",
      "[CV] END ccp_alpha=0.01, criterion=mae, max_depth=1, max_features=auto, min_samples_leaf=5, min_samples_split=5, n_estimators=1200; total time=  19.2s\n",
      "[CV] END ccp_alpha=0.01, criterion=mae, max_depth=1, max_features=auto, min_samples_leaf=5, min_samples_split=5, n_estimators=1200; total time=  19.5s\n",
      "[CV] END ccp_alpha=0.01, criterion=mae, max_depth=1, max_features=auto, min_samples_leaf=5, min_samples_split=5, n_estimators=1200; total time=  19.7s\n",
      "[CV] END ccp_alpha=0.01, criterion=mae, max_depth=1, max_features=auto, min_samples_leaf=5, min_samples_split=5, n_estimators=1200; total time=  19.2s\n",
      "[CV] END ccp_alpha=0.01, criterion=mae, max_depth=1, max_features=auto, min_samples_leaf=5, min_samples_split=5, n_estimators=1200; total time=  19.7s\n",
      "Fitting 5 folds for each of 10 candidates, totalling 50 fits\n",
      "[CV] END ccp_alpha=0.01, criterion=mae, max_depth=22, max_features=auto, min_samples_leaf=2, min_samples_split=2; total time=   0.1s\n",
      "[CV] END ccp_alpha=0.01, criterion=mae, max_depth=22, max_features=auto, min_samples_leaf=2, min_samples_split=2; total time=   0.1s\n",
      "[CV] END ccp_alpha=0.01, criterion=mae, max_depth=22, max_features=auto, min_samples_leaf=2, min_samples_split=2; total time=   0.1s\n",
      "[CV] END ccp_alpha=0.01, criterion=mae, max_depth=22, max_features=auto, min_samples_leaf=2, min_samples_split=2; total time=   0.1s\n",
      "[CV] END ccp_alpha=0.01, criterion=mae, max_depth=22, max_features=auto, min_samples_leaf=2, min_samples_split=2; total time=   0.1s\n"
     ]
    },
    {
     "name": "stdout",
     "output_type": "stream",
     "text": [
      "[CV] END ccp_alpha=0.005, criterion=mae, max_depth=1, max_features=sqrt, min_samples_leaf=2, min_samples_split=14; total time=   0.0s\n",
      "[CV] END ccp_alpha=0.005, criterion=mae, max_depth=1, max_features=sqrt, min_samples_leaf=2, min_samples_split=14; total time=   0.0s\n",
      "[CV] END ccp_alpha=0.005, criterion=mae, max_depth=1, max_features=sqrt, min_samples_leaf=2, min_samples_split=14; total time=   0.0s\n",
      "[CV] END ccp_alpha=0.005, criterion=mae, max_depth=1, max_features=sqrt, min_samples_leaf=2, min_samples_split=14; total time=   0.0s\n",
      "[CV] END ccp_alpha=0.005, criterion=mae, max_depth=1, max_features=sqrt, min_samples_leaf=2, min_samples_split=14; total time=   0.0s\n",
      "[CV] END ccp_alpha=0.01, criterion=mse, max_depth=30, max_features=auto, min_samples_leaf=14, min_samples_split=2; total time=   0.0s\n",
      "[CV] END ccp_alpha=0.01, criterion=mse, max_depth=30, max_features=auto, min_samples_leaf=14, min_samples_split=2; total time=   0.0s\n",
      "[CV] END ccp_alpha=0.01, criterion=mse, max_depth=30, max_features=auto, min_samples_leaf=14, min_samples_split=2; total time=   0.0s\n",
      "[CV] END ccp_alpha=0.01, criterion=mse, max_depth=30, max_features=auto, min_samples_leaf=14, min_samples_split=2; total time=   0.0s\n",
      "[CV] END ccp_alpha=0.01, criterion=mse, max_depth=30, max_features=auto, min_samples_leaf=14, min_samples_split=2; total time=   0.0s\n",
      "[CV] END ccp_alpha=0.0075, criterion=mae, max_depth=22, max_features=sqrt, min_samples_leaf=14, min_samples_split=5; total time=   0.0s\n",
      "[CV] END ccp_alpha=0.0075, criterion=mae, max_depth=22, max_features=sqrt, min_samples_leaf=14, min_samples_split=5; total time=   0.0s\n",
      "[CV] END ccp_alpha=0.0075, criterion=mae, max_depth=22, max_features=sqrt, min_samples_leaf=14, min_samples_split=5; total time=   0.0s\n",
      "[CV] END ccp_alpha=0.0075, criterion=mae, max_depth=22, max_features=sqrt, min_samples_leaf=14, min_samples_split=5; total time=   0.0s\n",
      "[CV] END ccp_alpha=0.0075, criterion=mae, max_depth=22, max_features=sqrt, min_samples_leaf=14, min_samples_split=5; total time=   0.0s\n",
      "[CV] END ccp_alpha=0.005, criterion=mae, max_depth=15, max_features=auto, min_samples_leaf=14, min_samples_split=10; total time=   0.0s\n",
      "[CV] END ccp_alpha=0.005, criterion=mae, max_depth=15, max_features=auto, min_samples_leaf=14, min_samples_split=10; total time=   0.0s\n",
      "[CV] END ccp_alpha=0.005, criterion=mae, max_depth=15, max_features=auto, min_samples_leaf=14, min_samples_split=10; total time=   0.0s\n",
      "[CV] END ccp_alpha=0.005, criterion=mae, max_depth=15, max_features=auto, min_samples_leaf=14, min_samples_split=10; total time=   0.0s\n",
      "[CV] END ccp_alpha=0.005, criterion=mae, max_depth=15, max_features=auto, min_samples_leaf=14, min_samples_split=10; total time=   0.0s\n",
      "[CV] END ccp_alpha=0.0075, criterion=mae, max_depth=8, max_features=auto, min_samples_leaf=2, min_samples_split=5; total time=   0.0s\n",
      "[CV] END ccp_alpha=0.0075, criterion=mae, max_depth=8, max_features=auto, min_samples_leaf=2, min_samples_split=5; total time=   0.0s\n",
      "[CV] END ccp_alpha=0.0075, criterion=mae, max_depth=8, max_features=auto, min_samples_leaf=2, min_samples_split=5; total time=   0.0s\n",
      "[CV] END ccp_alpha=0.0075, criterion=mae, max_depth=8, max_features=auto, min_samples_leaf=2, min_samples_split=5; total time=   0.0s\n",
      "[CV] END ccp_alpha=0.0075, criterion=mae, max_depth=8, max_features=auto, min_samples_leaf=2, min_samples_split=5; total time=   0.0s\n",
      "[CV] END ccp_alpha=0.0025, criterion=mse, max_depth=22, max_features=log2, min_samples_leaf=5, min_samples_split=14; total time=   0.0s\n",
      "[CV] END ccp_alpha=0.0025, criterion=mse, max_depth=22, max_features=log2, min_samples_leaf=5, min_samples_split=14; total time=   0.0s\n",
      "[CV] END ccp_alpha=0.0025, criterion=mse, max_depth=22, max_features=log2, min_samples_leaf=5, min_samples_split=14; total time=   0.0s\n",
      "[CV] END ccp_alpha=0.0025, criterion=mse, max_depth=22, max_features=log2, min_samples_leaf=5, min_samples_split=14; total time=   0.0s\n",
      "[CV] END ccp_alpha=0.0025, criterion=mse, max_depth=22, max_features=log2, min_samples_leaf=5, min_samples_split=14; total time=   0.0s\n",
      "[CV] END ccp_alpha=0.0125, criterion=mse, max_depth=22, max_features=sqrt, min_samples_leaf=14, min_samples_split=10; total time=   0.0s\n",
      "[CV] END ccp_alpha=0.0125, criterion=mse, max_depth=22, max_features=sqrt, min_samples_leaf=14, min_samples_split=10; total time=   0.0s\n",
      "[CV] END ccp_alpha=0.0125, criterion=mse, max_depth=22, max_features=sqrt, min_samples_leaf=14, min_samples_split=10; total time=   0.0s\n",
      "[CV] END ccp_alpha=0.0125, criterion=mse, max_depth=22, max_features=sqrt, min_samples_leaf=14, min_samples_split=10; total time=   0.0s\n",
      "[CV] END ccp_alpha=0.0125, criterion=mse, max_depth=22, max_features=sqrt, min_samples_leaf=14, min_samples_split=10; total time=   0.0s\n",
      "[CV] END ccp_alpha=0.005, criterion=mae, max_depth=30, max_features=sqrt, min_samples_leaf=14, min_samples_split=2; total time=   0.0s\n",
      "[CV] END ccp_alpha=0.005, criterion=mae, max_depth=30, max_features=sqrt, min_samples_leaf=14, min_samples_split=2; total time=   0.0s\n",
      "[CV] END ccp_alpha=0.005, criterion=mae, max_depth=30, max_features=sqrt, min_samples_leaf=14, min_samples_split=2; total time=   0.0s\n",
      "[CV] END ccp_alpha=0.005, criterion=mae, max_depth=30, max_features=sqrt, min_samples_leaf=14, min_samples_split=2; total time=   0.0s\n",
      "[CV] END ccp_alpha=0.005, criterion=mae, max_depth=30, max_features=sqrt, min_samples_leaf=14, min_samples_split=2; total time=   0.0s\n",
      "[CV] END ccp_alpha=0.0125, criterion=mae, max_depth=30, max_features=log2, min_samples_leaf=14, min_samples_split=14; total time=   0.0s\n",
      "[CV] END ccp_alpha=0.0125, criterion=mae, max_depth=30, max_features=log2, min_samples_leaf=14, min_samples_split=14; total time=   0.0s\n",
      "[CV] END ccp_alpha=0.0125, criterion=mae, max_depth=30, max_features=log2, min_samples_leaf=14, min_samples_split=14; total time=   0.0s\n",
      "[CV] END ccp_alpha=0.0125, criterion=mae, max_depth=30, max_features=log2, min_samples_leaf=14, min_samples_split=14; total time=   0.0s\n",
      "[CV] END ccp_alpha=0.0125, criterion=mae, max_depth=30, max_features=log2, min_samples_leaf=14, min_samples_split=14; total time=   0.0s\n"
     ]
    }
   ],
   "source": [
    "from sklearn.model_selection import RandomizedSearchCV\n",
    "scores = []\n",
    "for modelname, mp in params.items():\n",
    "    clf = RandomizedSearchCV(mp['model'],\n",
    "                            param_distributions=mp['params'],\n",
    "                            cv=5,\n",
    "                            n_iter=10,\n",
    "                            scoring='neg_mean_squared_error',\n",
    "                            verbose=2)\n",
    "    clf.fit(X_train, y_train)\n",
    "    scores.append({\n",
    "        'model_name':modelname,\n",
    "        'best_score':clf.best_score_,\n",
    "        'best_estimator':clf.best_estimator_\n",
    "    })"
   ]
  },
  {
   "cell_type": "code",
   "execution_count": 386,
   "id": "189dd99a",
   "metadata": {},
   "outputs": [
    {
     "data": {
      "text/html": [
       "<div>\n",
       "<style scoped>\n",
       "    .dataframe tbody tr th:only-of-type {\n",
       "        vertical-align: middle;\n",
       "    }\n",
       "\n",
       "    .dataframe tbody tr th {\n",
       "        vertical-align: top;\n",
       "    }\n",
       "\n",
       "    .dataframe thead th {\n",
       "        text-align: right;\n",
       "    }\n",
       "</style>\n",
       "<table border=\"1\" class=\"dataframe\">\n",
       "  <thead>\n",
       "    <tr style=\"text-align: right;\">\n",
       "      <th></th>\n",
       "      <th>model_mane</th>\n",
       "      <th>best_score</th>\n",
       "      <th>best_estimator</th>\n",
       "    </tr>\n",
       "  </thead>\n",
       "  <tbody>\n",
       "    <tr>\n",
       "      <th>0</th>\n",
       "      <td>NaN</td>\n",
       "      <td>-0.083051</td>\n",
       "      <td>(DecisionTreeRegressor(ccp_alpha=0.005, criter...</td>\n",
       "    </tr>\n",
       "    <tr>\n",
       "      <th>1</th>\n",
       "      <td>NaN</td>\n",
       "      <td>-0.100692</td>\n",
       "      <td>DecisionTreeRegressor(ccp_alpha=0.005, criteri...</td>\n",
       "    </tr>\n",
       "  </tbody>\n",
       "</table>\n",
       "</div>"
      ],
      "text/plain": [
       "   model_mane  best_score                                     best_estimator\n",
       "0         NaN   -0.083051  (DecisionTreeRegressor(ccp_alpha=0.005, criter...\n",
       "1         NaN   -0.100692  DecisionTreeRegressor(ccp_alpha=0.005, criteri..."
      ]
     },
     "execution_count": 386,
     "metadata": {},
     "output_type": "execute_result"
    }
   ],
   "source": [
    "scores_df = pd.DataFrame(scores, columns=['model_mane', 'best_score', 'best_estimator'])\n",
    "scores_df"
   ]
  },
  {
   "cell_type": "code",
   "execution_count": 387,
   "id": "8b5e7a0b",
   "metadata": {},
   "outputs": [
    {
     "data": {
      "text/plain": [
       "[{'model_name': 'RandomForest',\n",
       "  'best_score': -0.0830505518221621,\n",
       "  'best_estimator': RandomForestRegressor(ccp_alpha=0.005, criterion='mae', max_depth=30,\n",
       "                        min_samples_leaf=5, min_samples_split=14,\n",
       "                        n_estimators=588)},\n",
       " {'model_name': 'DecisionTree',\n",
       "  'best_score': -0.10069221520171885,\n",
       "  'best_estimator': DecisionTreeRegressor(ccp_alpha=0.005, criterion='mae', max_depth=15,\n",
       "                        max_features='auto', min_samples_leaf=14,\n",
       "                        min_samples_split=10)}]"
      ]
     },
     "execution_count": 387,
     "metadata": {},
     "output_type": "execute_result"
    }
   ],
   "source": [
    "scores"
   ]
  },
  {
   "cell_type": "code",
   "execution_count": 391,
   "id": "a62c1440",
   "metadata": {},
   "outputs": [
    {
     "name": "stdout",
     "output_type": "stream",
     "text": [
      "0.7806926647505461\n"
     ]
    }
   ],
   "source": [
    "rf = RandomForestRegressor(ccp_alpha=0.005, criterion='mae', max_depth=30,\n",
    "                        min_samples_leaf=5, min_samples_split=14,\n",
    "                        n_estimators=588)\n",
    "\n",
    "rf.fit(X_train, y_train)\n",
    "y_pred = rf.predict(X_test)\n",
    "print(r2_score(y_test, y_pred))"
   ]
  },
  {
   "cell_type": "code",
   "execution_count": 407,
   "id": "f7d8a0e1",
   "metadata": {},
   "outputs": [
    {
     "name": "stdout",
     "output_type": "stream",
     "text": [
      "0.8863349447916946\n"
     ]
    }
   ],
   "source": [
    "#Best to use the previous RandomForestRegressor model as it has greater r2 score\n",
    "rf = RandomForestRegressor(n_estimators=100,\n",
    "                                       random_state=3,\n",
    "                                       max_samples=0.5,\n",
    "                                       max_features=0.75,\n",
    "                                       max_depth=15)\n",
    "\n",
    "rf.fit(X_train, y_train)\n",
    "y_pred = rf.predict(X_test)\n",
    "print(r2_score(y_test, y_pred))"
   ]
  },
  {
   "cell_type": "code",
   "execution_count": 392,
   "id": "abb17d2c",
   "metadata": {},
   "outputs": [
    {
     "data": {
      "text/plain": [
       "[array([11.25622278]),\n",
       " array([11.228906]),\n",
       " array([10.88554443]),\n",
       " array([11.53708858]),\n",
       " array([11.28362969]),\n",
       " array([10.23240528]),\n",
       " array([11.52403613]),\n",
       " array([11.228906]),\n",
       " array([11.51505407]),\n",
       " array([11.00054847]),\n",
       " array([10.35951034]),\n",
       " array([10.18654807]),\n",
       " array([11.53604378]),\n",
       " array([10.23898865]),\n",
       " array([11.28433442]),\n",
       " array([11.28362969]),\n",
       " array([10.89181902]),\n",
       " array([11.53708858]),\n",
       " array([10.77734084]),\n",
       " array([11.254665]),\n",
       " array([9.76013441]),\n",
       " array([10.95127211]),\n",
       " array([10.18079893]),\n",
       " array([10.99973666]),\n",
       " array([10.99462366]),\n",
       " array([10.21904467]),\n",
       " array([11.228906]),\n",
       " array([10.88713913]),\n",
       " array([10.99717642]),\n",
       " array([10.80776483]),\n",
       " array([9.77074109]),\n",
       " array([10.45093797]),\n",
       " array([10.25234926]),\n",
       " array([11.53708858]),\n",
       " array([11.228906]),\n",
       " array([9.77074109]),\n",
       " array([10.16873968]),\n",
       " array([10.88072118]),\n",
       " array([10.42062296]),\n",
       " array([10.88944963]),\n",
       " array([10.18784943]),\n",
       " array([11.50036893]),\n",
       " array([10.38907094]),\n",
       " array([10.41102966]),\n",
       " array([11.00528601]),\n",
       " array([11.28362969]),\n",
       " array([10.16873968]),\n",
       " array([11.00020459]),\n",
       " array([10.41102966]),\n",
       " array([9.77074109]),\n",
       " array([9.77196759]),\n",
       " array([10.89181902]),\n",
       " array([10.2510479]),\n",
       " array([11.00085842]),\n",
       " array([10.21904467]),\n",
       " array([10.89314679]),\n",
       " array([10.23909678]),\n",
       " array([10.41588217]),\n",
       " array([11.50036893]),\n",
       " array([10.18784943]),\n",
       " array([11.31529336]),\n",
       " array([10.99973666]),\n",
       " array([10.89735718]),\n",
       " array([11.14038547]),\n",
       " array([10.90757675]),\n",
       " array([11.50204591]),\n",
       " array([10.21774331]),\n",
       " array([9.77074109]),\n",
       " array([10.43632029]),\n",
       " array([11.00455713]),\n",
       " array([10.82021015]),\n",
       " array([11.27923959]),\n",
       " array([10.89181902]),\n",
       " array([10.95917949]),\n",
       " array([10.55533172]),\n",
       " array([10.91143396]),\n",
       " array([10.78609023]),\n",
       " array([10.88278995]),\n",
       " array([10.23898865]),\n",
       " array([10.87408733]),\n",
       " array([10.98460082]),\n",
       " array([11.28809987]),\n",
       " array([10.92539388]),\n",
       " array([10.25234926]),\n",
       " array([10.23240528]),\n",
       " array([11.49540575]),\n",
       " array([10.99595529]),\n",
       " array([10.89445345]),\n",
       " array([11.49540575]),\n",
       " array([11.28405886]),\n",
       " array([10.90488793]),\n",
       " array([10.81194617]),\n",
       " array([11.3355525]),\n",
       " array([10.98066136]),\n",
       " array([11.28320962]),\n",
       " array([11.13969163]),\n",
       " array([10.79077012]),\n",
       " array([10.18784943]),\n",
       " array([10.23898865]),\n",
       " array([11.04854792]),\n",
       " array([10.91154774]),\n",
       " array([10.25234926]),\n",
       " array([10.78609023]),\n",
       " array([11.27974054]),\n",
       " array([11.28362969]),\n",
       " array([10.64714009]),\n",
       " array([10.26784443]),\n",
       " array([11.28320962]),\n",
       " array([11.50036893]),\n",
       " array([10.93849677]),\n",
       " array([11.50100111]),\n",
       " array([11.28433442]),\n",
       " array([11.28207191]),\n",
       " array([10.63002202]),\n",
       " array([11.28207191]),\n",
       " array([11.28207191]),\n",
       " array([10.92954776]),\n",
       " array([10.89314679]),\n",
       " array([10.23898865]),\n",
       " array([10.92147423]),\n",
       " array([10.24252234]),\n",
       " array([11.50100111]),\n",
       " array([10.86510681]),\n",
       " array([11.31478975]),\n",
       " array([10.23240528]),\n",
       " array([9.77074109]),\n",
       " array([10.84503163]),\n",
       " array([10.45093797]),\n",
       " array([11.31529336]),\n",
       " array([10.88763768]),\n",
       " array([10.38907094]),\n",
       " array([10.23898865]),\n",
       " array([11.00771301]),\n",
       " array([10.23898865]),\n",
       " array([10.39059127]),\n",
       " array([10.92954776]),\n",
       " array([9.77074109]),\n",
       " array([10.96528463]),\n",
       " array([10.34908282]),\n",
       " array([10.78131308]),\n",
       " array([10.24252234]),\n",
       " array([10.92539388]),\n",
       " array([10.97165045]),\n",
       " array([10.3944479]),\n",
       " array([10.23110392]),\n",
       " array([11.28320962]),\n",
       " array([11.2888046]),\n",
       " array([9.77074109]),\n",
       " array([11.50433073]),\n",
       " array([10.21904467]),\n",
       " array([11.50141373]),\n",
       " array([10.91229367]),\n",
       " array([10.41973853]),\n",
       " array([11.50210203]),\n",
       " array([10.7849049]),\n",
       " array([10.43861421]),\n",
       " array([10.43683087]),\n",
       " array([11.28122267]),\n",
       " array([11.01281679]),\n",
       " array([10.21904467]),\n",
       " array([10.23240528]),\n",
       " array([10.41102966]),\n",
       " array([10.88846689]),\n",
       " array([11.50036893]),\n",
       " array([9.77074109]),\n",
       " array([11.50036893]),\n",
       " array([9.77074109]),\n",
       " array([10.95896268]),\n",
       " array([10.8984185]),\n",
       " array([10.74760958]),\n",
       " array([11.28362969]),\n",
       " array([10.41191409]),\n",
       " array([10.18210029]),\n",
       " array([10.21904467]),\n",
       " array([10.88763768]),\n",
       " array([10.38560791]),\n",
       " array([10.21904467]),\n",
       " array([11.86869494]),\n",
       " array([10.8933175]),\n",
       " array([11.28362969]),\n",
       " array([11.30688471]),\n",
       " array([11.28207191]),\n",
       " array([11.53708858]),\n",
       " array([10.41335011]),\n",
       " array([10.88483553]),\n",
       " array([11.31609154]),\n",
       " array([11.43624357]),\n",
       " array([10.96395989]),\n",
       " array([11.28207191]),\n",
       " array([10.88540108]),\n",
       " array([11.53108061]),\n",
       " array([9.77074109]),\n",
       " array([11.28142236]),\n",
       " array([10.41935677]),\n",
       " array([10.93332285]),\n",
       " array([10.80776483]),\n",
       " array([11.81546325]),\n",
       " array([10.99774153]),\n",
       " array([11.56130506]),\n",
       " array([10.89231758]),\n",
       " array([11.5364564]),\n",
       " array([10.3944479]),\n",
       " array([10.81194617]),\n",
       " array([11.5287695]),\n",
       " array([11.53798402]),\n",
       " array([11.50141373]),\n",
       " array([10.21904467]),\n",
       " array([11.28433442]),\n",
       " array([11.28405886]),\n",
       " array([10.41695934]),\n",
       " array([10.79077012]),\n",
       " array([11.50433073]),\n",
       " array([10.18784943]),\n",
       " array([10.86510681]),\n",
       " array([11.2888046]),\n",
       " array([11.27923959]),\n",
       " array([10.39146837]),\n",
       " array([10.92954776]),\n",
       " array([11.00054847]),\n",
       " array([11.51505407]),\n",
       " array([10.86510681]),\n",
       " array([10.99973666]),\n",
       " array([11.28405886]),\n",
       " array([10.80957677]),\n",
       " array([11.74105229]),\n",
       " array([10.89181902]),\n",
       " array([11.27457976]),\n",
       " array([10.89218219]),\n",
       " array([10.89301396]),\n",
       " array([10.83167489]),\n",
       " array([10.21904467]),\n",
       " array([10.23240528]),\n",
       " array([11.5287695]),\n",
       " array([10.92620569]),\n",
       " array([11.00054847]),\n",
       " array([11.30441735]),\n",
       " array([10.16873968]),\n",
       " array([10.25234926]),\n",
       " array([11.86869494]),\n",
       " array([10.97689972]),\n",
       " array([10.41164995]),\n",
       " array([10.88107773]),\n",
       " array([10.86161662]),\n",
       " array([10.97689972]),\n",
       " array([11.27974054]),\n",
       " array([10.87826867]),\n",
       " array([10.38907094]),\n",
       " array([11.68445904]),\n",
       " array([10.74760958]),\n",
       " array([11.28809987]),\n",
       " array([10.91841222]),\n",
       " array([11.70454895]),\n",
       " array([10.42631199]),\n",
       " array([11.28852903]),\n",
       " array([10.24252234]),\n",
       " array([11.27685081]),\n",
       " array([10.41263208]),\n",
       " array([11.27601028]),\n",
       " array([11.70386432]),\n",
       " array([10.9968756]),\n",
       " array([10.88540108]),\n",
       " array([10.18784943]),\n",
       " array([10.41191409]),\n",
       " array([10.41102966]),\n",
       " array([10.80726627]),\n",
       " array([10.98967628]),\n",
       " array([11.2876798]),\n",
       " array([10.34908282]),\n",
       " array([10.81244472]),\n",
       " array([10.8963403]),\n",
       " array([11.28809987]),\n",
       " array([11.52816207]),\n",
       " array([10.87111447]),\n",
       " array([11.53708858]),\n",
       " array([10.39059127]),\n",
       " array([10.42321986]),\n",
       " array([10.86287419]),\n",
       " array([10.81194617]),\n",
       " array([10.2373318]),\n",
       " array([10.79730381]),\n",
       " array([10.36577462]),\n",
       " array([10.18784943]),\n",
       " array([10.97689972]),\n",
       " array([10.41102966]),\n",
       " array([10.90259984]),\n",
       " array([10.84361172]),\n",
       " array([10.91154774]),\n",
       " array([10.98563163]),\n",
       " array([11.50036893]),\n",
       " array([10.79077012]),\n",
       " array([9.76013441]),\n",
       " array([10.9280935]),\n",
       " array([10.38887704]),\n",
       " array([10.89686209]),\n",
       " array([10.8916604]),\n",
       " array([10.93506014]),\n",
       " array([10.86978671]),\n",
       " array([11.68498459]),\n",
       " array([10.25234926]),\n",
       " array([11.50204591]),\n",
       " array([10.59946361]),\n",
       " array([11.50433073]),\n",
       " array([10.40980697]),\n",
       " array([10.38907094]),\n",
       " array([10.95896268]),\n",
       " array([9.77074109]),\n",
       " array([11.51400927]),\n",
       " array([10.89181902]),\n",
       " array([10.87358878]),\n",
       " array([10.23768729]),\n",
       " array([11.14739649]),\n",
       " array([11.53108061]),\n",
       " array([11.50210203]),\n",
       " array([10.8864211]),\n",
       " array([9.7613609]),\n",
       " array([10.87358878]),\n",
       " array([11.53108061]),\n",
       " array([9.77074109]),\n",
       " array([10.91546739]),\n",
       " array([9.77074109]),\n",
       " array([11.13160932]),\n",
       " array([10.40980697]),\n",
       " array([10.90493561]),\n",
       " array([10.39059127]),\n",
       " array([10.41624131]),\n",
       " array([9.77074109]),\n",
       " array([10.3944479]),\n",
       " array([10.9933222]),\n",
       " array([11.28433442]),\n",
       " array([11.53588961]),\n",
       " array([10.99249766]),\n",
       " array([10.89218219]),\n",
       " array([10.90493561]),\n",
       " array([10.26784443]),\n",
       " array([10.98459028]),\n",
       " array([11.13120749]),\n",
       " array([10.95825038]),\n",
       " array([10.91679433]),\n",
       " array([9.77074109]),\n",
       " array([10.89218219]),\n",
       " array([9.77074109]),\n",
       " array([10.8363462]),\n",
       " array([10.80082739]),\n",
       " array([11.53708858]),\n",
       " array([11.28405886]),\n",
       " array([11.50036893]),\n",
       " array([9.76013441]),\n",
       " array([11.50204591]),\n",
       " array([9.77196759]),\n",
       " array([10.91072166]),\n",
       " array([11.43624357]),\n",
       " array([10.92147423]),\n",
       " array([10.96687006]),\n",
       " array([11.38775293]),\n",
       " array([11.31478975]),\n",
       " array([10.88278995]),\n",
       " array([9.77074109]),\n",
       " array([10.90750503]),\n",
       " array([10.38907094]),\n",
       " array([11.14739649]),\n",
       " array([10.21774331]),\n",
       " array([10.90078174]),\n",
       " array([10.40980697]),\n",
       " array([10.82770389]),\n",
       " array([10.41525918]),\n",
       " array([10.38835291]),\n",
       " array([10.88072118]),\n",
       " array([10.93833228]),\n",
       " array([10.89181902]),\n",
       " array([11.28405886]),\n",
       " array([11.07129104]),\n",
       " array([10.23240528]),\n",
       " array([11.55604768]),\n",
       " array([10.2506924]),\n",
       " array([11.0069012]),\n",
       " array([10.25245739]),\n",
       " array([9.77142352]),\n",
       " array([9.77074109]),\n",
       " array([9.77074109]),\n",
       " array([10.79077012]),\n",
       " array([10.98591131]),\n",
       " array([10.21769197]),\n",
       " array([10.95896268]),\n",
       " array([10.995637]),\n",
       " array([11.51505407]),\n",
       " array([11.2888046]),\n",
       " array([10.5756363]),\n",
       " array([11.31364542]),\n",
       " array([11.38468024]),\n",
       " array([11.53708858]),\n",
       " array([10.9280935]),\n",
       " array([11.52677828]),\n",
       " array([10.42272703]),\n",
       " array([10.99249766]),\n",
       " array([10.86978671]),\n",
       " array([10.25447712]),\n",
       " array([10.89412952]),\n",
       " array([10.91546739]),\n",
       " array([11.39602635]),\n",
       " array([11.53108061]),\n",
       " array([9.77074109]),\n",
       " array([11.50433073]),\n",
       " array([10.88944963]),\n",
       " array([10.86978671]),\n",
       " array([11.50210203]),\n",
       " array([11.2876798]),\n",
       " array([11.51505407]),\n",
       " array([11.28852903]),\n",
       " array([10.23898865]),\n",
       " array([9.76013441]),\n",
       " array([11.38997675]),\n",
       " array([11.02877046]),\n",
       " array([10.23898865]),\n",
       " array([11.00771301]),\n",
       " array([11.28122267]),\n",
       " array([10.34908282]),\n",
       " array([10.44456655]),\n",
       " array([11.27923959]),\n",
       " array([10.38907094]),\n",
       " array([11.0069012]),\n",
       " array([11.53708858]),\n",
       " array([9.77074109]),\n",
       " array([10.89181902]),\n",
       " array([10.77734084]),\n",
       " array([11.74262923]),\n",
       " array([10.95982238]),\n",
       " array([10.8963403]),\n",
       " array([10.99477318]),\n",
       " array([11.09210382]),\n",
       " array([9.77196759]),\n",
       " array([9.77074109]),\n",
       " array([11.14163654]),\n",
       " array([10.44390188]),\n",
       " array([11.53729572]),\n",
       " array([11.31478975]),\n",
       " array([11.00020459]),\n",
       " array([9.77074109]),\n",
       " array([11.53708858]),\n",
       " array([11.58048372]),\n",
       " array([10.37051709]),\n",
       " array([10.39162204]),\n",
       " array([10.41102966]),\n",
       " array([11.28362969]),\n",
       " array([9.77142352]),\n",
       " array([10.96159577]),\n",
       " array([10.92539388]),\n",
       " array([10.33333528]),\n",
       " array([11.31478995]),\n",
       " array([10.97689972]),\n",
       " array([11.53708858]),\n",
       " array([10.41335011]),\n",
       " array([11.50232542]),\n",
       " array([11.38919411]),\n",
       " array([10.92539388]),\n",
       " array([10.87826867]),\n",
       " array([9.77196759]),\n",
       " array([10.83399766]),\n",
       " array([9.77265001]),\n",
       " array([11.28433442]),\n",
       " array([10.41890053]),\n",
       " array([10.23898865]),\n",
       " array([9.77142352]),\n",
       " array([10.80726627]),\n",
       " array([10.97869233]),\n",
       " array([10.8971953]),\n",
       " array([9.77074109]),\n",
       " array([10.21904467]),\n",
       " array([10.81178755]),\n",
       " array([11.05498474]),\n",
       " array([11.31884541]),\n",
       " array([11.2888046]),\n",
       " array([10.82699499]),\n",
       " array([11.25557324]),\n",
       " array([11.27685081]),\n",
       " array([11.0175117]),\n",
       " array([10.61875604]),\n",
       " array([11.38480292]),\n",
       " array([10.92200185]),\n",
       " array([10.80726627]),\n",
       " array([11.14739649]),\n",
       " array([10.89314679]),\n",
       " array([10.21904467]),\n",
       " array([10.74760958]),\n",
       " array([9.77074109]),\n",
       " array([10.21904467]),\n",
       " array([10.92539388]),\n",
       " array([11.50337022]),\n",
       " array([11.31725712]),\n",
       " array([11.51843719]),\n",
       " array([11.51843719]),\n",
       " array([10.88713913]),\n",
       " array([11.64319896]),\n",
       " array([10.95896268]),\n",
       " array([10.38835291]),\n",
       " array([11.74778522]),\n",
       " array([11.24015158]),\n",
       " array([10.8922391]),\n",
       " array([11.1153024]),\n",
       " array([11.14123471]),\n",
       " array([10.88713913]),\n",
       " array([9.77074109]),\n",
       " array([10.41695934]),\n",
       " array([11.27685081]),\n",
       " array([9.77074109]),\n",
       " array([9.77074109]),\n",
       " array([11.13120749]),\n",
       " array([10.89686209]),\n",
       " array([10.41102966]),\n",
       " array([11.28852903]),\n",
       " array([10.97165045]),\n",
       " array([11.254665]),\n",
       " array([10.36743147]),\n",
       " array([10.80726627]),\n",
       " array([11.31478975]),\n",
       " array([11.30954013]),\n",
       " array([9.76013441]),\n",
       " array([10.4114979]),\n",
       " array([11.5455936]),\n",
       " array([10.8916604]),\n",
       " array([11.52677828]),\n",
       " array([11.00512998]),\n",
       " array([11.28405886]),\n",
       " array([10.92539388]),\n",
       " array([10.43987459]),\n",
       " array([10.85819429]),\n",
       " array([10.90025995]),\n",
       " array([10.36743147]),\n",
       " array([10.38560791]),\n",
       " array([10.41102966]),\n",
       " array([10.90686785]),\n",
       " array([11.73753364]),\n",
       " array([10.81230934]),\n",
       " array([11.00027937]),\n",
       " array([9.77074109]),\n",
       " array([10.95127211]),\n",
       " array([10.91154774]),\n",
       " array([10.88713913]),\n",
       " array([9.77142352]),\n",
       " array([11.00431816]),\n",
       " array([10.92033017]),\n",
       " array([11.28433442]),\n",
       " array([10.47307547]),\n",
       " array([11.28433442]),\n",
       " array([10.89117578]),\n",
       " array([10.23240528]),\n",
       " array([10.23898865]),\n",
       " array([10.43941657]),\n",
       " array([10.34908282]),\n",
       " array([10.23768729]),\n",
       " array([10.89686209]),\n",
       " array([10.23898865]),\n",
       " array([10.90686785]),\n",
       " array([11.74105229]),\n",
       " array([10.38887704]),\n",
       " array([10.81566734]),\n",
       " array([9.77074109]),\n",
       " array([9.77074109]),\n",
       " array([10.36577462]),\n",
       " array([10.25599108]),\n",
       " array([10.21904467]),\n",
       " array([9.77196759]),\n",
       " array([10.23898865]),\n",
       " array([11.53708858]),\n",
       " array([10.91191653]),\n",
       " array([10.87358878]),\n",
       " array([11.25622278]),\n",
       " array([10.42183711]),\n",
       " array([10.38907094]),\n",
       " array([9.77074109]),\n",
       " array([10.43246394]),\n",
       " array([10.78571362]),\n",
       " array([10.56922599]),\n",
       " array([10.25668018]),\n",
       " array([10.88713913]),\n",
       " array([10.42719524]),\n",
       " array([9.77074109]),\n",
       " array([11.51505407]),\n",
       " array([11.86869494]),\n",
       " array([11.70386432]),\n",
       " array([10.86978671]),\n",
       " array([9.77074109]),\n",
       " array([10.38907094]),\n",
       " array([10.57621779]),\n",
       " array([11.31991253]),\n",
       " array([9.77074109]),\n",
       " array([11.73753364]),\n",
       " array([11.68445904]),\n",
       " array([11.31746887]),\n",
       " array([10.42321986]),\n",
       " array([10.95917949]),\n",
       " array([10.6503555]),\n",
       " array([10.9168265]),\n",
       " array([9.77265001]),\n",
       " array([11.30166143]),\n",
       " array([10.18784943]),\n",
       " array([10.38560791]),\n",
       " array([11.28852903]),\n",
       " array([10.92539388]),\n",
       " array([11.28362969]),\n",
       " array([11.38468024]),\n",
       " array([10.92147423]),\n",
       " array([10.21904467]),\n",
       " array([9.77074109]),\n",
       " array([11.70034567]),\n",
       " array([10.16873968]),\n",
       " array([11.53604378]),\n",
       " array([10.89181902]),\n",
       " array([10.41102966]),\n",
       " array([10.99199057]),\n",
       " array([9.77074109]),\n",
       " array([11.53212045]),\n",
       " array([11.48836127]),\n",
       " array([10.16873968]),\n",
       " array([10.16873968]),\n",
       " array([10.3607245]),\n",
       " array([10.97297519]),\n",
       " array([10.34908282]),\n",
       " array([11.00084032]),\n",
       " array([11.50433073]),\n",
       " array([9.77196759]),\n",
       " array([10.61986104]),\n",
       " array([10.92539388]),\n",
       " array([10.41102966]),\n",
       " array([10.41695934]),\n",
       " array([10.42062296]),\n",
       " array([10.81194617]),\n",
       " array([9.76013441]),\n",
       " array([10.34908282]),\n",
       " array([10.73901367]),\n",
       " array([10.89686209]),\n",
       " array([11.51505407]),\n",
       " array([11.50036893]),\n",
       " array([10.55581031]),\n",
       " array([10.23898865]),\n",
       " array([10.38835291]),\n",
       " array([10.81230934]),\n",
       " array([11.28362969]),\n",
       " array([9.76013441]),\n",
       " array([11.28405886]),\n",
       " array([11.42574034]),\n",
       " array([10.95896268]),\n",
       " array([10.39162204]),\n",
       " array([11.51505407]),\n",
       " array([10.89886634]),\n",
       " array([10.21904467]),\n",
       " array([9.77074109]),\n",
       " array([10.99973666]),\n",
       " array([11.51400927]),\n",
       " array([11.14739649]),\n",
       " array([11.28433442]),\n",
       " array([11.82495818]),\n",
       " array([10.89117578]),\n",
       " array([11.28207191]),\n",
       " array([10.95896268]),\n",
       " array([10.16743832]),\n",
       " array([10.81230934]),\n",
       " array([10.89181902]),\n",
       " array([11.31478975]),\n",
       " array([10.98200469]),\n",
       " array([11.87140366]),\n",
       " array([10.93498819]),\n",
       " array([9.77074109]),\n",
       " array([10.41102966]),\n",
       " array([10.23898865]),\n",
       " array([10.96687006]),\n",
       " array([10.21904467]),\n",
       " array([10.81178755]),\n",
       " array([10.81425667]),\n",
       " array([10.89218219]),\n",
       " array([10.16873968]),\n",
       " array([11.28433442]),\n",
       " array([10.8933175]),\n",
       " array([11.28207191]),\n",
       " array([10.23240528]),\n",
       " array([10.46337222]),\n",
       " array([11.50036893]),\n",
       " array([11.28122267]),\n",
       " array([11.22265116]),\n",
       " array([11.27454164]),\n",
       " array([11.49901441]),\n",
       " array([10.97689972]),\n",
       " array([9.77142352]),\n",
       " array([11.54735109]),\n",
       " array([10.24252234]),\n",
       " array([11.28852903]),\n",
       " array([11.68366027]),\n",
       " array([10.42062296]),\n",
       " array([10.21904467]),\n",
       " array([10.25588295]),\n",
       " array([9.77074109]),\n",
       " array([9.77074109]),\n",
       " array([10.61587706]),\n",
       " array([11.34485568]),\n",
       " array([11.28273756]),\n",
       " array([10.995637]),\n",
       " array([9.77074109]),\n",
       " array([11.51505407]),\n",
       " array([9.77196759]),\n",
       " array([11.51505407]),\n",
       " array([10.37096516]),\n",
       " array([10.90374339]),\n",
       " array([10.25234926]),\n",
       " array([10.38835291]),\n",
       " array([10.41102966]),\n",
       " array([10.16743832]),\n",
       " array([10.88713913]),\n",
       " array([11.00054847]),\n",
       " array([11.50337022]),\n",
       " array([10.92539388]),\n",
       " array([10.25588295]),\n",
       " array([10.95896268]),\n",
       " array([10.90336157]),\n",
       " array([10.79113329]),\n",
       " array([9.77074109]),\n",
       " array([11.31991253]),\n",
       " array([10.91617629]),\n",
       " array([10.90686785]),\n",
       " array([10.23240528]),\n",
       " array([9.77074109]),\n",
       " array([10.89554019]),\n",
       " array([11.2888046]),\n",
       " array([10.97706341]),\n",
       " array([11.28207191]),\n",
       " array([11.86726068]),\n",
       " array([10.96687006]),\n",
       " array([10.35862591]),\n",
       " array([10.87358878]),\n",
       " array([10.44036819]),\n",
       " array([10.38907094]),\n",
       " array([10.25234926]),\n",
       " array([11.70103029]),\n",
       " array([10.42272703]),\n",
       " array([10.25234926]),\n",
       " array([10.3944479]),\n",
       " array([11.13120749]),\n",
       " array([10.39031354]),\n",
       " array([11.50169324]),\n",
       " array([10.97967371]),\n",
       " array([11.50100111]),\n",
       " array([10.21904467]),\n",
       " array([10.88331174]),\n",
       " array([10.41525918]),\n",
       " array([11.14830836]),\n",
       " array([10.99973666]),\n",
       " array([11.53128775]),\n",
       " array([9.76013441]),\n",
       " array([11.51400927]),\n",
       " array([10.90059023]),\n",
       " array([10.63662239]),\n",
       " array([11.52749517]),\n",
       " array([9.77265001]),\n",
       " array([10.91679433]),\n",
       " array([10.33333528]),\n",
       " array([10.61946889]),\n",
       " array([10.34794941]),\n",
       " array([11.28362969]),\n",
       " array([10.87358878]),\n",
       " array([11.38731333]),\n",
       " array([11.74376101]),\n",
       " array([10.3944479]),\n",
       " array([10.95896268]),\n",
       " array([11.51739239]),\n",
       " array([11.28298014]),\n",
       " array([11.28278045]),\n",
       " array([10.44456655]),\n",
       " array([10.6398116]),\n",
       " array([9.77074109]),\n",
       " array([11.53044843]),\n",
       " array([11.28405886]),\n",
       " array([9.77074109]),\n",
       " array([11.31478975]),\n",
       " array([11.50787177]),\n",
       " array([10.60678934]),\n",
       " array([10.91229367]),\n",
       " array([10.8179983]),\n",
       " array([11.00392733]),\n",
       " array([11.43247441]),\n",
       " array([10.38618979]),\n",
       " array([11.51505407]),\n",
       " array([10.87791381]),\n",
       " array([11.86517629]),\n",
       " array([11.70454895]),\n",
       " array([11.51505407]),\n",
       " array([10.38835291]),\n",
       " array([11.51505407]),\n",
       " array([11.51400927]),\n",
       " array([10.95127211]),\n",
       " array([10.37096516]),\n",
       " array([11.70454895]),\n",
       " array([10.97775943]),\n",
       " array([10.95896268]),\n",
       " array([9.77074109]),\n",
       " array([11.28852903]),\n",
       " array([10.98430001]),\n",
       " array([11.24568193]),\n",
       " array([11.281631]),\n",
       " array([9.77074109]),\n",
       " array([10.41335011]),\n",
       " array([11.27974054]),\n",
       " array([10.88519567]),\n",
       " array([11.40262697]),\n",
       " array([10.88713913]),\n",
       " array([11.28207191]),\n",
       " array([10.99742729]),\n",
       " array([9.77142352]),\n",
       " array([11.26755849]),\n",
       " array([10.3944479]),\n",
       " array([10.38835291]),\n",
       " array([11.5364564]),\n",
       " array([10.41102966]),\n",
       " array([11.05498474]),\n",
       " array([11.50485844]),\n",
       " array([11.28207191]),\n",
       " array([10.81698923]),\n",
       " array([10.88713913]),\n",
       " array([11.28405886]),\n",
       " array([11.53708858]),\n",
       " array([9.77074109]),\n",
       " array([11.73690931]),\n",
       " array([10.56350457]),\n",
       " array([10.21904467]),\n",
       " array([10.81711388]),\n",
       " array([11.28852903]),\n",
       " array([10.97689972]),\n",
       " array([11.24341941]),\n",
       " array([9.77142352]),\n",
       " array([11.28122267]),\n",
       " array([10.38988312]),\n",
       " array([9.77074109]),\n",
       " array([10.97665866]),\n",
       " array([11.81950302]),\n",
       " array([11.53708858]),\n",
       " array([10.34908282]),\n",
       " array([10.92539388]),\n",
       " array([11.14739649]),\n",
       " array([11.55399463]),\n",
       " array([11.50433073]),\n",
       " array([10.21904467]),\n",
       " array([9.77074109]),\n",
       " array([10.80726627]),\n",
       " array([11.50141373]),\n",
       " array([11.86869494]),\n",
       " array([10.39234007]),\n",
       " array([10.41335011]),\n",
       " array([11.15139203]),\n",
       " array([10.36743147]),\n",
       " array([9.77196759]),\n",
       " array([11.2740588]),\n",
       " array([11.28207191]),\n",
       " array([11.15139203]),\n",
       " array([9.77142352]),\n",
       " array([11.49603793]),\n",
       " array([10.79730381]),\n",
       " array([11.00556957]),\n",
       " array([10.89181902]),\n",
       " array([10.8933175]),\n",
       " array([9.77074109]),\n",
       " array([11.28405886]),\n",
       " array([10.8459435]),\n",
       " array([10.18784943]),\n",
       " array([10.80726627]),\n",
       " array([10.91679433]),\n",
       " array([10.81661833]),\n",
       " array([10.89117578]),\n",
       " array([11.53708858]),\n",
       " array([10.4272589]),\n",
       " array([11.26363277]),\n",
       " array([11.28405886]),\n",
       " array([10.93498819]),\n",
       " array([11.32386685]),\n",
       " array([10.3944479]),\n",
       " array([10.18784943]),\n",
       " array([10.89686209]),\n",
       " array([10.60149632]),\n",
       " array([11.50787177]),\n",
       " array([11.02334793]),\n",
       " array([9.77074109]),\n",
       " array([11.28207191]),\n",
       " array([10.41102966]),\n",
       " array([10.42807967]),\n",
       " array([10.81750276]),\n",
       " array([10.39533233]),\n",
       " array([9.77074109]),\n",
       " array([10.81194617]),\n",
       " array([9.77074109]),\n",
       " array([10.81750276]),\n",
       " array([10.16873968]),\n",
       " array([11.03940005]),\n",
       " array([9.77074109]),\n",
       " array([10.2506924]),\n",
       " array([10.44239958]),\n",
       " array([11.53604378]),\n",
       " array([11.27888679]),\n",
       " array([11.28207191]),\n",
       " array([11.5364564]),\n",
       " array([11.14739649]),\n",
       " array([10.89928646]),\n",
       " array([10.81646745]),\n",
       " array([10.21904467]),\n",
       " array([10.82699499]),\n",
       " array([11.2888046]),\n",
       " array([11.81130292]),\n",
       " array([11.51400927]),\n",
       " array([11.24540636]),\n",
       " array([10.90686785]),\n",
       " array([11.50204591]),\n",
       " array([11.2888046]),\n",
       " array([9.77074109]),\n",
       " array([10.87402837]),\n",
       " array([11.28852903]),\n",
       " array([10.92620569]),\n",
       " array([11.28433442]),\n",
       " array([10.36743147]),\n",
       " array([10.8963403]),\n",
       " array([10.23898865]),\n",
       " array([10.78042865]),\n",
       " array([10.99774153]),\n",
       " array([11.50036893]),\n",
       " array([11.49540575]),\n",
       " array([10.95127211]),\n",
       " array([10.3944479]),\n",
       " array([10.99595529]),\n",
       " array([11.28323851]),\n",
       " array([11.31478975]),\n",
       " array([11.28654208]),\n",
       " array([10.42183711]),\n",
       " array([11.28433442]),\n",
       " array([10.88713913]),\n",
       " array([10.3944479]),\n",
       " array([10.43930331]),\n",
       " array([9.77074109]),\n",
       " array([10.82109458]),\n",
       " array([9.77074109]),\n",
       " array([11.53108061]),\n",
       " array([10.78042865]),\n",
       " array([11.28362969]),\n",
       " array([10.21904467]),\n",
       " array([10.95896268]),\n",
       " array([11.28207191]),\n",
       " array([11.7420049]),\n",
       " array([10.96181258]),\n",
       " array([9.77074109]),\n",
       " array([10.3944479]),\n",
       " array([10.41695934]),\n",
       " array([11.28433442]),\n",
       " array([11.5008063]),\n",
       " array([11.28362969]),\n",
       " array([10.79077012]),\n",
       " array([10.2373318]),\n",
       " array([9.77074109]),\n",
       " array([11.34587295]),\n",
       " array([11.28405886]),\n",
       " array([11.14739649]),\n",
       " array([11.24418314]),\n",
       " array([11.0069012]),\n",
       " array([11.74313668]),\n",
       " array([11.28207191]),\n",
       " array([9.77265001]),\n",
       " array([11.28433442]),\n",
       " array([9.77196759]),\n",
       " array([11.14739649]),\n",
       " array([11.28362969]),\n",
       " array([10.90399418]),\n",
       " array([11.2888046]),\n",
       " array([10.38907094]),\n",
       " array([10.16873968]),\n",
       " array([10.41973853]),\n",
       " array([10.23898865]),\n",
       " array([11.86869494]),\n",
       " array([10.41102966]),\n",
       " array([11.53708858]),\n",
       " array([11.16135108]),\n",
       " array([11.86869494]),\n",
       " array([10.91546739]),\n",
       " array([11.50036893]),\n",
       " array([10.87811006]),\n",
       " array([10.61278079]),\n",
       " array([11.5364564]),\n",
       " array([10.34794941]),\n",
       " array([11.51323672]),\n",
       " array([11.07129104]),\n",
       " array([10.81661833]),\n",
       " array([10.25234926]),\n",
       " array([10.3944479]),\n",
       " array([10.60678934]),\n",
       " array([10.3944479]),\n",
       " array([10.81178755]),\n",
       " array([10.95896268]),\n",
       " array([10.39059127]),\n",
       " array([10.91265535]),\n",
       " array([11.2888046]),\n",
       " array([10.23898865]),\n",
       " array([9.77142352]),\n",
       " array([10.88713913]),\n",
       " array([10.99973666]),\n",
       " array([11.20968212]),\n",
       " array([11.28405886]),\n",
       " array([9.77074109]),\n",
       " array([11.50036893]),\n",
       " array([11.27729681]),\n",
       " ...]"
      ]
     },
     "execution_count": 392,
     "metadata": {},
     "output_type": "execute_result"
    }
   ],
   "source": [
    "predicted = []\n",
    "testtrain = np.array(x)\n",
    "for i in range(len(testtrain)):\n",
    "    predicted.append(rf.predict([testtrain[i]]))\n",
    "\n",
    "predicted"
   ]
  },
  {
   "cell_type": "code",
   "execution_count": 395,
   "id": "bd892c36",
   "metadata": {},
   "outputs": [
    {
     "data": {
      "text/html": [
       "<div>\n",
       "<style scoped>\n",
       "    .dataframe tbody tr th:only-of-type {\n",
       "        vertical-align: middle;\n",
       "    }\n",
       "\n",
       "    .dataframe tbody tr th {\n",
       "        vertical-align: top;\n",
       "    }\n",
       "\n",
       "    .dataframe thead th {\n",
       "        text-align: right;\n",
       "    }\n",
       "</style>\n",
       "<table border=\"1\" class=\"dataframe\">\n",
       "  <thead>\n",
       "    <tr style=\"text-align: right;\">\n",
       "      <th></th>\n",
       "      <th>Company</th>\n",
       "      <th>TypeName</th>\n",
       "      <th>Ram</th>\n",
       "      <th>OpSys</th>\n",
       "      <th>Weight</th>\n",
       "      <th>Price</th>\n",
       "      <th>Touchscreen</th>\n",
       "      <th>IPS</th>\n",
       "      <th>PPI</th>\n",
       "      <th>CPU_name</th>\n",
       "      <th>HDD</th>\n",
       "      <th>SSD</th>\n",
       "      <th>Gpu_brand</th>\n",
       "      <th>Predicted Price</th>\n",
       "    </tr>\n",
       "  </thead>\n",
       "  <tbody>\n",
       "    <tr>\n",
       "      <th>0</th>\n",
       "      <td>Apple</td>\n",
       "      <td>Ultrabook</td>\n",
       "      <td>8</td>\n",
       "      <td>Mac</td>\n",
       "      <td>1.37</td>\n",
       "      <td>71378.6832</td>\n",
       "      <td>0</td>\n",
       "      <td>1</td>\n",
       "      <td>226.983005</td>\n",
       "      <td>Intel Core i5</td>\n",
       "      <td>0</td>\n",
       "      <td>128</td>\n",
       "      <td>Intel</td>\n",
       "      <td>77359.818485</td>\n",
       "    </tr>\n",
       "    <tr>\n",
       "      <th>1</th>\n",
       "      <td>Apple</td>\n",
       "      <td>Ultrabook</td>\n",
       "      <td>8</td>\n",
       "      <td>Mac</td>\n",
       "      <td>1.34</td>\n",
       "      <td>47895.5232</td>\n",
       "      <td>0</td>\n",
       "      <td>0</td>\n",
       "      <td>127.677940</td>\n",
       "      <td>Intel Core i5</td>\n",
       "      <td>0</td>\n",
       "      <td>0</td>\n",
       "      <td>Intel</td>\n",
       "      <td>75275.199070</td>\n",
       "    </tr>\n",
       "    <tr>\n",
       "      <th>2</th>\n",
       "      <td>HP</td>\n",
       "      <td>Notebook</td>\n",
       "      <td>8</td>\n",
       "      <td>Other</td>\n",
       "      <td>1.86</td>\n",
       "      <td>30636.0000</td>\n",
       "      <td>0</td>\n",
       "      <td>0</td>\n",
       "      <td>141.211998</td>\n",
       "      <td>Intel Core i5</td>\n",
       "      <td>0</td>\n",
       "      <td>256</td>\n",
       "      <td>Intel</td>\n",
       "      <td>53398.847018</td>\n",
       "    </tr>\n",
       "    <tr>\n",
       "      <th>3</th>\n",
       "      <td>Apple</td>\n",
       "      <td>Ultrabook</td>\n",
       "      <td>16</td>\n",
       "      <td>Mac</td>\n",
       "      <td>1.83</td>\n",
       "      <td>135195.3360</td>\n",
       "      <td>0</td>\n",
       "      <td>1</td>\n",
       "      <td>220.534624</td>\n",
       "      <td>Intel Core i7</td>\n",
       "      <td>0</td>\n",
       "      <td>512</td>\n",
       "      <td>AMD</td>\n",
       "      <td>102445.741242</td>\n",
       "    </tr>\n",
       "    <tr>\n",
       "      <th>4</th>\n",
       "      <td>Apple</td>\n",
       "      <td>Ultrabook</td>\n",
       "      <td>8</td>\n",
       "      <td>Mac</td>\n",
       "      <td>1.37</td>\n",
       "      <td>96095.8080</td>\n",
       "      <td>0</td>\n",
       "      <td>1</td>\n",
       "      <td>226.983005</td>\n",
       "      <td>Intel Core i5</td>\n",
       "      <td>0</td>\n",
       "      <td>256</td>\n",
       "      <td>Intel</td>\n",
       "      <td>79509.333274</td>\n",
       "    </tr>\n",
       "  </tbody>\n",
       "</table>\n",
       "</div>"
      ],
      "text/plain": [
       "  Company   TypeName  Ram  OpSys  Weight        Price  Touchscreen  IPS  \\\n",
       "0   Apple  Ultrabook    8    Mac    1.37   71378.6832            0    1   \n",
       "1   Apple  Ultrabook    8    Mac    1.34   47895.5232            0    0   \n",
       "2      HP   Notebook    8  Other    1.86   30636.0000            0    0   \n",
       "3   Apple  Ultrabook   16    Mac    1.83  135195.3360            0    1   \n",
       "4   Apple  Ultrabook    8    Mac    1.37   96095.8080            0    1   \n",
       "\n",
       "          PPI       CPU_name  HDD  SSD Gpu_brand  Predicted Price  \n",
       "0  226.983005  Intel Core i5    0  128     Intel     77359.818485  \n",
       "1  127.677940  Intel Core i5    0    0     Intel     75275.199070  \n",
       "2  141.211998  Intel Core i5    0  256     Intel     53398.847018  \n",
       "3  220.534624  Intel Core i7    0  512       AMD    102445.741242  \n",
       "4  226.983005  Intel Core i5    0  256     Intel     79509.333274  "
      ]
     },
     "execution_count": 395,
     "metadata": {},
     "output_type": "execute_result"
    }
   ],
   "source": [
    "pred_final = [np.exp(predicted[i][0]) for i in range(len(predicted))]\n",
    "df['Predicted Price'] = np.array(pred_final)\n",
    "df.head()"
   ]
  },
  {
   "cell_type": "code",
   "execution_count": 409,
   "id": "7677cbd8",
   "metadata": {
    "scrolled": true
   },
   "outputs": [
    {
     "data": {
      "image/png": "[encoded data removed]",
      "text/plain": [
       "<Figure size 432x288 with 1 Axes>"
      ]
     },
     "metadata": {},
     "output_type": "display_data"
    }
   ],
   "source": [
    "sns.distplot(df['Price'], hist=False, color='green', label='Actual')\n",
    "sns.distplot(df['Predicted Price'], hist=False, color='red', label='Predicted')\n",
    "plt.legend()\n",
    "plt.show()"
   ]
  },
  {
   "cell_type": "code",
   "execution_count": 408,
   "id": "a9baa099",
   "metadata": {},
   "outputs": [],
   "source": [
    "import pickle\n",
    "file = open('laptoppricepredictor.pkl', 'wb')\n",
    "pickle.dump(rf, file)\n",
    "file.close()"
   ]
  },
  {
   "cell_type": "code",
   "execution_count": null,
   "id": "50abbfed",
   "metadata": {},
   "outputs": [],
   "source": []
  }
 ],
 "metadata": {
  "kernelspec": {
   "display_name": "Python [conda env:py3-TF2.0] *",
   "language": "python",
   "name": "conda-env-py3-TF2.0-py"
  },
  "language_info": {
   "codemirror_mode": {
    "name": "ipython",
    "version": 3
   },
   "file_extension": ".py",
   "mimetype": "text/x-python",
   "name": "python",
   "nbconvert_exporter": "python",
   "pygments_lexer": "ipython3",
   "version": "3.8.13"
  }
 },
 "nbformat": 4,
 "nbformat_minor": 5
}
